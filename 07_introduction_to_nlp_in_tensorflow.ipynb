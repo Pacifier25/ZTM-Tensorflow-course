{
  "nbformat": 4,
  "nbformat_minor": 0,
  "metadata": {
    "colab": {
      "name": "07_introduction_to_nlp_in_tensorflow.ipynb",
      "provenance": [],
      "toc_visible": true,
      "authorship_tag": "ABX9TyMZRDZgsvADfBERGiPddmPe",
      "include_colab_link": true
    },
    "kernelspec": {
      "name": "python3",
      "display_name": "Python 3"
    },
    "language_info": {
      "name": "python"
    },
    "accelerator": "GPU"
  },
  "cells": [
    {
      "cell_type": "markdown",
      "metadata": {
        "id": "view-in-github",
        "colab_type": "text"
      },
      "source": [
        "<a href=\"https://colab.research.google.com/github/Pacifier25/ZTM-Tensorflow-course/blob/main/07_introduction_to_nlp_in_tensorflow.ipynb\" target=\"_parent\"><img src=\"https://colab.research.google.com/assets/colab-badge.svg\" alt=\"Open In Colab\"/></a>"
      ]
    },
    {
      "cell_type": "markdown",
      "metadata": {
        "id": "5pvC_w7Z3I7n"
      },
      "source": [
        "# Introduction Natural Language Processing Basics in TensorFlow\n",
        "\n",
        "NLP has the goal of deriving information out of natural language(could be text or speech)\n",
        "\n",
        "Another common term of NLP problems is sequence to sequence"
      ]
    },
    {
      "cell_type": "code",
      "metadata": {
        "colab": {
          "base_uri": "https://localhost:8080/"
        },
        "id": "5e9d-mlCkJIQ",
        "outputId": "d634e981-c230-4232-b89b-547a4cf69f44"
      },
      "source": [
        "!nvidia-smi"
      ],
      "execution_count": 1,
      "outputs": [
        {
          "output_type": "stream",
          "text": [
            "Fri May 28 11:02:39 2021       \n",
            "+-----------------------------------------------------------------------------+\n",
            "| NVIDIA-SMI 465.19.01    Driver Version: 460.32.03    CUDA Version: 11.2     |\n",
            "|-------------------------------+----------------------+----------------------+\n",
            "| GPU  Name        Persistence-M| Bus-Id        Disp.A | Volatile Uncorr. ECC |\n",
            "| Fan  Temp  Perf  Pwr:Usage/Cap|         Memory-Usage | GPU-Util  Compute M. |\n",
            "|                               |                      |               MIG M. |\n",
            "|===============================+======================+======================|\n",
            "|   0  Tesla T4            Off  | 00000000:00:04.0 Off |                    0 |\n",
            "| N/A   40C    P8    10W /  70W |      0MiB / 15109MiB |      0%      Default |\n",
            "|                               |                      |                  N/A |\n",
            "+-------------------------------+----------------------+----------------------+\n",
            "                                                                               \n",
            "+-----------------------------------------------------------------------------+\n",
            "| Processes:                                                                  |\n",
            "|  GPU   GI   CI        PID   Type   Process name                  GPU Memory |\n",
            "|        ID   ID                                                   Usage      |\n",
            "|=============================================================================|\n",
            "|  No running processes found                                                 |\n",
            "+-----------------------------------------------------------------------------+\n"
          ],
          "name": "stdout"
        }
      ]
    },
    {
      "cell_type": "markdown",
      "metadata": {
        "id": "scWXgTHf4vQe"
      },
      "source": [
        "# Get helper functions"
      ]
    },
    {
      "cell_type": "code",
      "metadata": {
        "colab": {
          "base_uri": "https://localhost:8080/"
        },
        "id": "mpBXyJWt4k2E",
        "outputId": "18f7d5bb-904a-4456-c003-060e9c89c052"
      },
      "source": [
        "!wget https://raw.githubusercontent.com/Pacifier25/ZTM-Tensorflow-course/main/helper_function/helper.py"
      ],
      "execution_count": 2,
      "outputs": [
        {
          "output_type": "stream",
          "text": [
            "--2021-05-28 11:02:39--  https://raw.githubusercontent.com/Pacifier25/ZTM-Tensorflow-course/main/helper_function/helper.py\n",
            "Resolving raw.githubusercontent.com (raw.githubusercontent.com)... 185.199.109.133, 185.199.110.133, 185.199.111.133, ...\n",
            "Connecting to raw.githubusercontent.com (raw.githubusercontent.com)|185.199.109.133|:443... connected.\n",
            "HTTP request sent, awaiting response... 200 OK\n",
            "Length: 10510 (10K) [text/plain]\n",
            "Saving to: ‘helper.py’\n",
            "\n",
            "helper.py           100%[===================>]  10.26K  --.-KB/s    in 0s      \n",
            "\n",
            "2021-05-28 11:02:39 (112 MB/s) - ‘helper.py’ saved [10510/10510]\n",
            "\n"
          ],
          "name": "stdout"
        }
      ]
    },
    {
      "cell_type": "code",
      "metadata": {
        "id": "g1dUkOia5cpv"
      },
      "source": [
        "# Import series of helper functions for the notebook\n",
        "from helper import unzip_data, create_tensorboard_callback, plot_loss_curves, compare_historys"
      ],
      "execution_count": 3,
      "outputs": []
    },
    {
      "cell_type": "markdown",
      "metadata": {
        "id": "67W6cnef5rIV"
      },
      "source": [
        "## Get a text dataset \n",
        "\n",
        "The data set we are going to use is Kaggle introduction to NLP dataset(text sample to tweets labelled as disaster or non disaster).\n",
        "\n",
        "Here is the data:https://www.kaggle.com/c/nlp-getting-started/data"
      ]
    },
    {
      "cell_type": "code",
      "metadata": {
        "colab": {
          "base_uri": "https://localhost:8080/"
        },
        "id": "56cFkBas5h-g",
        "outputId": "9d3aa396-c274-482d-b4d7-5386b62ea3f7"
      },
      "source": [
        "# Download data (same as from Kaggle)\n",
        "!wget  \"https://storage.googleapis.com/ztm_tf_course/nlp_getting_started.zip\"\n",
        "\n",
        "# Unzip data\n",
        "unzip_data(\"nlp_getting_started.zip\")"
      ],
      "execution_count": 4,
      "outputs": [
        {
          "output_type": "stream",
          "text": [
            "--2021-05-28 11:02:41--  https://storage.googleapis.com/ztm_tf_course/nlp_getting_started.zip\n",
            "Resolving storage.googleapis.com (storage.googleapis.com)... 142.250.141.128, 2607:f8b0:4023:c03::80, 2607:f8b0:4023:c06::80, ...\n",
            "Connecting to storage.googleapis.com (storage.googleapis.com)|142.250.141.128|:443... connected.\n",
            "HTTP request sent, awaiting response... 200 OK\n",
            "Length: 607343 (593K) [application/zip]\n",
            "Saving to: ‘nlp_getting_started.zip’\n",
            "\n",
            "\rnlp_getting_started   0%[                    ]       0  --.-KB/s               \rnlp_getting_started 100%[===================>] 593.11K  --.-KB/s    in 0.005s  \n",
            "\n",
            "2021-05-28 11:02:41 (112 MB/s) - ‘nlp_getting_started.zip’ saved [607343/607343]\n",
            "\n"
          ],
          "name": "stdout"
        }
      ]
    },
    {
      "cell_type": "markdown",
      "metadata": {
        "id": "V9oNgCE_7Of7"
      },
      "source": [
        "# Visualizing a text dataset\n",
        "\n",
        "To visualize our text sample we first have to read them in one way to do so is https://realpython.com/read-write-files-python/\n",
        "\n",
        "But i get to get visual straight away\n",
        "\n",
        "so another way to do se is to use pandas"
      ]
    },
    {
      "cell_type": "code",
      "metadata": {
        "colab": {
          "base_uri": "https://localhost:8080/",
          "height": 195
        },
        "id": "s6pvJ3hM6UN1",
        "outputId": "c4d3161d-e1d4-4a38-f363-9f6b058c7d07"
      },
      "source": [
        "import pandas as pd\n",
        "\n",
        "train_df = pd.read_csv(\"train.csv\")\n",
        "test_df = pd.read_csv(\"test.csv\")\n",
        "train_df.head()"
      ],
      "execution_count": 5,
      "outputs": [
        {
          "output_type": "execute_result",
          "data": {
            "text/html": [
              "<div>\n",
              "<style scoped>\n",
              "    .dataframe tbody tr th:only-of-type {\n",
              "        vertical-align: middle;\n",
              "    }\n",
              "\n",
              "    .dataframe tbody tr th {\n",
              "        vertical-align: top;\n",
              "    }\n",
              "\n",
              "    .dataframe thead th {\n",
              "        text-align: right;\n",
              "    }\n",
              "</style>\n",
              "<table border=\"1\" class=\"dataframe\">\n",
              "  <thead>\n",
              "    <tr style=\"text-align: right;\">\n",
              "      <th></th>\n",
              "      <th>id</th>\n",
              "      <th>keyword</th>\n",
              "      <th>location</th>\n",
              "      <th>text</th>\n",
              "      <th>target</th>\n",
              "    </tr>\n",
              "  </thead>\n",
              "  <tbody>\n",
              "    <tr>\n",
              "      <th>0</th>\n",
              "      <td>1</td>\n",
              "      <td>NaN</td>\n",
              "      <td>NaN</td>\n",
              "      <td>Our Deeds are the Reason of this #earthquake M...</td>\n",
              "      <td>1</td>\n",
              "    </tr>\n",
              "    <tr>\n",
              "      <th>1</th>\n",
              "      <td>4</td>\n",
              "      <td>NaN</td>\n",
              "      <td>NaN</td>\n",
              "      <td>Forest fire near La Ronge Sask. Canada</td>\n",
              "      <td>1</td>\n",
              "    </tr>\n",
              "    <tr>\n",
              "      <th>2</th>\n",
              "      <td>5</td>\n",
              "      <td>NaN</td>\n",
              "      <td>NaN</td>\n",
              "      <td>All residents asked to 'shelter in place' are ...</td>\n",
              "      <td>1</td>\n",
              "    </tr>\n",
              "    <tr>\n",
              "      <th>3</th>\n",
              "      <td>6</td>\n",
              "      <td>NaN</td>\n",
              "      <td>NaN</td>\n",
              "      <td>13,000 people receive #wildfires evacuation or...</td>\n",
              "      <td>1</td>\n",
              "    </tr>\n",
              "    <tr>\n",
              "      <th>4</th>\n",
              "      <td>7</td>\n",
              "      <td>NaN</td>\n",
              "      <td>NaN</td>\n",
              "      <td>Just got sent this photo from Ruby #Alaska as ...</td>\n",
              "      <td>1</td>\n",
              "    </tr>\n",
              "  </tbody>\n",
              "</table>\n",
              "</div>"
            ],
            "text/plain": [
              "   id keyword  ...                                               text target\n",
              "0   1     NaN  ...  Our Deeds are the Reason of this #earthquake M...      1\n",
              "1   4     NaN  ...             Forest fire near La Ronge Sask. Canada      1\n",
              "2   5     NaN  ...  All residents asked to 'shelter in place' are ...      1\n",
              "3   6     NaN  ...  13,000 people receive #wildfires evacuation or...      1\n",
              "4   7     NaN  ...  Just got sent this photo from Ruby #Alaska as ...      1\n",
              "\n",
              "[5 rows x 5 columns]"
            ]
          },
          "metadata": {
            "tags": []
          },
          "execution_count": 5
        }
      ]
    },
    {
      "cell_type": "code",
      "metadata": {
        "colab": {
          "base_uri": "https://localhost:8080/",
          "height": 35
        },
        "id": "AIYv11oI9RY7",
        "outputId": "d2a95b64-4e58-4e82-8e86-e4484b56333f"
      },
      "source": [
        "train_df[\"text\"][1]"
      ],
      "execution_count": 6,
      "outputs": [
        {
          "output_type": "execute_result",
          "data": {
            "application/vnd.google.colaboratory.intrinsic+json": {
              "type": "string"
            },
            "text/plain": [
              "'Forest fire near La Ronge Sask. Canada'"
            ]
          },
          "metadata": {
            "tags": []
          },
          "execution_count": 6
        }
      ]
    },
    {
      "cell_type": "code",
      "metadata": {
        "colab": {
          "base_uri": "https://localhost:8080/",
          "height": 195
        },
        "id": "dqcScON29WuB",
        "outputId": "9dea1f7a-5d08-4784-f395-3645ca4a638e"
      },
      "source": [
        "\n",
        "# Shuffle training dataframe\n",
        "train_df_shuffled = train_df.sample(frac = 1,random_state=42)\n",
        "train_df_shuffled.head()"
      ],
      "execution_count": 7,
      "outputs": [
        {
          "output_type": "execute_result",
          "data": {
            "text/html": [
              "<div>\n",
              "<style scoped>\n",
              "    .dataframe tbody tr th:only-of-type {\n",
              "        vertical-align: middle;\n",
              "    }\n",
              "\n",
              "    .dataframe tbody tr th {\n",
              "        vertical-align: top;\n",
              "    }\n",
              "\n",
              "    .dataframe thead th {\n",
              "        text-align: right;\n",
              "    }\n",
              "</style>\n",
              "<table border=\"1\" class=\"dataframe\">\n",
              "  <thead>\n",
              "    <tr style=\"text-align: right;\">\n",
              "      <th></th>\n",
              "      <th>id</th>\n",
              "      <th>keyword</th>\n",
              "      <th>location</th>\n",
              "      <th>text</th>\n",
              "      <th>target</th>\n",
              "    </tr>\n",
              "  </thead>\n",
              "  <tbody>\n",
              "    <tr>\n",
              "      <th>2644</th>\n",
              "      <td>3796</td>\n",
              "      <td>destruction</td>\n",
              "      <td>NaN</td>\n",
              "      <td>So you have a new weapon that can cause un-ima...</td>\n",
              "      <td>1</td>\n",
              "    </tr>\n",
              "    <tr>\n",
              "      <th>2227</th>\n",
              "      <td>3185</td>\n",
              "      <td>deluge</td>\n",
              "      <td>NaN</td>\n",
              "      <td>The f$&amp;amp;@ing things I do for #GISHWHES Just...</td>\n",
              "      <td>0</td>\n",
              "    </tr>\n",
              "    <tr>\n",
              "      <th>5448</th>\n",
              "      <td>7769</td>\n",
              "      <td>police</td>\n",
              "      <td>UK</td>\n",
              "      <td>DT @georgegalloway: RT @Galloway4Mayor: ÛÏThe...</td>\n",
              "      <td>1</td>\n",
              "    </tr>\n",
              "    <tr>\n",
              "      <th>132</th>\n",
              "      <td>191</td>\n",
              "      <td>aftershock</td>\n",
              "      <td>NaN</td>\n",
              "      <td>Aftershock back to school kick off was great. ...</td>\n",
              "      <td>0</td>\n",
              "    </tr>\n",
              "    <tr>\n",
              "      <th>6845</th>\n",
              "      <td>9810</td>\n",
              "      <td>trauma</td>\n",
              "      <td>Montgomery County, MD</td>\n",
              "      <td>in response to trauma Children of Addicts deve...</td>\n",
              "      <td>0</td>\n",
              "    </tr>\n",
              "  </tbody>\n",
              "</table>\n",
              "</div>"
            ],
            "text/plain": [
              "        id  ... target\n",
              "2644  3796  ...      1\n",
              "2227  3185  ...      0\n",
              "5448  7769  ...      1\n",
              "132    191  ...      0\n",
              "6845  9810  ...      0\n",
              "\n",
              "[5 rows x 5 columns]"
            ]
          },
          "metadata": {
            "tags": []
          },
          "execution_count": 7
        }
      ]
    },
    {
      "cell_type": "code",
      "metadata": {
        "colab": {
          "base_uri": "https://localhost:8080/",
          "height": 195
        },
        "id": "nWLX_MKi-CFO",
        "outputId": "ccadacd8-61a6-4423-a8ae-3cacad36822f"
      },
      "source": [
        "# The test data doesn't have a target (that's what we'd try to predict)\n",
        "test_df.head()"
      ],
      "execution_count": 8,
      "outputs": [
        {
          "output_type": "execute_result",
          "data": {
            "text/html": [
              "<div>\n",
              "<style scoped>\n",
              "    .dataframe tbody tr th:only-of-type {\n",
              "        vertical-align: middle;\n",
              "    }\n",
              "\n",
              "    .dataframe tbody tr th {\n",
              "        vertical-align: top;\n",
              "    }\n",
              "\n",
              "    .dataframe thead th {\n",
              "        text-align: right;\n",
              "    }\n",
              "</style>\n",
              "<table border=\"1\" class=\"dataframe\">\n",
              "  <thead>\n",
              "    <tr style=\"text-align: right;\">\n",
              "      <th></th>\n",
              "      <th>id</th>\n",
              "      <th>keyword</th>\n",
              "      <th>location</th>\n",
              "      <th>text</th>\n",
              "    </tr>\n",
              "  </thead>\n",
              "  <tbody>\n",
              "    <tr>\n",
              "      <th>0</th>\n",
              "      <td>0</td>\n",
              "      <td>NaN</td>\n",
              "      <td>NaN</td>\n",
              "      <td>Just happened a terrible car crash</td>\n",
              "    </tr>\n",
              "    <tr>\n",
              "      <th>1</th>\n",
              "      <td>2</td>\n",
              "      <td>NaN</td>\n",
              "      <td>NaN</td>\n",
              "      <td>Heard about #earthquake is different cities, s...</td>\n",
              "    </tr>\n",
              "    <tr>\n",
              "      <th>2</th>\n",
              "      <td>3</td>\n",
              "      <td>NaN</td>\n",
              "      <td>NaN</td>\n",
              "      <td>there is a forest fire at spot pond, geese are...</td>\n",
              "    </tr>\n",
              "    <tr>\n",
              "      <th>3</th>\n",
              "      <td>9</td>\n",
              "      <td>NaN</td>\n",
              "      <td>NaN</td>\n",
              "      <td>Apocalypse lighting. #Spokane #wildfires</td>\n",
              "    </tr>\n",
              "    <tr>\n",
              "      <th>4</th>\n",
              "      <td>11</td>\n",
              "      <td>NaN</td>\n",
              "      <td>NaN</td>\n",
              "      <td>Typhoon Soudelor kills 28 in China and Taiwan</td>\n",
              "    </tr>\n",
              "  </tbody>\n",
              "</table>\n",
              "</div>"
            ],
            "text/plain": [
              "   id keyword location                                               text\n",
              "0   0     NaN      NaN                 Just happened a terrible car crash\n",
              "1   2     NaN      NaN  Heard about #earthquake is different cities, s...\n",
              "2   3     NaN      NaN  there is a forest fire at spot pond, geese are...\n",
              "3   9     NaN      NaN           Apocalypse lighting. #Spokane #wildfires\n",
              "4  11     NaN      NaN      Typhoon Soudelor kills 28 in China and Taiwan"
            ]
          },
          "metadata": {
            "tags": []
          },
          "execution_count": 8
        }
      ]
    },
    {
      "cell_type": "code",
      "metadata": {
        "colab": {
          "base_uri": "https://localhost:8080/"
        },
        "id": "EA9XJ3Fi-Kj2",
        "outputId": "544c1b6a-09ca-4a1c-c9ee-4f932ebc8a75"
      },
      "source": [
        "# How many examples of each class?\n",
        "train_df.target.value_counts()"
      ],
      "execution_count": 9,
      "outputs": [
        {
          "output_type": "execute_result",
          "data": {
            "text/plain": [
              "0    4342\n",
              "1    3271\n",
              "Name: target, dtype: int64"
            ]
          },
          "metadata": {
            "tags": []
          },
          "execution_count": 9
        }
      ]
    },
    {
      "cell_type": "code",
      "metadata": {
        "colab": {
          "base_uri": "https://localhost:8080/"
        },
        "id": "M2ZBJKxq-PgS",
        "outputId": "abd1e184-ed64-427e-b04b-34c0b8bfb24f"
      },
      "source": [
        "# How many samples total?\n",
        "print(f\"Total training samples: {len(train_df)}\")\n",
        "print(f\"Total test samples: {len(test_df)}\")\n",
        "print(f\"Total samples: {len(train_df) + len(test_df)}\")"
      ],
      "execution_count": 10,
      "outputs": [
        {
          "output_type": "stream",
          "text": [
            "Total training samples: 7613\n",
            "Total test samples: 3263\n",
            "Total samples: 10876\n"
          ],
          "name": "stdout"
        }
      ]
    },
    {
      "cell_type": "code",
      "metadata": {
        "colab": {
          "base_uri": "https://localhost:8080/"
        },
        "id": "slngjEx1-Y23",
        "outputId": "db761943-a9e1-4fc4-b401-9dff9d9b8458"
      },
      "source": [
        "# Let's visualize some random training examples\n",
        "import random\n",
        "\n",
        "random_index = random.randint(0,len(train_df)) # create random indexes not higher than the total number of samples\n",
        "for row in train_df_shuffled [[\"text\",\"target\"]][random_index:random_index+5].itertuples():\n",
        "  _,text,target = row\n",
        "  print(f\"target: {target}\",\"(real disaster)\" if target > 0 else \"(not real disaster)\")\n",
        "  print(f\"Text:\\n{text}\\n\")\n",
        "  print(\"---\\n\")\n"
      ],
      "execution_count": 11,
      "outputs": [
        {
          "output_type": "stream",
          "text": [
            "target: 0 (not real disaster)\n",
            "Text:\n",
            "Former Township fire truck being used in Philippines - Langley Times http://t.co/iMiLsFxntf #filipino\n",
            "\n",
            "---\n",
            "\n",
            "target: 0 (not real disaster)\n",
            "Text:\n",
            "'Hey bitch blow me' uh no. Stick your dick in some water then an outlet so u get electrocuted..\n",
            "\n",
            "---\n",
            "\n",
            "target: 1 (real disaster)\n",
            "Text:\n",
            "Looks like a perfect storm-free evening coming up.  Check out the outdoor happenings featured at http://t.co/hUzrHgmkSY #EventsPalmBeach.\n",
            "\n",
            "---\n",
            "\n",
            "target: 0 (not real disaster)\n",
            "Text:\n",
            "Rick and Morty - They Blew Up : http://t.co/UQKX5VbiuM\n",
            "\n",
            "---\n",
            "\n",
            "target: 0 (not real disaster)\n",
            "Text:\n",
            "I've been meaning to harm you in the best way I see fit??\n",
            "\n",
            "---\n",
            "\n"
          ],
          "name": "stdout"
        }
      ]
    },
    {
      "cell_type": "markdown",
      "metadata": {
        "id": "LW5jP76hBXIQ"
      },
      "source": [
        "# Split data into training and validation sets"
      ]
    },
    {
      "cell_type": "code",
      "metadata": {
        "id": "bCtq4pWCBDGn"
      },
      "source": [
        "from sklearn.model_selection import train_test_split\n",
        "\n",
        "# Use train_test_split to split training data into training and validation sets\n",
        "train_sentence,val_sentence,train_label,val_label = train_test_split(train_df_shuffled[\"text\"].to_numpy(),\n",
        "                                                                     train_df_shuffled[\"target\"].to_numpy(),\n",
        "                                                                     test_size = 0.1,# dedicate 10% of samples to validation set\n",
        "                                                                     random_state = 42)# random state for reproducibility"
      ],
      "execution_count": 12,
      "outputs": []
    },
    {
      "cell_type": "code",
      "metadata": {
        "colab": {
          "base_uri": "https://localhost:8080/"
        },
        "id": "IdTEe5OmDGv0",
        "outputId": "8002fa28-c2af-4dba-9eb6-6daabb34ebd8"
      },
      "source": [
        "# Check the lengths\n",
        "len(train_sentence), len(train_label), len(val_sentence), len(val_label)"
      ],
      "execution_count": 13,
      "outputs": [
        {
          "output_type": "execute_result",
          "data": {
            "text/plain": [
              "(6851, 6851, 762, 762)"
            ]
          },
          "metadata": {
            "tags": []
          },
          "execution_count": 13
        }
      ]
    },
    {
      "cell_type": "code",
      "metadata": {
        "colab": {
          "base_uri": "https://localhost:8080/"
        },
        "id": "bDc0OJnGDSHC",
        "outputId": "0de1b880-4978-4ab5-9bf6-24a1d2d00dfb"
      },
      "source": [
        "# View the first 10 training sentences and their labels\n",
        "train_sentence[:10], train_label[:10]"
      ],
      "execution_count": 14,
      "outputs": [
        {
          "output_type": "execute_result",
          "data": {
            "text/plain": [
              "(array(['@mogacola @zamtriossu i screamed after hitting tweet',\n",
              "        'Imagine getting flattened by Kurt Zouma',\n",
              "        '@Gurmeetramrahim #MSGDoing111WelfareWorks Green S welfare force ke appx 65000 members har time disaster victim ki help ke liye tyar hai....',\n",
              "        \"@shakjn @C7 @Magnums im shaking in fear he's gonna hack the planet\",\n",
              "        'Somehow find you and I collide http://t.co/Ee8RpOahPk',\n",
              "        '@EvaHanderek @MarleyKnysh great times until the bus driver held us hostage in the mall parking lot lmfao',\n",
              "        'destroy the free fandom honestly',\n",
              "        'Weapons stolen from National Guard Armory in New Albany still missing #Gunsense http://t.co/lKNU8902JE',\n",
              "        '@wfaaweather Pete when will the heat wave pass? Is it really going to be mid month? Frisco Boy Scouts have a canoe trip in Okla.',\n",
              "        'Patient-reported outcomes in long-term survivors of metastatic colorectal cancer - British Journal of Surgery http://t.co/5Yl4DC1Tqt'],\n",
              "       dtype=object), array([0, 0, 1, 0, 0, 1, 1, 0, 1, 1]))"
            ]
          },
          "metadata": {
            "tags": []
          },
          "execution_count": 14
        }
      ]
    },
    {
      "cell_type": "markdown",
      "metadata": {
        "id": "nI0GGy1SEET7"
      },
      "source": [
        "# Converting text into numbers\n",
        "\n",
        "When dealing with text problem one of the first thing you'll have to do before you can build a model is to convert your text to answer\n",
        "\n",
        "There are few ways to build this:\n",
        "\n",
        "1. Tokenization - direct mapping of token(a token could be a word or a character) to a number\n",
        "\n",
        "2. Embedding - Create a matrix of feature vector for each token(the size of the feature vector can be defined and this embedding can be learned)"
      ]
    },
    {
      "cell_type": "markdown",
      "metadata": {
        "id": "PLqDJxdkF2c8"
      },
      "source": [
        "## Text vectorization (tokenization)"
      ]
    },
    {
      "cell_type": "code",
      "metadata": {
        "colab": {
          "base_uri": "https://localhost:8080/"
        },
        "id": "tHKTh_InDZE8",
        "outputId": "51a3e9c5-5139-49b4-ffab-90f2475872cf"
      },
      "source": [
        "train_sentence[:5]"
      ],
      "execution_count": 15,
      "outputs": [
        {
          "output_type": "execute_result",
          "data": {
            "text/plain": [
              "array(['@mogacola @zamtriossu i screamed after hitting tweet',\n",
              "       'Imagine getting flattened by Kurt Zouma',\n",
              "       '@Gurmeetramrahim #MSGDoing111WelfareWorks Green S welfare force ke appx 65000 members har time disaster victim ki help ke liye tyar hai....',\n",
              "       \"@shakjn @C7 @Magnums im shaking in fear he's gonna hack the planet\",\n",
              "       'Somehow find you and I collide http://t.co/Ee8RpOahPk'],\n",
              "      dtype=object)"
            ]
          },
          "metadata": {
            "tags": []
          },
          "execution_count": 15
        }
      ]
    },
    {
      "cell_type": "code",
      "metadata": {
        "id": "hXhyP_mvF7_L"
      },
      "source": [
        "import tensorflow as tf\n",
        "from tensorflow.keras.layers.experimental.preprocessing import TextVectorization\n",
        "\n",
        "text_vectorization = TextVectorization(max_tokens = None, # how many words in the vocabulary (all of the different words in your text)\n",
        "                                       standardize = \"lower_and_strip_punctuation\", # how to process text\n",
        "                                       split = \"whitespace\",# how to split tokens\n",
        "                                       ngrams = None, # create groups of n-words?\n",
        "                                       output_mode = \"int\", # how to map tokens to numbers\n",
        "                                       output_sequence_length = None, # how long should the output sequence of tokens be?\n",
        "                                       pad_to_max_tokens = True)"
      ],
      "execution_count": 16,
      "outputs": []
    },
    {
      "cell_type": "code",
      "metadata": {
        "id": "5ig06StGHPu6",
        "colab": {
          "base_uri": "https://localhost:8080/"
        },
        "outputId": "66c06b97-580e-43c3-c0d1-64b42b9508b4"
      },
      "source": [
        "# Find average number of tokens (words) in training Tweets\n",
        "round(sum([len(i.split())for i in train_sentence])/ len(train_sentence))"
      ],
      "execution_count": 17,
      "outputs": [
        {
          "output_type": "execute_result",
          "data": {
            "text/plain": [
              "15"
            ]
          },
          "metadata": {
            "tags": []
          },
          "execution_count": 17
        }
      ]
    },
    {
      "cell_type": "code",
      "metadata": {
        "id": "IJNZ9_gmSMjp"
      },
      "source": [
        "# Setup text vectorization variables\n",
        "max_vocab_length = 10000 # max number of words to have in our vocabulary\n",
        "max_length = 15 # max length our sequences will be (e.g. how many words from a Tweet does our model see?)\n",
        "\n",
        "text_vectorizer = TextVectorization(max_tokens=max_vocab_length,\n",
        "                                    output_mode=\"int\",\n",
        "                                    output_sequence_length=max_length)"
      ],
      "execution_count": 18,
      "outputs": []
    },
    {
      "cell_type": "code",
      "metadata": {
        "id": "rSMvGPcpS3DO"
      },
      "source": [
        "# Fit the text vectorizer to the training text\n",
        "text_vectorizer.adapt(train_sentence)"
      ],
      "execution_count": 19,
      "outputs": []
    },
    {
      "cell_type": "code",
      "metadata": {
        "colab": {
          "base_uri": "https://localhost:8080/"
        },
        "id": "5X1yl9bfhJ5i",
        "outputId": "f593b0d7-933e-4561-8b4c-b0dfe567da90"
      },
      "source": [
        "# Create sample sentence and tokenize it\n",
        "sample_sentence = \"There's a flood in my city\"\n",
        "text_vectorizer([sample_sentence])"
      ],
      "execution_count": 20,
      "outputs": [
        {
          "output_type": "execute_result",
          "data": {
            "text/plain": [
              "<tf.Tensor: shape=(1, 15), dtype=int64, numpy=\n",
              "array([[264,   3, 232,   4,  13, 182,   0,   0,   0,   0,   0,   0,   0,\n",
              "          0,   0]])>"
            ]
          },
          "metadata": {
            "tags": []
          },
          "execution_count": 20
        }
      ]
    },
    {
      "cell_type": "code",
      "metadata": {
        "colab": {
          "base_uri": "https://localhost:8080/"
        },
        "id": "VrFwCP9LhcCK",
        "outputId": "e487b039-5ade-4732-b0a5-53c5554724b9"
      },
      "source": [
        "# Choose a random sentence from the training dataset and tokenize it\n",
        "random_sentence = random.choice(train_sentence)\n",
        "print(f\"Original text:\\n{random_sentence}\\n\\n Vectorized version :\")\n",
        "text_vectorizer([random_sentence])"
      ],
      "execution_count": 21,
      "outputs": [
        {
          "output_type": "stream",
          "text": [
            "Original text:\n",
            "320 [IR] ICEMOON [AFTERSHOCK] | http://t.co/M4JDZMGJoW | @djicemoon | #Dubstep #TrapMusic #DnB #EDM #Dance #IcesÛ_ http://t.co/n0uhAsfkBv\n",
            "\n",
            " Vectorized version :\n"
          ],
          "name": "stdout"
        },
        {
          "output_type": "execute_result",
          "data": {
            "text/plain": [
              "<tf.Tensor: shape=(1, 15), dtype=int64, numpy=\n",
              "array([[2582, 2420, 2428,  966,    1, 2490, 2133, 2249, 2138, 1685, 1307,\n",
              "        2427,    1,    0,    0]])>"
            ]
          },
          "metadata": {
            "tags": []
          },
          "execution_count": 21
        }
      ]
    },
    {
      "cell_type": "code",
      "metadata": {
        "colab": {
          "base_uri": "https://localhost:8080/"
        },
        "id": "YUPRtC_uiICk",
        "outputId": "dff279c8-507a-40a1-ea83-a833b93d0f2e"
      },
      "source": [
        "# Get the unique words in the vocabulary\n",
        "words_in_vocab = text_vectorizer.get_vocabulary()\n",
        "top_5_words = words_in_vocab[:5] # most common tokens (notice the [UNK] token for \"unknown\" words)\n",
        "bottom_5_words = words_in_vocab[-5:]# least common tokens\n",
        "print(f\"Number of words in vocab:{len(words_in_vocab)}\")\n",
        "print(f\"Top 5 most common words : {top_5_words}\")\n",
        "print(f\"Bottom 5 least common words: {bottom_5_words}\")"
      ],
      "execution_count": 22,
      "outputs": [
        {
          "output_type": "stream",
          "text": [
            "Number of words in vocab:10000\n",
            "Top 5 most common words : ['', '[UNK]', 'the', 'a', 'in']\n",
            "Bottom 5 least common words: ['pages', 'paeds', 'pads', 'padres', 'paddytomlinson1']\n"
          ],
          "name": "stdout"
        }
      ]
    },
    {
      "cell_type": "markdown",
      "metadata": {
        "id": "JFq1NcvgFJ0Q"
      },
      "source": [
        "# Creating an Embedding using an Embedding Layer\n",
        "\n",
        "To make our embedding we are going to use tensorflow embedding's layers\n",
        "\n",
        "The main parameters we're concerned about here are:\n",
        "\n",
        "* **input_dim** - The size of the vocabulary (e.g. len(text_vectorizer.get_vocabulary()).\n",
        "* **output_dim** - The size of the output embedding vector, for example, a value of 100 outputs a feature vector of size 100 for each word.\n",
        "embeddings_initializer - How to initialize the embeddings matrix, default is \"uniform\" which randomly initalizes embedding matrix with uniform distribution. This can be changed for using pre-learned embeddings.\n",
        "* **input_length** - Length of sequences being passed to embedding layer."
      ]
    },
    {
      "cell_type": "code",
      "metadata": {
        "id": "HYaGayfql6nd",
        "colab": {
          "base_uri": "https://localhost:8080/"
        },
        "outputId": "67a6a335-789b-4152-a842-3a76a204fed2"
      },
      "source": [
        "embedding = tf.keras.layers.Embedding(input_dim = max_vocab_length,# set input shape\n",
        "                                      output_dim = 128,# set size of embedding vector\n",
        "                                      embeddings_initializer = \"uniform\", # default, intialize randomly\n",
        "                                      input_length = max_length)# how long is each input\n",
        "embedding"
      ],
      "execution_count": 23,
      "outputs": [
        {
          "output_type": "execute_result",
          "data": {
            "text/plain": [
              "<tensorflow.python.keras.layers.embeddings.Embedding at 0x7fb580403b50>"
            ]
          },
          "metadata": {
            "tags": []
          },
          "execution_count": 23
        }
      ]
    },
    {
      "cell_type": "code",
      "metadata": {
        "colab": {
          "base_uri": "https://localhost:8080/"
        },
        "id": "7xMZEI9xG_vP",
        "outputId": "9a55f556-45db-4896-a940-c9886477ba82"
      },
      "source": [
        "# Get a random sentence from training set\n",
        "random_sentence = random.choice(train_sentence)\n",
        "print(f\"Original text:\\n {random_sentence}\\n\\n Embedded version:\")\n",
        "\n",
        "# Embed the random sentence (turn it into numerical representation)\n",
        "sample_embed = embedding(text_vectorizer([random_sentence]))\n",
        "sample_embed"
      ],
      "execution_count": 24,
      "outputs": [
        {
          "output_type": "stream",
          "text": [
            "Original text:\n",
            " Alhaji Putin is far from being a good person sha. At least I had front row seat to his complete obliteration of Ibeto cement a competitor.\n",
            "\n",
            " Embedded version:\n"
          ],
          "name": "stdout"
        },
        {
          "output_type": "execute_result",
          "data": {
            "text/plain": [
              "<tf.Tensor: shape=(1, 15, 128), dtype=float32, numpy=\n",
              "array([[[ 0.0321216 , -0.01617037,  0.013471  , ...,  0.04952255,\n",
              "          0.02768001, -0.04662972],\n",
              "        [-0.03936365, -0.01575228,  0.02051998, ...,  0.03571549,\n",
              "          0.01827404,  0.01894157],\n",
              "        [ 0.04327028,  0.04041355,  0.00631315, ...,  0.04916139,\n",
              "         -0.01485412, -0.03350045],\n",
              "        ...,\n",
              "        [ 0.01448599, -0.00990849, -0.01518555, ...,  0.04542223,\n",
              "          0.04412622, -0.04585706],\n",
              "        [-0.01084422, -0.03021554, -0.01043991, ...,  0.0223393 ,\n",
              "         -0.04170129, -0.03907288],\n",
              "        [-0.04032727,  0.02777326, -0.01860743, ..., -0.01478362,\n",
              "         -0.02034804,  0.01503788]]], dtype=float32)>"
            ]
          },
          "metadata": {
            "tags": []
          },
          "execution_count": 24
        }
      ]
    },
    {
      "cell_type": "code",
      "metadata": {
        "colab": {
          "base_uri": "https://localhost:8080/"
        },
        "id": "FbKmRpCSH03w",
        "outputId": "e31b166e-ccdc-414c-9d82-58c87933bf6d"
      },
      "source": [
        "# Check out a single token's embedding\n",
        "sample_embed[0][0]"
      ],
      "execution_count": 25,
      "outputs": [
        {
          "output_type": "execute_result",
          "data": {
            "text/plain": [
              "<tf.Tensor: shape=(128,), dtype=float32, numpy=\n",
              "array([ 0.0321216 , -0.01617037,  0.013471  ,  0.03521544, -0.03382201,\n",
              "       -0.01228849,  0.04108198,  0.03392367, -0.00834386, -0.02504237,\n",
              "       -0.01899121,  0.02930398, -0.02103047, -0.03049849,  0.03241463,\n",
              "       -0.00655087,  0.01859364, -0.03772767,  0.00726143,  0.0015452 ,\n",
              "        0.00077871, -0.01065295, -0.01978164, -0.0135564 , -0.01873487,\n",
              "       -0.01322822, -0.04686267, -0.02613121, -0.01429467, -0.01174391,\n",
              "        0.04289973, -0.04692353,  0.01344571, -0.02172827,  0.03132811,\n",
              "        0.0368593 , -0.0060013 ,  0.00074791, -0.04026915, -0.02965154,\n",
              "       -0.03229355, -0.04189522,  0.01835338,  0.02737785,  0.03343629,\n",
              "        0.03000983,  0.04874646,  0.03970292, -0.02518453, -0.00337268,\n",
              "       -0.01974609, -0.02594532,  0.00850947, -0.04339113, -0.01937522,\n",
              "        0.01807928,  0.04397866, -0.02749074, -0.03889392, -0.01903341,\n",
              "       -0.04320177,  0.00351089,  0.04814209,  0.04148097, -0.00306989,\n",
              "        0.03856443,  0.00321621,  0.00329487, -0.04551046,  0.04604015,\n",
              "       -0.04257914,  0.0113593 ,  0.00678258,  0.03139571, -0.00077667,\n",
              "        0.01222756,  0.03709053, -0.04767491,  0.00897463, -0.01744536,\n",
              "       -0.02544401, -0.04087657,  0.04191828, -0.04612408,  0.03892902,\n",
              "       -0.02300012, -0.04075702,  0.01452612,  0.02664261,  0.03693367,\n",
              "        0.01596269,  0.01083064,  0.04802414,  0.03865929,  0.04973544,\n",
              "        0.01087042, -0.00874484,  0.02981429, -0.04322829, -0.00365089,\n",
              "        0.03021231, -0.03894087, -0.00854122, -0.02556315,  0.04004702,\n",
              "        0.00486173, -0.03170128,  0.04313114,  0.00605379,  0.00956647,\n",
              "       -0.02636237,  0.00254489,  0.04623554, -0.00240546,  0.00899844,\n",
              "        0.03748323, -0.02337825,  0.03686288,  0.00711877, -0.0099727 ,\n",
              "       -0.04495856, -0.01417406, -0.02590324,  0.01525462,  0.02378285,\n",
              "        0.04952255,  0.02768001, -0.04662972], dtype=float32)>"
            ]
          },
          "metadata": {
            "tags": []
          },
          "execution_count": 25
        }
      ]
    },
    {
      "cell_type": "markdown",
      "metadata": {
        "id": "wr1mN9OmINAB"
      },
      "source": [
        "# Modelling a text dataset(running a series of experiment)\n",
        "\n",
        "Now we have got a way to turn our text sequences into number, it's time to start building a series of modelling experiment\n",
        "\n",
        "* **Model 0**: Naive Bayes (baseline)\n",
        "* **Model 1**: Feed-forward neural network (dense model)\n",
        "* **Model 2**: LSTM model\n",
        "* **Model 3**: GRU model\n",
        "* **Model 4**: Bidirectional-LSTM model\n",
        "* **Model 5**: 1D Convolutional Neural Network\n",
        "* **Model 6**: TensorFlow Hub Pretrained Feature Extractor\n",
        "* **Model 7**: Same as model 6 with 10% of training data\n",
        "\n",
        "How we are going to approach all of these\n",
        "\n",
        "Each experiment will go through the following steps:\n",
        "\n",
        "* Construct the model\n",
        "* Train the model\n",
        "* Make predictions with the model\n",
        "* Track prediction evaluation metrics for later comparison"
      ]
    },
    {
      "cell_type": "markdown",
      "metadata": {
        "id": "wY1NM-xHKNFu"
      },
      "source": [
        "# Model 0: Getting a baseline\n",
        "\n",
        "As with all machine learning modelling experiments, it's important to create a baseline model so you've got a benchmark for future experiments to build upon.\n",
        "\n",
        "To create our baseline, we'll create a Scikit-Learn Pipeline using the TF-IDF (term frequency-inverse document frequency) formula to convert our words to numbers and then model them with the Multinomial Naive Bayes algorithm."
      ]
    },
    {
      "cell_type": "code",
      "metadata": {
        "colab": {
          "base_uri": "https://localhost:8080/"
        },
        "id": "kyEjh6QYH_vw",
        "outputId": "be9376c6-3463-4846-f183-56a72f8c396e"
      },
      "source": [
        "from sklearn.feature_extraction.text import TfidfVectorizer\n",
        "from sklearn.naive_bayes import MultinomialNB\n",
        "from sklearn.pipeline import Pipeline\n",
        "\n",
        "# Create tokenization and modelling pipeline\n",
        "model_0 = Pipeline([\n",
        "                    (\"tfidf\",TfidfVectorizer()),# convert words to numbers using tfidf\n",
        "                    (\"clf\",MultinomialNB()) # model the text\n",
        "])\n",
        "# Fit the pipeline to the training data\n",
        "model_0.fit(train_sentence,train_label)"
      ],
      "execution_count": 26,
      "outputs": [
        {
          "output_type": "execute_result",
          "data": {
            "text/plain": [
              "Pipeline(memory=None,\n",
              "         steps=[('tfidf',\n",
              "                 TfidfVectorizer(analyzer='word', binary=False,\n",
              "                                 decode_error='strict',\n",
              "                                 dtype=<class 'numpy.float64'>,\n",
              "                                 encoding='utf-8', input='content',\n",
              "                                 lowercase=True, max_df=1.0, max_features=None,\n",
              "                                 min_df=1, ngram_range=(1, 1), norm='l2',\n",
              "                                 preprocessor=None, smooth_idf=True,\n",
              "                                 stop_words=None, strip_accents=None,\n",
              "                                 sublinear_tf=False,\n",
              "                                 token_pattern='(?u)\\\\b\\\\w\\\\w+\\\\b',\n",
              "                                 tokenizer=None, use_idf=True,\n",
              "                                 vocabulary=None)),\n",
              "                ('clf',\n",
              "                 MultinomialNB(alpha=1.0, class_prior=None, fit_prior=True))],\n",
              "         verbose=False)"
            ]
          },
          "metadata": {
            "tags": []
          },
          "execution_count": 26
        }
      ]
    },
    {
      "cell_type": "code",
      "metadata": {
        "colab": {
          "base_uri": "https://localhost:8080/"
        },
        "id": "BBbsV0VoLwaM",
        "outputId": "99922088-03af-439c-f5f5-f86f43752f87"
      },
      "source": [
        "baseline_score = model_0.score(val_sentence,val_label)\n",
        "print(f\"Our baseline model achieves an accuracy of: {baseline_score*100:.2f}%\")"
      ],
      "execution_count": 27,
      "outputs": [
        {
          "output_type": "stream",
          "text": [
            "Our baseline model achieves an accuracy of: 79.27%\n"
          ],
          "name": "stdout"
        }
      ]
    },
    {
      "cell_type": "code",
      "metadata": {
        "colab": {
          "base_uri": "https://localhost:8080/"
        },
        "id": "YhLOAPhkL7It",
        "outputId": "dd1f6049-663b-4f7a-f4a3-178731b96a45"
      },
      "source": [
        "# Make predictions\n",
        "baseline_preds = model_0.predict(val_sentence)\n",
        "baseline_preds[:10]"
      ],
      "execution_count": 28,
      "outputs": [
        {
          "output_type": "execute_result",
          "data": {
            "text/plain": [
              "array([1, 1, 1, 0, 0, 1, 1, 1, 1, 0])"
            ]
          },
          "metadata": {
            "tags": []
          },
          "execution_count": 28
        }
      ]
    },
    {
      "cell_type": "markdown",
      "metadata": {
        "id": "NJDWSROYOQl8"
      },
      "source": [
        "## Creating an evaluation function for our model experiments\n",
        "\n",
        "We could evaluate these as they are but since we're going to be evaluating several models in the same way going forward, let's create a helper function which takes an array of predictions and ground truth labels and computes the following:\n",
        "\n",
        "* Accuracy\n",
        "* Precision\n",
        "* Recall\n",
        "* F1-score"
      ]
    },
    {
      "cell_type": "code",
      "metadata": {
        "id": "H44BNSj4MQGW"
      },
      "source": [
        "# Function to evaluate: accuracy, precision, recall, f1-score\n",
        "from sklearn.metrics import accuracy_score,precision_recall_fscore_support\n",
        "\n",
        "def calculate_results(y_true,y_preds):\n",
        "  \"\"\"\n",
        "  Calculates model accuracy, precision, recall and f1 score of a binary classification model.\n",
        "\n",
        "  Args:\n",
        "  -----\n",
        "  y_true = true labels in the form of a 1D array\n",
        "  y_pred = predicted labels in the form of a 1D array\n",
        "\n",
        "  Returns a dictionary of accuracy, precision, recall, f1-score.\n",
        "  \"\"\"\n",
        "  # Calculate model accuracy\n",
        "  model_accuracy = accuracy_score(y_true,y_preds)*100\n",
        "  # Calculate model precision, recall and f1 score using \"weighted\" average\n",
        "  model_precision,model_recall,model_f1, _ = precision_recall_fscore_support(y_true,y_preds,average = \"weighted\")\n",
        "  model_results = {\n",
        "      \"accuracy\":model_accuracy,\n",
        "      \"precision\":model_precision,\n",
        "       \"recall\":model_recall,\n",
        "       \"f1\":model_f1\n",
        "  }\n",
        "  return model_results"
      ],
      "execution_count": 29,
      "outputs": []
    },
    {
      "cell_type": "code",
      "metadata": {
        "colab": {
          "base_uri": "https://localhost:8080/"
        },
        "id": "n8TXSbWHPtnP",
        "outputId": "c8108c50-dc71-4f46-eb3a-5d289d072428"
      },
      "source": [
        "# Get the baseline results\n",
        "baseline_results = calculate_results(y_true = val_label,\n",
        "                                     y_preds = baseline_preds)\n",
        "\n",
        "baseline_results"
      ],
      "execution_count": 30,
      "outputs": [
        {
          "output_type": "execute_result",
          "data": {
            "text/plain": [
              "{'accuracy': 79.26509186351706,\n",
              " 'f1': 0.7862189758049549,\n",
              " 'precision': 0.8111390004213173,\n",
              " 'recall': 0.7926509186351706}"
            ]
          },
          "metadata": {
            "tags": []
          },
          "execution_count": 30
        }
      ]
    },
    {
      "cell_type": "markdown",
      "metadata": {
        "id": "7WcBMN3DxJj0"
      },
      "source": [
        "# Model 1: A simple dense model"
      ]
    },
    {
      "cell_type": "code",
      "metadata": {
        "id": "_2ZzkWEBP_LQ"
      },
      "source": [
        "# Create tensorboard callback (need to create a new one for each model)\n",
        "from helper import create_tensorboard_callback\n",
        "\n",
        "# Create directory to save TensorBoard logs\n",
        "SAVE_DIR = \"model_logs\""
      ],
      "execution_count": 31,
      "outputs": []
    },
    {
      "cell_type": "code",
      "metadata": {
        "id": "0OXgSS3ixbul"
      },
      "source": [
        "# Create directory to save TensorBoard logs\n",
        "inputs = tf.keras.layers.Input(shape = (1,),dtype = \"string\") # inputs are 1-dimensional strings\n",
        "x = text_vectorizer(inputs) # turn the input text into numbers\n",
        "x = embedding(x) # create an embedding of the numerized numbers\n",
        "x = tf.keras.layers.GlobalAveragePooling1D()(x)\n",
        "outputs = tf.keras.layers.Dense(1,activation=tf.keras.activations.sigmoid)(x)# create the output layer, want binary outputs so use sigmoid activation\n",
        "model_1 = tf.keras.Model(inputs,outputs,name = \"model_1_dense\")# construct the model"
      ],
      "execution_count": 32,
      "outputs": []
    },
    {
      "cell_type": "code",
      "metadata": {
        "id": "GI_wKTi4z6mP"
      },
      "source": [
        "# Compile model\n",
        "model_1.compile(loss = tf.keras.losses.binary_crossentropy,\n",
        "                optimizer = tf.keras.optimizers.Adam(),\n",
        "                metrics = [\"accuracy\"])"
      ],
      "execution_count": 33,
      "outputs": []
    },
    {
      "cell_type": "code",
      "metadata": {
        "colab": {
          "base_uri": "https://localhost:8080/"
        },
        "id": "cTbml4U80Q9z",
        "outputId": "87bfb833-3c9f-4017-e77d-e8744c5b5582"
      },
      "source": [
        "model_1.summary()"
      ],
      "execution_count": 34,
      "outputs": [
        {
          "output_type": "stream",
          "text": [
            "Model: \"model_1_dense\"\n",
            "_________________________________________________________________\n",
            "Layer (type)                 Output Shape              Param #   \n",
            "=================================================================\n",
            "input_1 (InputLayer)         [(None, 1)]               0         \n",
            "_________________________________________________________________\n",
            "text_vectorization_1 (TextVe (None, 15)                0         \n",
            "_________________________________________________________________\n",
            "embedding (Embedding)        (None, 15, 128)           1280000   \n",
            "_________________________________________________________________\n",
            "global_average_pooling1d (Gl (None, 128)               0         \n",
            "_________________________________________________________________\n",
            "dense (Dense)                (None, 1)                 129       \n",
            "=================================================================\n",
            "Total params: 1,280,129\n",
            "Trainable params: 1,280,129\n",
            "Non-trainable params: 0\n",
            "_________________________________________________________________\n"
          ],
          "name": "stdout"
        }
      ]
    },
    {
      "cell_type": "code",
      "metadata": {
        "colab": {
          "base_uri": "https://localhost:8080/"
        },
        "id": "_u35Xysi0XEE",
        "outputId": "606178d1-7250-4163-a301-b8054aaff096"
      },
      "source": [
        "# Fit the model\n",
        "model_1_history = model_1.fit(train_sentence,\n",
        "                              train_label,\n",
        "                              epochs = 5,\n",
        "                              validation_data = (val_sentence,val_label),\n",
        "                              callbacks = [create_tensorboard_callback(dir_name = SAVE_DIR,\n",
        "                                                                       experiment_name = \"simple_dense_model\")])"
      ],
      "execution_count": 35,
      "outputs": [
        {
          "output_type": "stream",
          "text": [
            "Saving TensorBoard log files to: model_logs/simple_dense_model/20210528-110249\n",
            "Epoch 1/5\n",
            "215/215 [==============================] - 7s 17ms/step - loss: 0.6137 - accuracy: 0.6904 - val_loss: 0.5345 - val_accuracy: 0.7612\n",
            "Epoch 2/5\n",
            "215/215 [==============================] - 3s 14ms/step - loss: 0.4424 - accuracy: 0.8170 - val_loss: 0.4694 - val_accuracy: 0.7874\n",
            "Epoch 3/5\n",
            "215/215 [==============================] - 3s 13ms/step - loss: 0.3469 - accuracy: 0.8610 - val_loss: 0.4581 - val_accuracy: 0.7835\n",
            "Epoch 4/5\n",
            "215/215 [==============================] - 3s 13ms/step - loss: 0.2845 - accuracy: 0.8883 - val_loss: 0.4632 - val_accuracy: 0.7848\n",
            "Epoch 5/5\n",
            "215/215 [==============================] - 3s 13ms/step - loss: 0.2374 - accuracy: 0.9117 - val_loss: 0.4792 - val_accuracy: 0.7769\n"
          ],
          "name": "stdout"
        }
      ]
    },
    {
      "cell_type": "code",
      "metadata": {
        "colab": {
          "base_uri": "https://localhost:8080/"
        },
        "id": "xOUhQtF31CNF",
        "outputId": "f0891a01-2fe7-42af-865c-4fcd402cb9f7"
      },
      "source": [
        "# Check the model result\n",
        "model_1.evaluate(val_sentence,val_label)"
      ],
      "execution_count": 36,
      "outputs": [
        {
          "output_type": "stream",
          "text": [
            "24/24 [==============================] - 0s 3ms/step - loss: 0.4792 - accuracy: 0.7769\n"
          ],
          "name": "stdout"
        },
        {
          "output_type": "execute_result",
          "data": {
            "text/plain": [
              "[0.4791974127292633, 0.7769029140472412]"
            ]
          },
          "metadata": {
            "tags": []
          },
          "execution_count": 36
        }
      ]
    },
    {
      "cell_type": "code",
      "metadata": {
        "id": "Hge9Uuwc30iS"
      },
      "source": [
        "model_1_preds = model_1.predict(val_sentence)"
      ],
      "execution_count": 37,
      "outputs": []
    },
    {
      "cell_type": "code",
      "metadata": {
        "id": "NMSNa8rG4Vik"
      },
      "source": [
        "model_1_pred_prob = tf.squeeze(tf.round(model_1_preds))"
      ],
      "execution_count": 38,
      "outputs": []
    },
    {
      "cell_type": "code",
      "metadata": {
        "colab": {
          "base_uri": "https://localhost:8080/"
        },
        "id": "Gn811BhJ3kS6",
        "outputId": "d4e05fb4-0f8b-4c56-d425-830b50f638a1"
      },
      "source": [
        "model_1_results = calculate_results(y_true = val_label,\n",
        "                                    y_preds = model_1_pred_prob)\n",
        "model_1_results"
      ],
      "execution_count": 39,
      "outputs": [
        {
          "output_type": "execute_result",
          "data": {
            "text/plain": [
              "{'accuracy': 77.69028871391076,\n",
              " 'f1': 0.7751243211017478,\n",
              " 'precision': 0.7781874595396938,\n",
              " 'recall': 0.7769028871391076}"
            ]
          },
          "metadata": {
            "tags": []
          },
          "execution_count": 39
        }
      ]
    },
    {
      "cell_type": "markdown",
      "metadata": {
        "id": "BR-SiGu47JPS"
      },
      "source": [
        "# Visualizing learned embeddings"
      ]
    },
    {
      "cell_type": "code",
      "metadata": {
        "colab": {
          "base_uri": "https://localhost:8080/"
        },
        "id": "t2wt2yOp3_6h",
        "outputId": "992e4765-1687-43d7-836b-3e8835b88b93"
      },
      "source": [
        "# Get the vocabulary from the text vectorization layer\n",
        "words_in_vocab = text_vectorizer.get_vocabulary()\n",
        "len(words_in_vocab),words_in_vocab[:10]"
      ],
      "execution_count": 40,
      "outputs": [
        {
          "output_type": "execute_result",
          "data": {
            "text/plain": [
              "(10000, ['', '[UNK]', 'the', 'a', 'in', 'to', 'of', 'and', 'i', 'is'])"
            ]
          },
          "metadata": {
            "tags": []
          },
          "execution_count": 40
        }
      ]
    },
    {
      "cell_type": "code",
      "metadata": {
        "colab": {
          "base_uri": "https://localhost:8080/"
        },
        "id": "H2osHank9NVD",
        "outputId": "bef4851d-0874-43ee-e7f3-44bd038eb126"
      },
      "source": [
        "model_1.summary()"
      ],
      "execution_count": 41,
      "outputs": [
        {
          "output_type": "stream",
          "text": [
            "Model: \"model_1_dense\"\n",
            "_________________________________________________________________\n",
            "Layer (type)                 Output Shape              Param #   \n",
            "=================================================================\n",
            "input_1 (InputLayer)         [(None, 1)]               0         \n",
            "_________________________________________________________________\n",
            "text_vectorization_1 (TextVe (None, 15)                0         \n",
            "_________________________________________________________________\n",
            "embedding (Embedding)        (None, 15, 128)           1280000   \n",
            "_________________________________________________________________\n",
            "global_average_pooling1d (Gl (None, 128)               0         \n",
            "_________________________________________________________________\n",
            "dense (Dense)                (None, 1)                 129       \n",
            "=================================================================\n",
            "Total params: 1,280,129\n",
            "Trainable params: 1,280,129\n",
            "Non-trainable params: 0\n",
            "_________________________________________________________________\n"
          ],
          "name": "stdout"
        }
      ]
    },
    {
      "cell_type": "code",
      "metadata": {
        "colab": {
          "base_uri": "https://localhost:8080/"
        },
        "id": "gaCIMlKC9QiW",
        "outputId": "a690e846-faac-4adf-8d1b-e6004f75322b"
      },
      "source": [
        "# Get the weight matrix of embedding layer \n",
        "# (these are the numerical patterns between the text in the training dataset the model has learned)\n",
        "embed_weights = model_1.get_layer(\"embedding\").get_weights()[0]\n",
        "print(embed_weights.shape)"
      ],
      "execution_count": 43,
      "outputs": [
        {
          "output_type": "stream",
          "text": [
            "(10000, 128)\n"
          ],
          "name": "stdout"
        }
      ]
    },
    {
      "cell_type": "code",
      "metadata": {
        "id": "pPOpTAXs9Y-2"
      },
      "source": [
        "import io\n",
        "out_v = io.open('vectors.tsv', 'w', encoding='utf-8')\n",
        "out_m = io.open('metadata.tsv', 'w', encoding='utf-8')\n",
        "\n",
        "for index, word in enumerate(words_in_vocab):\n",
        "  if index == 0:\n",
        "    continue  # skip 0, it's padding.\n",
        "  vec = embed_weights[index]\n",
        "  out_v.write('\\t'.join([str(x) for x in vec]) + \"\\n\")\n",
        "  out_m.write(word + \"\\n\")\n",
        "out_v.close()\n",
        "out_m.close()"
      ],
      "execution_count": 44,
      "outputs": []
    },
    {
      "cell_type": "code",
      "metadata": {
        "id": "-6qzCF3899H4",
        "colab": {
          "base_uri": "https://localhost:8080/",
          "height": 17
        },
        "outputId": "34bbe32e-73b5-43af-bd47-8b9d2726ac58"
      },
      "source": [
        "try:\n",
        "  from google.colab import files\n",
        "  files.download('vectors.tsv')\n",
        "  files.download('metadata.tsv')\n",
        "except Exception:\n",
        "  pass\n",
        "  "
      ],
      "execution_count": 45,
      "outputs": [
        {
          "output_type": "display_data",
          "data": {
            "application/javascript": [
              "\n",
              "    async function download(id, filename, size) {\n",
              "      if (!google.colab.kernel.accessAllowed) {\n",
              "        return;\n",
              "      }\n",
              "      const div = document.createElement('div');\n",
              "      const label = document.createElement('label');\n",
              "      label.textContent = `Downloading \"${filename}\": `;\n",
              "      div.appendChild(label);\n",
              "      const progress = document.createElement('progress');\n",
              "      progress.max = size;\n",
              "      div.appendChild(progress);\n",
              "      document.body.appendChild(div);\n",
              "\n",
              "      const buffers = [];\n",
              "      let downloaded = 0;\n",
              "\n",
              "      const channel = await google.colab.kernel.comms.open(id);\n",
              "      // Send a message to notify the kernel that we're ready.\n",
              "      channel.send({})\n",
              "\n",
              "      for await (const message of channel.messages) {\n",
              "        // Send a message to notify the kernel that we're ready.\n",
              "        channel.send({})\n",
              "        if (message.buffers) {\n",
              "          for (const buffer of message.buffers) {\n",
              "            buffers.push(buffer);\n",
              "            downloaded += buffer.byteLength;\n",
              "            progress.value = downloaded;\n",
              "          }\n",
              "        }\n",
              "      }\n",
              "      const blob = new Blob(buffers, {type: 'application/binary'});\n",
              "      const a = document.createElement('a');\n",
              "      a.href = window.URL.createObjectURL(blob);\n",
              "      a.download = filename;\n",
              "      div.appendChild(a);\n",
              "      a.click();\n",
              "      div.remove();\n",
              "    }\n",
              "  "
            ],
            "text/plain": [
              "<IPython.core.display.Javascript object>"
            ]
          },
          "metadata": {
            "tags": []
          }
        },
        {
          "output_type": "display_data",
          "data": {
            "application/javascript": [
              "download(\"download_77772ef2-2252-4fc5-817a-4a8f89a78497\", \"vectors.tsv\", 15366713)"
            ],
            "text/plain": [
              "<IPython.core.display.Javascript object>"
            ]
          },
          "metadata": {
            "tags": []
          }
        },
        {
          "output_type": "display_data",
          "data": {
            "application/javascript": [
              "\n",
              "    async function download(id, filename, size) {\n",
              "      if (!google.colab.kernel.accessAllowed) {\n",
              "        return;\n",
              "      }\n",
              "      const div = document.createElement('div');\n",
              "      const label = document.createElement('label');\n",
              "      label.textContent = `Downloading \"${filename}\": `;\n",
              "      div.appendChild(label);\n",
              "      const progress = document.createElement('progress');\n",
              "      progress.max = size;\n",
              "      div.appendChild(progress);\n",
              "      document.body.appendChild(div);\n",
              "\n",
              "      const buffers = [];\n",
              "      let downloaded = 0;\n",
              "\n",
              "      const channel = await google.colab.kernel.comms.open(id);\n",
              "      // Send a message to notify the kernel that we're ready.\n",
              "      channel.send({})\n",
              "\n",
              "      for await (const message of channel.messages) {\n",
              "        // Send a message to notify the kernel that we're ready.\n",
              "        channel.send({})\n",
              "        if (message.buffers) {\n",
              "          for (const buffer of message.buffers) {\n",
              "            buffers.push(buffer);\n",
              "            downloaded += buffer.byteLength;\n",
              "            progress.value = downloaded;\n",
              "          }\n",
              "        }\n",
              "      }\n",
              "      const blob = new Blob(buffers, {type: 'application/binary'});\n",
              "      const a = document.createElement('a');\n",
              "      a.href = window.URL.createObjectURL(blob);\n",
              "      a.download = filename;\n",
              "      div.appendChild(a);\n",
              "      a.click();\n",
              "      div.remove();\n",
              "    }\n",
              "  "
            ],
            "text/plain": [
              "<IPython.core.display.Javascript object>"
            ]
          },
          "metadata": {
            "tags": []
          }
        },
        {
          "output_type": "display_data",
          "data": {
            "application/javascript": [
              "download(\"download_7124a183-ecc1-465f-bbdd-fc137f49923d\", \"metadata.tsv\", 80388)"
            ],
            "text/plain": [
              "<IPython.core.display.Javascript object>"
            ]
          },
          "metadata": {
            "tags": []
          }
        }
      ]
    },
    {
      "cell_type": "markdown",
      "metadata": {
        "id": "mz8vsLhQAZNL"
      },
      "source": [
        "1. Go to http://projector.tensorflow.org/\n",
        "2. Click on \"Load data\"\n",
        "3. Upload the two files you downloaded (embedding_vectors.tsv and embedding_metadata.tsv)\n",
        "4. Explore\n",
        "5. Optional: You can share the data you've created by clicking \"Publish\""
      ]
    },
    {
      "cell_type": "markdown",
      "metadata": {
        "id": "1CcAIRIlBuPn"
      },
      "source": [
        "# Recurrent Neural Networks (RNN's)\n",
        "\n",
        "RNN's is useful for sequence data\n",
        "\n",
        "The premise of recurent neural network is to use the representation of previous input to aid the representation of later output"
      ]
    },
    {
      "cell_type": "markdown",
      "metadata": {
        "id": "VfjHCNs5Di4A"
      },
      "source": [
        "## Model 2: LSTM\n",
        "\n",
        "LSTM = long short term memory(one of the most popular LSTM cell)\n",
        "\n",
        "Our structure of RNN typically looks like this\n",
        "\n",
        "`Input (text) -> Tokenize -> Embedding -> Layers -> Output (label probability)`"
      ]
    },
    {
      "cell_type": "code",
      "metadata": {
        "id": "bwsdozFx_Ske",
        "colab": {
          "base_uri": "https://localhost:8080/"
        },
        "outputId": "8f2d744d-2874-4bbe-a378-fc5b2ad58577"
      },
      "source": [
        "# Create LSTM model\n",
        "from tensorflow.keras import layers\n",
        "inputs = tf.keras.layers.Input(shape = (1,),dtype = \"string\")\n",
        "x = text_vectorizer(inputs)\n",
        "x = embedding(x)\n",
        "print(x.shape)\n",
        "# x = tf.keras.layers.LSTM(64,return_sequences=True)(x)  # return vector for each word in the Tweet (you can stack RNN cells as long as return_sequences=True)\n",
        "x  = tf.keras.layers.LSTM(64)(x) # return vector for whole sequence\n",
        "print(x.shape)\n",
        "# x = tf.keras.layers.Dense(64,activation = tf.keras.activations.relu)(x)\n",
        "outputs = tf.keras.layers.Dense(1,activation = \"sigmoid\")(x)\n",
        "model_2 = tf.keras.Model(inputs,outputs,name =\"model_2_LSTM\")\n"
      ],
      "execution_count": 46,
      "outputs": [
        {
          "output_type": "stream",
          "text": [
            "(None, 15, 128)\n",
            "(None, 64)\n"
          ],
          "name": "stdout"
        }
      ]
    },
    {
      "cell_type": "code",
      "metadata": {
        "id": "fQoXp5_zHZjT"
      },
      "source": [
        "model_2.compile(loss = tf.keras.losses.binary_crossentropy,\n",
        "                optimizer = tf.keras.optimizers.Adam(),\n",
        "                metrics = [\"accuracy\"])"
      ],
      "execution_count": 47,
      "outputs": []
    },
    {
      "cell_type": "code",
      "metadata": {
        "id": "UTYA9P2KHrE9",
        "colab": {
          "base_uri": "https://localhost:8080/"
        },
        "outputId": "76e51275-cc37-4047-9fc2-dffa3895e05d"
      },
      "source": [
        "model_2_history = model_2.fit(train_sentence,\n",
        "                              train_label,\n",
        "                              epochs = 5,\n",
        "                              validation_data = (val_sentence,val_label),\n",
        "                              callbacks = [create_tensorboard_callback(SAVE_DIR,\n",
        "                                                                       \"LSTM\")])"
      ],
      "execution_count": 48,
      "outputs": [
        {
          "output_type": "stream",
          "text": [
            "Saving TensorBoard log files to: model_logs/LSTM/20210528-110538\n",
            "Epoch 1/5\n",
            "215/215 [==============================] - 9s 21ms/step - loss: 0.2221 - accuracy: 0.9238 - val_loss: 0.5720 - val_accuracy: 0.7848\n",
            "Epoch 2/5\n",
            "215/215 [==============================] - 3s 15ms/step - loss: 0.1567 - accuracy: 0.9432 - val_loss: 0.6299 - val_accuracy: 0.7795\n",
            "Epoch 3/5\n",
            "215/215 [==============================] - 3s 16ms/step - loss: 0.1252 - accuracy: 0.9531 - val_loss: 0.7935 - val_accuracy: 0.7795\n",
            "Epoch 4/5\n",
            "215/215 [==============================] - 3s 15ms/step - loss: 0.1070 - accuracy: 0.9574 - val_loss: 0.8478 - val_accuracy: 0.7795\n",
            "Epoch 5/5\n",
            "215/215 [==============================] - 3s 15ms/step - loss: 0.0825 - accuracy: 0.9704 - val_loss: 1.0090 - val_accuracy: 0.7690\n"
          ],
          "name": "stdout"
        }
      ]
    },
    {
      "cell_type": "code",
      "metadata": {
        "id": "bTr095dNGZQj",
        "colab": {
          "base_uri": "https://localhost:8080/"
        },
        "outputId": "b6b80ecd-d717-4327-f305-f2dca48290ca"
      },
      "source": [
        "model_2.summary()"
      ],
      "execution_count": 49,
      "outputs": [
        {
          "output_type": "stream",
          "text": [
            "Model: \"model_2_LSTM\"\n",
            "_________________________________________________________________\n",
            "Layer (type)                 Output Shape              Param #   \n",
            "=================================================================\n",
            "input_2 (InputLayer)         [(None, 1)]               0         \n",
            "_________________________________________________________________\n",
            "text_vectorization_1 (TextVe (None, 15)                0         \n",
            "_________________________________________________________________\n",
            "embedding (Embedding)        (None, 15, 128)           1280000   \n",
            "_________________________________________________________________\n",
            "lstm (LSTM)                  (None, 64)                49408     \n",
            "_________________________________________________________________\n",
            "dense_1 (Dense)              (None, 1)                 65        \n",
            "=================================================================\n",
            "Total params: 1,329,473\n",
            "Trainable params: 1,329,473\n",
            "Non-trainable params: 0\n",
            "_________________________________________________________________\n"
          ],
          "name": "stdout"
        }
      ]
    },
    {
      "cell_type": "code",
      "metadata": {
        "id": "CZJxJ6bjG8A5",
        "colab": {
          "base_uri": "https://localhost:8080/"
        },
        "outputId": "d0b6f100-1d1b-46ef-99b8-296e44fb7ee9"
      },
      "source": [
        "# Make predictions on the validation dataset\n",
        "model_2_pred_probs = model_2.predict(val_sentence)\n",
        "model_2_pred_probs.shape,model_2_pred_probs[:10]"
      ],
      "execution_count": 50,
      "outputs": [
        {
          "output_type": "execute_result",
          "data": {
            "text/plain": [
              "((762, 1), array([[4.3194368e-03],\n",
              "        [8.2260782e-01],\n",
              "        [9.9976772e-01],\n",
              "        [7.0212901e-02],\n",
              "        [4.8676159e-04],\n",
              "        [9.9903631e-01],\n",
              "        [6.4431357e-01],\n",
              "        [9.9984741e-01],\n",
              "        [9.9972683e-01],\n",
              "        [5.4219866e-01]], dtype=float32))"
            ]
          },
          "metadata": {
            "tags": []
          },
          "execution_count": 50
        }
      ]
    },
    {
      "cell_type": "code",
      "metadata": {
        "id": "_DO_DiWDIfkF",
        "colab": {
          "base_uri": "https://localhost:8080/"
        },
        "outputId": "cc7e92b6-8952-4fec-a31d-5196eb48be6d"
      },
      "source": [
        "# Round out predictions and reduce to 1-dimensional array\n",
        "model_2_preds = tf.squeeze(tf.round(model_2_pred_probs))\n",
        "model_2_preds[:10]"
      ],
      "execution_count": 51,
      "outputs": [
        {
          "output_type": "execute_result",
          "data": {
            "text/plain": [
              "<tf.Tensor: shape=(10,), dtype=float32, numpy=array([0., 1., 1., 0., 0., 1., 1., 1., 1., 1.], dtype=float32)>"
            ]
          },
          "metadata": {
            "tags": []
          },
          "execution_count": 51
        }
      ]
    },
    {
      "cell_type": "code",
      "metadata": {
        "id": "0oceVqLvIis_",
        "colab": {
          "base_uri": "https://localhost:8080/"
        },
        "outputId": "e45885ea-de0c-44d3-8e2f-1c6c054b379f"
      },
      "source": [
        "# Calculate LSTM model results\n",
        "model_2_results = calculate_results(y_true=val_label,\n",
        "                                    y_preds=model_2_preds)\n",
        "model_2_results"
      ],
      "execution_count": 52,
      "outputs": [
        {
          "output_type": "execute_result",
          "data": {
            "text/plain": [
              "{'accuracy': 76.9028871391076,\n",
              " 'f1': 0.766385677090764,\n",
              " 'precision': 0.7717390408616506,\n",
              " 'recall': 0.7690288713910761}"
            ]
          },
          "metadata": {
            "tags": []
          },
          "execution_count": 52
        }
      ]
    },
    {
      "cell_type": "code",
      "metadata": {
        "id": "WlbSsaNXInID",
        "colab": {
          "base_uri": "https://localhost:8080/"
        },
        "outputId": "f54530ba-6874-49c6-ec4e-84e59696d6e2"
      },
      "source": [
        "baseline_results"
      ],
      "execution_count": 53,
      "outputs": [
        {
          "output_type": "execute_result",
          "data": {
            "text/plain": [
              "{'accuracy': 79.26509186351706,\n",
              " 'f1': 0.7862189758049549,\n",
              " 'precision': 0.8111390004213173,\n",
              " 'recall': 0.7926509186351706}"
            ]
          },
          "metadata": {
            "tags": []
          },
          "execution_count": 53
        }
      ]
    },
    {
      "cell_type": "markdown",
      "metadata": {
        "id": "b60SQrxdUlUg"
      },
      "source": [
        "# Model 3: GRU\n",
        "\n",
        "Another popular and effective RNN component is the GRU or gated recurrent unit.\n",
        "\n",
        "The GRU cell has similar features to an LSTM cell but has less parameters."
      ]
    },
    {
      "cell_type": "code",
      "metadata": {
        "id": "YvvqjAy0Ujon"
      },
      "source": [
        "# Build an RNN using the GRU cell\n",
        "inputs = tf.keras.layers.Input(shape = (1,),dtype = \"string\")\n",
        "x = text_vectorizer(inputs)\n",
        "x = embedding(x)\n",
        "# x = layers.GRU(64, return_sequences=True) # stacking recurrent cells requires return_sequences=True\n",
        "x = tf.keras.layers.GRU(64)(x)\n",
        "# x = layers.Dense(64, activation=\"relu\")(x) # optional dense layer after GRU cell\n",
        "outputs = tf.keras.layers.Dense(1,activation=tf.keras.activations.sigmoid)(x)\n",
        "model_3 = tf.keras.Model(inputs,outputs,name = \"model_3_GRU\")\n"
      ],
      "execution_count": 54,
      "outputs": []
    },
    {
      "cell_type": "code",
      "metadata": {
        "id": "MssFgd3PW_48"
      },
      "source": [
        "model_3.compile(loss = tf.keras.losses.binary_crossentropy,\n",
        "                optimizer = tf.keras.optimizers.Adam(),\n",
        "                metrics = [\"accuracy\"])"
      ],
      "execution_count": 55,
      "outputs": []
    },
    {
      "cell_type": "code",
      "metadata": {
        "id": "hZXUgcwMIvJN",
        "colab": {
          "base_uri": "https://localhost:8080/"
        },
        "outputId": "19c9ffd7-17c9-46fd-da5b-d92ab49c15ac"
      },
      "source": [
        "model_3.summary()"
      ],
      "execution_count": 56,
      "outputs": [
        {
          "output_type": "stream",
          "text": [
            "Model: \"model_3_GRU\"\n",
            "_________________________________________________________________\n",
            "Layer (type)                 Output Shape              Param #   \n",
            "=================================================================\n",
            "input_3 (InputLayer)         [(None, 1)]               0         \n",
            "_________________________________________________________________\n",
            "text_vectorization_1 (TextVe (None, 15)                0         \n",
            "_________________________________________________________________\n",
            "embedding (Embedding)        (None, 15, 128)           1280000   \n",
            "_________________________________________________________________\n",
            "gru (GRU)                    (None, 64)                37248     \n",
            "_________________________________________________________________\n",
            "dense_2 (Dense)              (None, 1)                 65        \n",
            "=================================================================\n",
            "Total params: 1,317,313\n",
            "Trainable params: 1,317,313\n",
            "Non-trainable params: 0\n",
            "_________________________________________________________________\n"
          ],
          "name": "stdout"
        }
      ]
    },
    {
      "cell_type": "code",
      "metadata": {
        "id": "wrQ98f-7W3Eg",
        "colab": {
          "base_uri": "https://localhost:8080/"
        },
        "outputId": "feff6f00-3bb4-4f94-b37c-2fe364438a98"
      },
      "source": [
        "# Fit model\n",
        "model_3_history = model_3.fit(train_sentence,\n",
        "                              train_label,\n",
        "                              epochs =5,\n",
        "                              validation_data = (val_sentence,val_label),\n",
        "                              callbacks = [create_tensorboard_callback(dir_name = SAVE_DIR,\n",
        "                                                                       experiment_name = \"GRU\")])"
      ],
      "execution_count": 57,
      "outputs": [
        {
          "output_type": "stream",
          "text": [
            "Saving TensorBoard log files to: model_logs/GRU/20210528-110602\n",
            "Epoch 1/5\n",
            "215/215 [==============================] - 6s 19ms/step - loss: 0.1640 - accuracy: 0.9355 - val_loss: 0.6819 - val_accuracy: 0.7769\n",
            "Epoch 2/5\n",
            "215/215 [==============================] - 3s 15ms/step - loss: 0.0867 - accuracy: 0.9688 - val_loss: 0.8439 - val_accuracy: 0.7782\n",
            "Epoch 3/5\n",
            "215/215 [==============================] - 3s 15ms/step - loss: 0.0731 - accuracy: 0.9714 - val_loss: 1.0344 - val_accuracy: 0.7795\n",
            "Epoch 4/5\n",
            "215/215 [==============================] - 3s 15ms/step - loss: 0.0584 - accuracy: 0.9755 - val_loss: 1.1040 - val_accuracy: 0.7572\n",
            "Epoch 5/5\n",
            "215/215 [==============================] - 3s 15ms/step - loss: 0.0593 - accuracy: 0.9753 - val_loss: 1.1702 - val_accuracy: 0.7782\n"
          ],
          "name": "stdout"
        }
      ]
    },
    {
      "cell_type": "code",
      "metadata": {
        "id": "N_-cy29eYMIM",
        "colab": {
          "base_uri": "https://localhost:8080/"
        },
        "outputId": "6b95495a-884c-4f4e-a34a-47841999e4a9"
      },
      "source": [
        "# Make predictions on the validation data\n",
        "model_3_pred_probs = model_3.predict(val_sentence)\n",
        "model_3_pred_probs.shape,model_3_pred_probs[:10]"
      ],
      "execution_count": 58,
      "outputs": [
        {
          "output_type": "execute_result",
          "data": {
            "text/plain": [
              "((762, 1), array([[1.2900339e-03],\n",
              "        [7.6996857e-01],\n",
              "        [9.9969935e-01],\n",
              "        [8.5849516e-02],\n",
              "        [5.6807334e-05],\n",
              "        [9.9733222e-01],\n",
              "        [3.8718441e-01],\n",
              "        [9.9985445e-01],\n",
              "        [9.9979216e-01],\n",
              "        [9.3607241e-01]], dtype=float32))"
            ]
          },
          "metadata": {
            "tags": []
          },
          "execution_count": 58
        }
      ]
    },
    {
      "cell_type": "code",
      "metadata": {
        "id": "Xvb0ya91YjWV",
        "colab": {
          "base_uri": "https://localhost:8080/"
        },
        "outputId": "d44b35fb-367a-450a-cb54-8a1c5af036c1"
      },
      "source": [
        "# Convert prediction probabilities to prediction classes\n",
        "model_3_preds = tf.squeeze(tf.round(model_3_pred_probs))\n",
        "model_3_preds[:10]"
      ],
      "execution_count": 59,
      "outputs": [
        {
          "output_type": "execute_result",
          "data": {
            "text/plain": [
              "<tf.Tensor: shape=(10,), dtype=float32, numpy=array([0., 1., 1., 0., 0., 1., 0., 1., 1., 1.], dtype=float32)>"
            ]
          },
          "metadata": {
            "tags": []
          },
          "execution_count": 59
        }
      ]
    },
    {
      "cell_type": "code",
      "metadata": {
        "id": "kL2ZNyfeYmlv",
        "colab": {
          "base_uri": "https://localhost:8080/"
        },
        "outputId": "77345166-eee2-4256-d6e0-cc93f1def42c"
      },
      "source": [
        "# Calcuate model_3 results\n",
        "model_3_results = calculate_results(y_true = val_label,\n",
        "                                    y_preds = model_3_preds)\n",
        "model_3_results"
      ],
      "execution_count": 60,
      "outputs": [
        {
          "output_type": "execute_result",
          "data": {
            "text/plain": [
              "{'accuracy': 77.82152230971128,\n",
              " 'f1': 0.7758810170952618,\n",
              " 'precision': 0.7807522349051432,\n",
              " 'recall': 0.7782152230971129}"
            ]
          },
          "metadata": {
            "tags": []
          },
          "execution_count": 60
        }
      ]
    },
    {
      "cell_type": "markdown",
      "metadata": {
        "id": "51cf-XnAZLZe"
      },
      "source": [
        "# Model 4: Bidirectonal RNN model\n",
        "\n",
        "Normal RNN goes from left to right(just like you read an english sentence) however a bidirectional RNN goes from right to left as well as left to right"
      ]
    },
    {
      "cell_type": "code",
      "metadata": {
        "id": "D2TOspc7Y016"
      },
      "source": [
        "# Build a Bidirectional RNN in TensorFlow\n",
        "inputs = tf.keras.layers.Input(shape = (1,),dtype = \"string\")\n",
        "x = text_vectorizer(inputs)\n",
        "x = embedding(x)\n",
        "# x = layers.Bidirectional(layers.LSTM(64, return_sequences=True))(x) # stacking RNN layers requires return_sequences=True\n",
        "x = tf.keras.layers.Bidirectional(tf.keras.layers.LSTM(64))(x)\n",
        "outputs = tf.keras.layers.Dense(1,activation = tf.keras.activations.sigmoid)(x)\n",
        "model_4 = tf.keras.Model(inputs,outputs,name = \"model_4_bidirectional\")\n"
      ],
      "execution_count": 61,
      "outputs": []
    },
    {
      "cell_type": "markdown",
      "metadata": {
        "id": "2ER9lHBaazCs"
      },
      "source": [
        "🔑 **Note**: You can use the Bidirectional wrapper on any RNN cell in TensorFlow. For example, layers.Bidirectional(layers.GRU(64)) creates a bidirectional GRU cell."
      ]
    },
    {
      "cell_type": "code",
      "metadata": {
        "id": "BA7moITFasX0"
      },
      "source": [
        "# Compile\n",
        "model_4.compile(loss = tf.keras.losses.binary_crossentropy,\n",
        "                optimizer = tf.keras.optimizers.Adam(),\n",
        "                metrics = [\"accuracy\"])"
      ],
      "execution_count": 62,
      "outputs": []
    },
    {
      "cell_type": "code",
      "metadata": {
        "id": "Gg8mykUKbDNy",
        "colab": {
          "base_uri": "https://localhost:8080/"
        },
        "outputId": "d9e45bd0-e5e6-4f40-8bc6-19c2671377b9"
      },
      "source": [
        "model_4.summary()"
      ],
      "execution_count": 63,
      "outputs": [
        {
          "output_type": "stream",
          "text": [
            "Model: \"model_4_bidirectional\"\n",
            "_________________________________________________________________\n",
            "Layer (type)                 Output Shape              Param #   \n",
            "=================================================================\n",
            "input_4 (InputLayer)         [(None, 1)]               0         \n",
            "_________________________________________________________________\n",
            "text_vectorization_1 (TextVe (None, 15)                0         \n",
            "_________________________________________________________________\n",
            "embedding (Embedding)        (None, 15, 128)           1280000   \n",
            "_________________________________________________________________\n",
            "bidirectional (Bidirectional (None, 128)               98816     \n",
            "_________________________________________________________________\n",
            "dense_3 (Dense)              (None, 1)                 129       \n",
            "=================================================================\n",
            "Total params: 1,378,945\n",
            "Trainable params: 1,378,945\n",
            "Non-trainable params: 0\n",
            "_________________________________________________________________\n"
          ],
          "name": "stdout"
        }
      ]
    },
    {
      "cell_type": "code",
      "metadata": {
        "id": "R3-v85SebFpc",
        "colab": {
          "base_uri": "https://localhost:8080/"
        },
        "outputId": "1b1d9570-58fc-4fb1-fc93-31ab476ef415"
      },
      "source": [
        "# Fit the model (takes longer because of the bidirectional layers)\n",
        "model_4_history = model_4.fit(train_sentence,\n",
        "                              train_label,\n",
        "                              epochs = 5,\n",
        "                              validation_data = (val_sentence,val_label),\n",
        "                              callbacks = [create_tensorboard_callback(dir_name = SAVE_DIR,\n",
        "                                                                       experiment_name = \"bidirectional_RNN\")])"
      ],
      "execution_count": 64,
      "outputs": [
        {
          "output_type": "stream",
          "text": [
            "Saving TensorBoard log files to: model_logs/bidirectional_RNN/20210528-110626\n",
            "Epoch 1/5\n",
            "215/215 [==============================] - 8s 24ms/step - loss: 0.1085 - accuracy: 0.9653 - val_loss: 0.9088 - val_accuracy: 0.7743\n",
            "Epoch 2/5\n",
            "215/215 [==============================] - 4s 18ms/step - loss: 0.0525 - accuracy: 0.9756 - val_loss: 1.3342 - val_accuracy: 0.7743\n",
            "Epoch 3/5\n",
            "215/215 [==============================] - 4s 18ms/step - loss: 0.0468 - accuracy: 0.9793 - val_loss: 1.3535 - val_accuracy: 0.7690\n",
            "Epoch 4/5\n",
            "215/215 [==============================] - 4s 18ms/step - loss: 0.0456 - accuracy: 0.9797 - val_loss: 1.1790 - val_accuracy: 0.7664\n",
            "Epoch 5/5\n",
            "215/215 [==============================] - 4s 17ms/step - loss: 0.0410 - accuracy: 0.9799 - val_loss: 1.3545 - val_accuracy: 0.7743\n"
          ],
          "name": "stdout"
        }
      ]
    },
    {
      "cell_type": "code",
      "metadata": {
        "id": "rtr_VuPXbo4Y",
        "colab": {
          "base_uri": "https://localhost:8080/"
        },
        "outputId": "0e1a61c4-7a5a-436a-9e64-958a3132251a"
      },
      "source": [
        "# Make predictions with bidirectional RNN on the validation data\n",
        "model_4_pred_probs = model_4.predict(val_sentence)\n",
        "model_4_pred_probs[:10]"
      ],
      "execution_count": 65,
      "outputs": [
        {
          "output_type": "execute_result",
          "data": {
            "text/plain": [
              "array([[4.1518551e-03],\n",
              "       [8.7457448e-01],\n",
              "       [9.9996305e-01],\n",
              "       [2.4180806e-01],\n",
              "       [3.4741068e-05],\n",
              "       [9.9975175e-01],\n",
              "       [5.5741405e-01],\n",
              "       [9.9998820e-01],\n",
              "       [9.9996603e-01],\n",
              "       [9.9861658e-01]], dtype=float32)"
            ]
          },
          "metadata": {
            "tags": []
          },
          "execution_count": 65
        }
      ]
    },
    {
      "cell_type": "code",
      "metadata": {
        "id": "p4zQxDX0b4Bx",
        "colab": {
          "base_uri": "https://localhost:8080/"
        },
        "outputId": "592f6cae-04ea-4d9e-d97b-92ccce6cbb70"
      },
      "source": [
        "# Convert prediction probabilities to labels\n",
        "model_4_preds = tf.squeeze(tf.round(model_4_pred_probs))\n",
        "model_4_preds[:10]"
      ],
      "execution_count": 66,
      "outputs": [
        {
          "output_type": "execute_result",
          "data": {
            "text/plain": [
              "<tf.Tensor: shape=(10,), dtype=float32, numpy=array([0., 1., 1., 0., 0., 1., 1., 1., 1., 1.], dtype=float32)>"
            ]
          },
          "metadata": {
            "tags": []
          },
          "execution_count": 66
        }
      ]
    },
    {
      "cell_type": "code",
      "metadata": {
        "id": "bAyS7PIob7ps",
        "colab": {
          "base_uri": "https://localhost:8080/"
        },
        "outputId": "28f7fbba-48c8-442c-9ced-e90e67fe6ee7"
      },
      "source": [
        "# Calculate bidirectional RNN model results\n",
        "model_4_results = calculate_results(val_label,model_4_preds)\n",
        "model_4_results"
      ],
      "execution_count": 67,
      "outputs": [
        {
          "output_type": "execute_result",
          "data": {
            "text/plain": [
              "{'accuracy': 77.42782152230971,\n",
              " 'f1': 0.7715524459329461,\n",
              " 'precision': 0.7775061562364454,\n",
              " 'recall': 0.7742782152230971}"
            ]
          },
          "metadata": {
            "tags": []
          },
          "execution_count": 67
        }
      ]
    },
    {
      "cell_type": "markdown",
      "metadata": {
        "id": "F1XgOEyhcO9x"
      },
      "source": [
        "# Convolutional Neural Networks for Text\n",
        "\n",
        "We have used CNN's for images but images are typically 2D(height x width)... however our data is 1D\n",
        "\n",
        "Previously we have used Conv2D for our images data but now we are going to use Conv1D \n",
        "\n",
        "The typical structure of Conv1D model sequence(in our case,text)\n",
        "\n",
        "A typical CNN architecture for sequences will look like the following:\n",
        "\n",
        "```\n",
        "Inputs (text) -> Tokenization -> Embedding -> Layers -> Outputs (class probabilities)\n",
        "```"
      ]
    },
    {
      "cell_type": "markdown",
      "metadata": {
        "id": "zaNT0Xc0dWOP"
      },
      "source": [
        "### Model 5: Conv1D"
      ]
    },
    {
      "cell_type": "code",
      "metadata": {
        "id": "WW6gVO-0cKR2",
        "colab": {
          "base_uri": "https://localhost:8080/"
        },
        "outputId": "8f5cb3cf-ad55-4009-80b5-b40393052b28"
      },
      "source": [
        "# Test out the embedding, 1D convolutional and max pooling\n",
        "embedding_test = embedding(text_vectorizer([\"This is a test sentence\"]))# turn target sentence into embedding\n",
        "conv_1d = tf.keras.layers.Conv1D(filters = 32,\n",
        "                                kernel_size = 5,# convolve over target sequence 5 words at a time\n",
        "                                activation = tf.keras.activations.relu) \n",
        "conv_1d_output = conv_1d(embedding_test) # pass embedding through 1D convolutional layer\n",
        "max_pool = tf.keras.layers.GlobalMaxPool1D()\n",
        "max_pool_output = max_pool(conv_1d_output)# get the most important features\n",
        "embedding_test.shape,conv_1d_output.shape,max_pool_output.shape\n",
        "\n"
      ],
      "execution_count": 68,
      "outputs": [
        {
          "output_type": "execute_result",
          "data": {
            "text/plain": [
              "(TensorShape([1, 15, 128]), TensorShape([1, 11, 32]), TensorShape([1, 32]))"
            ]
          },
          "metadata": {
            "tags": []
          },
          "execution_count": 68
        }
      ]
    },
    {
      "cell_type": "code",
      "metadata": {
        "id": "D02FIOLOeu-x",
        "colab": {
          "base_uri": "https://localhost:8080/"
        },
        "outputId": "a6a4e9cc-e760-43a2-f874-58c64cf84a24"
      },
      "source": [
        "# See the outputs of each layer\n",
        "embedding_test[:1], conv_1d_output[:1], max_pool_output[:1]"
      ],
      "execution_count": 69,
      "outputs": [
        {
          "output_type": "execute_result",
          "data": {
            "text/plain": [
              "(<tf.Tensor: shape=(1, 15, 128), dtype=float32, numpy=\n",
              " array([[[ 0.00610069, -0.014148  , -0.03577311, ..., -0.01596391,\n",
              "          -0.00522874, -0.04137798],\n",
              "         [ 0.05776696,  0.07461418, -0.01750338, ...,  0.08424553,\n",
              "          -0.03892394,  0.00521239],\n",
              "         [ 0.04639052,  0.04746436,  0.0051148 , ...,  0.01400761,\n",
              "           0.04432344,  0.02499054],\n",
              "         ...,\n",
              "         [ 0.04260996,  0.0105852 , -0.0022139 , ...,  0.00873823,\n",
              "          -0.02004847,  0.00037022],\n",
              "         [ 0.04260996,  0.0105852 , -0.0022139 , ...,  0.00873823,\n",
              "          -0.02004847,  0.00037022],\n",
              "         [ 0.04260996,  0.0105852 , -0.0022139 , ...,  0.00873823,\n",
              "          -0.02004847,  0.00037022]]], dtype=float32)>,\n",
              " <tf.Tensor: shape=(1, 11, 32), dtype=float32, numpy=\n",
              " array([[[2.8374441e-02, 0.0000000e+00, 4.3775730e-02, 1.0628202e-02,\n",
              "          9.0518102e-02, 2.3776313e-02, 4.1118748e-02, 0.0000000e+00,\n",
              "          0.0000000e+00, 2.9288713e-02, 0.0000000e+00, 0.0000000e+00,\n",
              "          1.9924141e-02, 1.4033529e-02, 6.6014960e-02, 0.0000000e+00,\n",
              "          4.2152952e-04, 6.5285906e-02, 0.0000000e+00, 0.0000000e+00,\n",
              "          2.5680970e-02, 3.0528184e-02, 0.0000000e+00, 0.0000000e+00,\n",
              "          5.8232509e-02, 0.0000000e+00, 0.0000000e+00, 0.0000000e+00,\n",
              "          0.0000000e+00, 0.0000000e+00, 2.0185623e-02, 0.0000000e+00],\n",
              "         [0.0000000e+00, 6.2095970e-03, 9.0187371e-02, 7.0904680e-02,\n",
              "          0.0000000e+00, 7.4885949e-02, 1.7859343e-02, 3.1489640e-02,\n",
              "          7.0383593e-02, 8.8874325e-02, 3.6939375e-02, 1.4376573e-02,\n",
              "          0.0000000e+00, 0.0000000e+00, 1.4534174e-03, 0.0000000e+00,\n",
              "          0.0000000e+00, 0.0000000e+00, 0.0000000e+00, 0.0000000e+00,\n",
              "          6.3272595e-02, 5.1980525e-02, 0.0000000e+00, 0.0000000e+00,\n",
              "          0.0000000e+00, 1.2395434e-01, 6.1277986e-02, 1.0912762e-04,\n",
              "          0.0000000e+00, 0.0000000e+00, 0.0000000e+00, 4.4447728e-02],\n",
              "         [9.4284758e-02, 0.0000000e+00, 0.0000000e+00, 1.3475132e-03,\n",
              "          7.9039812e-02, 0.0000000e+00, 0.0000000e+00, 0.0000000e+00,\n",
              "          6.1897535e-02, 0.0000000e+00, 0.0000000e+00, 0.0000000e+00,\n",
              "          2.0785056e-02, 2.5533041e-02, 2.6464920e-02, 0.0000000e+00,\n",
              "          1.7245311e-02, 0.0000000e+00, 0.0000000e+00, 2.8011493e-02,\n",
              "          0.0000000e+00, 6.1335213e-02, 0.0000000e+00, 5.2323021e-02,\n",
              "          0.0000000e+00, 7.2689429e-02, 0.0000000e+00, 0.0000000e+00,\n",
              "          0.0000000e+00, 0.0000000e+00, 1.9583503e-02, 6.9651470e-02],\n",
              "         [4.7793165e-02, 0.0000000e+00, 3.3128742e-02, 2.7864413e-02,\n",
              "          5.3542480e-02, 1.2590269e-02, 0.0000000e+00, 1.3821160e-02,\n",
              "          0.0000000e+00, 0.0000000e+00, 0.0000000e+00, 4.7046859e-02,\n",
              "          6.0011065e-03, 3.6540963e-03, 2.0973232e-02, 1.3065733e-02,\n",
              "          4.3293811e-02, 0.0000000e+00, 0.0000000e+00, 0.0000000e+00,\n",
              "          0.0000000e+00, 3.0193297e-02, 3.4238696e-02, 2.2900863e-02,\n",
              "          0.0000000e+00, 3.3347681e-02, 0.0000000e+00, 1.3783334e-02,\n",
              "          0.0000000e+00, 0.0000000e+00, 2.8188623e-02, 4.5987617e-02],\n",
              "         [7.4965745e-02, 0.0000000e+00, 0.0000000e+00, 2.6870625e-02,\n",
              "          1.7455658e-02, 0.0000000e+00, 2.4903659e-03, 0.0000000e+00,\n",
              "          0.0000000e+00, 8.2561765e-03, 6.0180668e-03, 4.6669565e-02,\n",
              "          0.0000000e+00, 0.0000000e+00, 3.3371978e-02, 1.9298082e-03,\n",
              "          3.4510277e-02, 0.0000000e+00, 0.0000000e+00, 0.0000000e+00,\n",
              "          5.3661279e-02, 0.0000000e+00, 3.1154348e-02, 0.0000000e+00,\n",
              "          0.0000000e+00, 2.1315016e-02, 9.4314143e-03, 0.0000000e+00,\n",
              "          0.0000000e+00, 0.0000000e+00, 1.8032504e-02, 8.7302163e-02],\n",
              "         [3.3474065e-02, 0.0000000e+00, 0.0000000e+00, 2.3239497e-02,\n",
              "          1.3901936e-02, 2.0851742e-02, 0.0000000e+00, 0.0000000e+00,\n",
              "          7.6191919e-03, 1.6248614e-02, 0.0000000e+00, 4.7639787e-02,\n",
              "          0.0000000e+00, 0.0000000e+00, 2.6531793e-02, 1.8276531e-02,\n",
              "          4.3799125e-02, 0.0000000e+00, 0.0000000e+00, 2.3779022e-03,\n",
              "          2.2480682e-02, 1.0863055e-02, 4.2251475e-02, 3.6259666e-03,\n",
              "          0.0000000e+00, 1.8738218e-02, 3.4544591e-02, 0.0000000e+00,\n",
              "          3.3347484e-02, 0.0000000e+00, 4.0786181e-02, 4.7010679e-02],\n",
              "         [3.3474065e-02, 0.0000000e+00, 0.0000000e+00, 2.3239497e-02,\n",
              "          1.3901931e-02, 2.0851737e-02, 0.0000000e+00, 0.0000000e+00,\n",
              "          7.6191872e-03, 1.6248610e-02, 0.0000000e+00, 4.7639798e-02,\n",
              "          0.0000000e+00, 0.0000000e+00, 2.6531799e-02, 1.8276535e-02,\n",
              "          4.3799125e-02, 0.0000000e+00, 0.0000000e+00, 2.3779080e-03,\n",
              "          2.2480682e-02, 1.0863047e-02, 4.2251471e-02, 3.6259699e-03,\n",
              "          0.0000000e+00, 1.8738218e-02, 3.4544583e-02, 0.0000000e+00,\n",
              "          3.3347495e-02, 0.0000000e+00, 4.0786192e-02, 4.7010675e-02],\n",
              "         [3.3474073e-02, 0.0000000e+00, 0.0000000e+00, 2.3239490e-02,\n",
              "          1.3901935e-02, 2.0851739e-02, 0.0000000e+00, 0.0000000e+00,\n",
              "          7.6191882e-03, 1.6248606e-02, 0.0000000e+00, 4.7639791e-02,\n",
              "          0.0000000e+00, 0.0000000e+00, 2.6531801e-02, 1.8276535e-02,\n",
              "          4.3799132e-02, 0.0000000e+00, 0.0000000e+00, 2.3779077e-03,\n",
              "          2.2480676e-02, 1.0863046e-02, 4.2251475e-02, 3.6259796e-03,\n",
              "          0.0000000e+00, 1.8738205e-02, 3.4544576e-02, 0.0000000e+00,\n",
              "          3.3347502e-02, 0.0000000e+00, 4.0786177e-02, 4.7010675e-02],\n",
              "         [3.3474058e-02, 0.0000000e+00, 0.0000000e+00, 2.3239497e-02,\n",
              "          1.3901936e-02, 2.0851741e-02, 0.0000000e+00, 0.0000000e+00,\n",
              "          7.6191938e-03, 1.6248610e-02, 0.0000000e+00, 4.7639798e-02,\n",
              "          0.0000000e+00, 0.0000000e+00, 2.6531804e-02, 1.8276537e-02,\n",
              "          4.3799128e-02, 0.0000000e+00, 0.0000000e+00, 2.3779026e-03,\n",
              "          2.2480687e-02, 1.0863047e-02, 4.2251475e-02, 3.6259713e-03,\n",
              "          0.0000000e+00, 1.8738210e-02, 3.4544587e-02, 0.0000000e+00,\n",
              "          3.3347502e-02, 0.0000000e+00, 4.0786184e-02, 4.7010683e-02],\n",
              "         [3.3474058e-02, 0.0000000e+00, 0.0000000e+00, 2.3239499e-02,\n",
              "          1.3901932e-02, 2.0851742e-02, 0.0000000e+00, 0.0000000e+00,\n",
              "          7.6191965e-03, 1.6248615e-02, 0.0000000e+00, 4.7639798e-02,\n",
              "          0.0000000e+00, 0.0000000e+00, 2.6531797e-02, 1.8276539e-02,\n",
              "          4.3799121e-02, 0.0000000e+00, 0.0000000e+00, 2.3779022e-03,\n",
              "          2.2480687e-02, 1.0863053e-02, 4.2251468e-02, 3.6259764e-03,\n",
              "          0.0000000e+00, 1.8738214e-02, 3.4544591e-02, 0.0000000e+00,\n",
              "          3.3347502e-02, 0.0000000e+00, 4.0786184e-02, 4.7010675e-02],\n",
              "         [3.3474065e-02, 0.0000000e+00, 0.0000000e+00, 2.3239497e-02,\n",
              "          1.3901932e-02, 2.0851735e-02, 0.0000000e+00, 0.0000000e+00,\n",
              "          7.6191886e-03, 1.6248602e-02, 0.0000000e+00, 4.7639795e-02,\n",
              "          0.0000000e+00, 0.0000000e+00, 2.6531804e-02, 1.8276537e-02,\n",
              "          4.3799125e-02, 0.0000000e+00, 0.0000000e+00, 2.3779057e-03,\n",
              "          2.2480685e-02, 1.0863051e-02, 4.2251464e-02, 3.6259759e-03,\n",
              "          0.0000000e+00, 1.8738210e-02, 3.4544580e-02, 0.0000000e+00,\n",
              "          3.3347499e-02, 0.0000000e+00, 4.0786192e-02, 4.7010675e-02]]],\n",
              "       dtype=float32)>,\n",
              " <tf.Tensor: shape=(1, 32), dtype=float32, numpy=\n",
              " array([[0.09428476, 0.0062096 , 0.09018737, 0.07090468, 0.0905181 ,\n",
              "         0.07488595, 0.04111875, 0.03148964, 0.07038359, 0.08887433,\n",
              "         0.03693938, 0.0476398 , 0.02078506, 0.02553304, 0.06601496,\n",
              "         0.01827654, 0.04379913, 0.06528591, 0.        , 0.02801149,\n",
              "         0.0632726 , 0.06133521, 0.04225148, 0.05232302, 0.05823251,\n",
              "         0.12395434, 0.06127799, 0.01378333, 0.0333475 , 0.        ,\n",
              "         0.04078619, 0.08730216]], dtype=float32)>)"
            ]
          },
          "metadata": {
            "tags": []
          },
          "execution_count": 69
        }
      ]
    },
    {
      "cell_type": "code",
      "metadata": {
        "id": "kLxl5v7AgCdl",
        "colab": {
          "base_uri": "https://localhost:8080/"
        },
        "outputId": "805f46c0-9f84-44e4-f8c8-ffcfdf5868eb"
      },
      "source": [
        "# Create 1-dimensional convolutional layer to model sequences\n",
        "inputs = tf.keras.layers.Input(shape = (1,),dtype = \"string\")\n",
        "x = text_vectorizer(inputs)\n",
        "x = embedding(x)\n",
        "x = tf.keras.layers.Conv1D(filters = 32,kernel_size=5,activation = tf.keras.activations.relu)(x)\n",
        "x = tf.keras.layers.GlobalMaxPool1D()(x)\n",
        "# x = layers.Dense(64, activation=\"relu\")(x) # optional dense layer\n",
        "outputs = tf.keras.layers.Dense(1,activation=tf.keras.activations.sigmoid)(x)\n",
        "model_5 = tf.keras.Model(inputs,outputs,name = \"model_5_Conv1D\")\n",
        "\n",
        "\n",
        "# Compile Conv1D model\n",
        "model_5.compile(loss = tf.keras.losses.binary_crossentropy,\n",
        "                optimizer = tf.keras.optimizers.Adam(),\n",
        "                metrics = [\"accuracy\"])\n",
        "\n",
        "model_5.summary()"
      ],
      "execution_count": 70,
      "outputs": [
        {
          "output_type": "stream",
          "text": [
            "Model: \"model_5_Conv1D\"\n",
            "_________________________________________________________________\n",
            "Layer (type)                 Output Shape              Param #   \n",
            "=================================================================\n",
            "input_5 (InputLayer)         [(None, 1)]               0         \n",
            "_________________________________________________________________\n",
            "text_vectorization_1 (TextVe (None, 15)                0         \n",
            "_________________________________________________________________\n",
            "embedding (Embedding)        (None, 15, 128)           1280000   \n",
            "_________________________________________________________________\n",
            "conv1d_1 (Conv1D)            (None, 11, 32)            20512     \n",
            "_________________________________________________________________\n",
            "global_max_pooling1d_1 (Glob (None, 32)                0         \n",
            "_________________________________________________________________\n",
            "dense_4 (Dense)              (None, 1)                 33        \n",
            "=================================================================\n",
            "Total params: 1,300,545\n",
            "Trainable params: 1,300,545\n",
            "Non-trainable params: 0\n",
            "_________________________________________________________________\n"
          ],
          "name": "stdout"
        }
      ]
    },
    {
      "cell_type": "code",
      "metadata": {
        "id": "X7wPvC1ihbX3",
        "colab": {
          "base_uri": "https://localhost:8080/"
        },
        "outputId": "4e7005ef-96c1-47ce-f8e2-9c98e6f0fa82"
      },
      "source": [
        "# Fit the model\n",
        "model_5_history = model_5.fit(train_sentence,\n",
        "                              train_label,\n",
        "                              epochs=5,\n",
        "                              validation_data=(val_sentence, val_label),\n",
        "                              callbacks=[create_tensorboard_callback(SAVE_DIR, \n",
        "                                                                     \"Conv1D\")])"
      ],
      "execution_count": 71,
      "outputs": [
        {
          "output_type": "stream",
          "text": [
            "Saving TensorBoard log files to: model_logs/Conv1D/20210528-110714\n",
            "Epoch 1/5\n",
            "215/215 [==============================] - 6s 19ms/step - loss: 0.1447 - accuracy: 0.9517 - val_loss: 0.8586 - val_accuracy: 0.7717\n",
            "Epoch 2/5\n",
            "215/215 [==============================] - 3s 14ms/step - loss: 0.0765 - accuracy: 0.9727 - val_loss: 1.0092 - val_accuracy: 0.7651\n",
            "Epoch 3/5\n",
            "215/215 [==============================] - 3s 14ms/step - loss: 0.0609 - accuracy: 0.9772 - val_loss: 1.0916 - val_accuracy: 0.7612\n",
            "Epoch 4/5\n",
            "215/215 [==============================] - 3s 14ms/step - loss: 0.0559 - accuracy: 0.9774 - val_loss: 1.1531 - val_accuracy: 0.7625\n",
            "Epoch 5/5\n",
            "215/215 [==============================] - 3s 14ms/step - loss: 0.0495 - accuracy: 0.9794 - val_loss: 1.2190 - val_accuracy: 0.7612\n"
          ],
          "name": "stdout"
        }
      ]
    },
    {
      "cell_type": "code",
      "metadata": {
        "id": "4d4BN0EriFXV",
        "colab": {
          "base_uri": "https://localhost:8080/"
        },
        "outputId": "d5e24b22-78e6-4f9c-8a6c-b75a78ad3917"
      },
      "source": [
        "# Make predictions with model_5\n",
        "model_5_pred_probs = model_5.predict(val_sentence)\n",
        "model_5_pred_probs[:10]"
      ],
      "execution_count": 72,
      "outputs": [
        {
          "output_type": "execute_result",
          "data": {
            "text/plain": [
              "array([[1.2052975e-01],\n",
              "       [8.7060648e-01],\n",
              "       [9.9995458e-01],\n",
              "       [6.0723897e-02],\n",
              "       [1.4686242e-07],\n",
              "       [9.9714953e-01],\n",
              "       [8.9461374e-01],\n",
              "       [9.9992239e-01],\n",
              "       [9.9999917e-01],\n",
              "       [8.5533839e-01]], dtype=float32)"
            ]
          },
          "metadata": {
            "tags": []
          },
          "execution_count": 72
        }
      ]
    },
    {
      "cell_type": "code",
      "metadata": {
        "id": "-W025GEEinUd",
        "colab": {
          "base_uri": "https://localhost:8080/"
        },
        "outputId": "01e56139-432e-414b-d73c-f27eb2ee4d8a"
      },
      "source": [
        "# Convert model_5 prediction probabilities to labels\n",
        "model_5_preds = tf.squeeze(tf.round(model_5_pred_probs))\n",
        "model_5_preds[:10]"
      ],
      "execution_count": 73,
      "outputs": [
        {
          "output_type": "execute_result",
          "data": {
            "text/plain": [
              "<tf.Tensor: shape=(10,), dtype=float32, numpy=array([0., 1., 1., 0., 0., 1., 1., 1., 1., 1.], dtype=float32)>"
            ]
          },
          "metadata": {
            "tags": []
          },
          "execution_count": 73
        }
      ]
    },
    {
      "cell_type": "code",
      "metadata": {
        "id": "Q3JBlyKAipeA",
        "colab": {
          "base_uri": "https://localhost:8080/"
        },
        "outputId": "ad3639f4-4880-411f-a011-b5824a3b3948"
      },
      "source": [
        "# Calculate model_5 evaluation metrics \n",
        "model_5_results = calculate_results(y_true=val_label, \n",
        "                                    y_preds=model_5_preds)\n",
        "model_5_results"
      ],
      "execution_count": 74,
      "outputs": [
        {
          "output_type": "execute_result",
          "data": {
            "text/plain": [
              "{'accuracy': 76.11548556430446,\n",
              " 'f1': 0.7597317731418467,\n",
              " 'precision': 0.761395918264994,\n",
              " 'recall': 0.7611548556430446}"
            ]
          },
          "metadata": {
            "tags": []
          },
          "execution_count": 74
        }
      ]
    },
    {
      "cell_type": "markdown",
      "metadata": {
        "id": "r-Ic4tRhiv08"
      },
      "source": [
        "#Model 6:TensorFlow Hub Pretrained Sentence Encoder"
      ]
    },
    {
      "cell_type": "code",
      "metadata": {
        "id": "OUe9k8ScisG6",
        "colab": {
          "base_uri": "https://localhost:8080/"
        },
        "outputId": "a9f7bf66-cdb8-4c8c-c58b-7dc09d0bc1c1"
      },
      "source": [
        "# Example of pretrained embedding with universal sentence encoder - https://tfhub.dev/google/universal-sentence-encoder/4\n",
        "import tensorflow_hub as hub\n",
        "embed = hub.load(\"https://tfhub.dev/google/universal-sentence-encoder/4\")  # load Universal Sentence Encoder\n",
        "embed_samples = embed([\n",
        "                       sample_sentence,\n",
        "                       \"When you call the universal sentence encoder on a sentence, it turns it into numbers.\"\n",
        "                       ])\n",
        "print(embed_samples[0][:50])"
      ],
      "execution_count": 75,
      "outputs": [
        {
          "output_type": "stream",
          "text": [
            "tf.Tensor(\n",
            "[-0.02225108  0.00158148  0.06297328 -0.01693677  0.04321926  0.07595062\n",
            "  0.02784285  0.03860461  0.00998433 -0.00585812  0.02477576 -0.01942308\n",
            "  0.04693455  0.08285864  0.0721465  -0.05024614  0.03174825 -0.04299723\n",
            "  0.03192997 -0.06307844 -0.02894014  0.03847192  0.05160181  0.03639915\n",
            " -0.0033893  -0.06244716 -0.02321451  0.01089256 -0.05442338 -0.04424192\n",
            " -0.00513377  0.04550229 -0.02244516 -0.00698457 -0.02018636 -0.07282844\n",
            "  0.01419754  0.02534257  0.01080804 -0.05853831  0.00585868  0.0051272\n",
            " -0.05329772  0.04366577 -0.10668346 -0.03303329 -0.03203182 -0.02387945\n",
            "  0.00843923  0.02884514], shape=(50,), dtype=float32)\n"
          ],
          "name": "stdout"
        }
      ]
    },
    {
      "cell_type": "code",
      "metadata": {
        "id": "TP8Alwcnjbf0",
        "colab": {
          "base_uri": "https://localhost:8080/"
        },
        "outputId": "8b3845a1-44b0-432a-d6da-ee01a9c7efa9"
      },
      "source": [
        "# Each sentence has been encoded into a 512 dimension vector\n",
        "embed_samples[0].shape"
      ],
      "execution_count": 76,
      "outputs": [
        {
          "output_type": "execute_result",
          "data": {
            "text/plain": [
              "TensorShape([512])"
            ]
          },
          "metadata": {
            "tags": []
          },
          "execution_count": 76
        }
      ]
    },
    {
      "cell_type": "code",
      "metadata": {
        "id": "zrQHKw15jhUV"
      },
      "source": [
        "# We can use this encoding layer in place of our text_vectorizer and embedding layer\n",
        "sentence_encoded_layer = hub.KerasLayer(\"https://tfhub.dev/google/universal-sentence-encoder/4\",\n",
        "                                        input_shape = [],\n",
        "                                        dtype = \"string\",\n",
        "                                        trainable = False,\n",
        "                                        name = \"USE\")"
      ],
      "execution_count": 77,
      "outputs": []
    },
    {
      "cell_type": "code",
      "metadata": {
        "id": "AOB-MsmIkIVp",
        "colab": {
          "base_uri": "https://localhost:8080/"
        },
        "outputId": "343038d8-5f01-430b-aca7-c73329cb7889"
      },
      "source": [
        "# Create model using the Sequential API\n",
        "model_6 = tf.keras.Sequential([\n",
        "                  sentence_encoded_layer,# take in sentences and then encode them into an embedding\n",
        "                  tf.keras.layers.Dense(64,activation = tf.keras.activations.relu),\n",
        "                  tf.keras.layers.Dense(1,activation = tf.keras.activations.sigmoid)\n",
        "\n",
        "],name = \"model_6_use\")\n",
        "\n",
        "model_6.compile(loss = tf.keras.losses.binary_crossentropy,\n",
        "                optimizer = tf.keras.optimizers.Adam(),\n",
        "                metrics = [\"accuracy\"])\n",
        "model_6.summary()"
      ],
      "execution_count": 78,
      "outputs": [
        {
          "output_type": "stream",
          "text": [
            "Model: \"model_6_use\"\n",
            "_________________________________________________________________\n",
            "Layer (type)                 Output Shape              Param #   \n",
            "=================================================================\n",
            "USE (KerasLayer)             (None, 512)               256797824 \n",
            "_________________________________________________________________\n",
            "dense_5 (Dense)              (None, 64)                32832     \n",
            "_________________________________________________________________\n",
            "dense_6 (Dense)              (None, 1)                 65        \n",
            "=================================================================\n",
            "Total params: 256,830,721\n",
            "Trainable params: 32,897\n",
            "Non-trainable params: 256,797,824\n",
            "_________________________________________________________________\n"
          ],
          "name": "stdout"
        }
      ]
    },
    {
      "cell_type": "code",
      "metadata": {
        "id": "R_IGlVwykxRp",
        "colab": {
          "base_uri": "https://localhost:8080/"
        },
        "outputId": "9d897120-9116-40e5-cf7a-22f8a28ffb9d"
      },
      "source": [
        "# Train a classifier on top of pretrained embeddings\n",
        "model_6_history = model_6.fit(train_sentence,\n",
        "                              train_label,\n",
        "                              epochs=5,\n",
        "                              validation_data=(val_sentence, val_label),\n",
        "                              callbacks=[create_tensorboard_callback(SAVE_DIR, \n",
        "                                                                     \"tf_hub_sentence_encoder\")])"
      ],
      "execution_count": 79,
      "outputs": [
        {
          "output_type": "stream",
          "text": [
            "Saving TensorBoard log files to: model_logs/tf_hub_sentence_encoder/20210528-110752\n",
            "Epoch 1/5\n",
            "215/215 [==============================] - 7s 23ms/step - loss: 0.5024 - accuracy: 0.7808 - val_loss: 0.4482 - val_accuracy: 0.7966\n",
            "Epoch 2/5\n",
            "215/215 [==============================] - 2s 11ms/step - loss: 0.4138 - accuracy: 0.8132 - val_loss: 0.4391 - val_accuracy: 0.8084\n",
            "Epoch 3/5\n",
            "215/215 [==============================] - 2s 10ms/step - loss: 0.4004 - accuracy: 0.8231 - val_loss: 0.4354 - val_accuracy: 0.8058\n",
            "Epoch 4/5\n",
            "215/215 [==============================] - 2s 10ms/step - loss: 0.3931 - accuracy: 0.8267 - val_loss: 0.4319 - val_accuracy: 0.8110\n",
            "Epoch 5/5\n",
            "215/215 [==============================] - 2s 10ms/step - loss: 0.3858 - accuracy: 0.8307 - val_loss: 0.4269 - val_accuracy: 0.8150\n"
          ],
          "name": "stdout"
        }
      ]
    },
    {
      "cell_type": "code",
      "metadata": {
        "id": "46zvKwIIk6Lc",
        "colab": {
          "base_uri": "https://localhost:8080/"
        },
        "outputId": "582fda53-332b-4eb1-bf97-459a2ce0a430"
      },
      "source": [
        "# Make predictions with USE TF Hub model\n",
        "model_6_pred_probs = model_6.predict(val_sentence)\n",
        "model_6_pred_probs[:10]"
      ],
      "execution_count": 80,
      "outputs": [
        {
          "output_type": "execute_result",
          "data": {
            "text/plain": [
              "array([[0.23230161],\n",
              "       [0.8325033 ],\n",
              "       [0.99290574],\n",
              "       [0.20465289],\n",
              "       [0.7772518 ],\n",
              "       [0.7761996 ],\n",
              "       [0.9880447 ],\n",
              "       [0.98427653],\n",
              "       [0.946655  ],\n",
              "       [0.10482991]], dtype=float32)"
            ]
          },
          "metadata": {
            "tags": []
          },
          "execution_count": 80
        }
      ]
    },
    {
      "cell_type": "code",
      "metadata": {
        "id": "zMRWZlRolWzZ",
        "colab": {
          "base_uri": "https://localhost:8080/"
        },
        "outputId": "820922b7-819d-4db5-aa95-b90a97fa87e4"
      },
      "source": [
        "\n",
        "# Convert prediction probabilities to labels\n",
        "model_6_preds = tf.squeeze(tf.round(model_6_pred_probs))\n",
        "model_6_preds[:10]"
      ],
      "execution_count": 81,
      "outputs": [
        {
          "output_type": "execute_result",
          "data": {
            "text/plain": [
              "<tf.Tensor: shape=(10,), dtype=float32, numpy=array([0., 1., 1., 0., 1., 1., 1., 1., 1., 0.], dtype=float32)>"
            ]
          },
          "metadata": {
            "tags": []
          },
          "execution_count": 81
        }
      ]
    },
    {
      "cell_type": "code",
      "metadata": {
        "id": "dqyjT-IllfHX",
        "colab": {
          "base_uri": "https://localhost:8080/"
        },
        "outputId": "76c1d9f4-56c7-4db3-9178-c8f8e8db1f67"
      },
      "source": [
        "\n",
        "# Calculate model 6 performance metrics\n",
        "model_6_results = calculate_results(val_label, model_6_preds)\n",
        "model_6_results"
      ],
      "execution_count": 82,
      "outputs": [
        {
          "output_type": "execute_result",
          "data": {
            "text/plain": [
              "{'accuracy': 81.49606299212599,\n",
              " 'f1': 0.8143707124948604,\n",
              " 'precision': 0.8150356086855799,\n",
              " 'recall': 0.8149606299212598}"
            ]
          },
          "metadata": {
            "tags": []
          },
          "execution_count": 82
        }
      ]
    },
    {
      "cell_type": "markdown",
      "metadata": {
        "id": "_bWr6N_ZBqFG"
      },
      "source": [
        "# Model 7: TensorFlow Hub Pretrained Sentence Encoder 10% of the training data\n",
        "\n",
        "Transfer learning really helps when you don't have a large dataset\n",
        "\n",
        "To see how our model performs on a smaller dataset let's replicate `model_6` except we will train it on 10% of data"
      ]
    },
    {
      "cell_type": "code",
      "metadata": {
        "id": "R2Gg6ro2lg2C"
      },
      "source": [
        "### NOTE: Making splits like this will lead to data leakage ###\n",
        "### (some of the training examples in the validation set) ###\n",
        "\n",
        "### WRONG WAY TO MAKE SPLITS (train_df_shuffled has already been split) ###\n",
        "# # Create subsets of 10% of the training data\n",
        "# train_10_percent = train_df_shuffled[[\"text\", \"target\"]].sample(frac=0.1, random_state=42)\n",
        "# train_sentences_10_percent = train_10_percent[\"text\"].to_list()\n",
        "# train_labels_10_percent = train_10_percent[\"target\"].to_list()\n",
        "# len(train_sentences_10_percent), len(train_labels_10_percent)"
      ],
      "execution_count": 83,
      "outputs": []
    },
    {
      "cell_type": "code",
      "metadata": {
        "id": "AeoIG2ezGkbD"
      },
      "source": [
        "# One kind of correct way (there are more) to make data subset\n",
        "# (split the already split train_sentences/train_labels)\n",
        "import numpy as np\n",
        "train_sentence_90_percent,train_sentences_10_percent,train_labels_90_percent,train_labels_10_sentences = train_test_split(np.array(train_sentence),\n",
        "                                                                                                                          train_label,\n",
        "                                                                                                                          test_size = 0.1,\n",
        "                                                                                                                          random_state = 42)"
      ],
      "execution_count": 84,
      "outputs": []
    },
    {
      "cell_type": "code",
      "metadata": {
        "colab": {
          "base_uri": "https://localhost:8080/"
        },
        "id": "IUQR-lIMHKlk",
        "outputId": "9bcca157-e5ef-4b67-e476-3afd8605de5a"
      },
      "source": [
        "# Check length of 10 percent datasets\n",
        "print(f\"Total training examples: {len(train_sentence)}\")\n",
        "print(f\"Length of 10% training examples: {len(train_sentences_10_percent)}\")"
      ],
      "execution_count": 85,
      "outputs": [
        {
          "output_type": "stream",
          "text": [
            "Total training examples: 6851\n",
            "Length of 10% training examples: 686\n"
          ],
          "name": "stdout"
        }
      ]
    },
    {
      "cell_type": "code",
      "metadata": {
        "colab": {
          "base_uri": "https://localhost:8080/"
        },
        "id": "EXz8dtTLIgpH",
        "outputId": "d41d40a9-5fcc-4aa8-b7bd-e198b72979d7"
      },
      "source": [
        "# Check the number of targets in our subset of data \n",
        "# (this should be close to the distribution of labels in the original train_labels)\n",
        "pd.Series(train_labels_10_sentences).value_counts()"
      ],
      "execution_count": 86,
      "outputs": [
        {
          "output_type": "execute_result",
          "data": {
            "text/plain": [
              "0    415\n",
              "1    271\n",
              "dtype: int64"
            ]
          },
          "metadata": {
            "tags": []
          },
          "execution_count": 86
        }
      ]
    },
    {
      "cell_type": "code",
      "metadata": {
        "colab": {
          "base_uri": "https://localhost:8080/"
        },
        "id": "bJCr0gUTIlpr",
        "outputId": "21a0623f-cf12-47b2-cf6c-d799b21ca93f"
      },
      "source": [
        "# Clone model_6 but reset weights\n",
        "model_7 = tf.keras.models.clone_model(model_6)\n",
        "\n",
        "# Compile the model\n",
        "model_7.compile(loss = tf.keras.losses.binary_crossentropy,\n",
        "                optimizer = tf.keras.optimizers.Adam(),\n",
        "                metrics = [\"accuracy\"])\n",
        "model_7.summary()"
      ],
      "execution_count": 87,
      "outputs": [
        {
          "output_type": "stream",
          "text": [
            "Model: \"model_6_use\"\n",
            "_________________________________________________________________\n",
            "Layer (type)                 Output Shape              Param #   \n",
            "=================================================================\n",
            "USE (KerasLayer)             (None, 512)               256797824 \n",
            "_________________________________________________________________\n",
            "dense_5 (Dense)              (None, 64)                32832     \n",
            "_________________________________________________________________\n",
            "dense_6 (Dense)              (None, 1)                 65        \n",
            "=================================================================\n",
            "Total params: 256,830,721\n",
            "Trainable params: 32,897\n",
            "Non-trainable params: 256,797,824\n",
            "_________________________________________________________________\n"
          ],
          "name": "stdout"
        }
      ]
    },
    {
      "cell_type": "code",
      "metadata": {
        "colab": {
          "base_uri": "https://localhost:8080/"
        },
        "id": "VaNCKu9cKKXy",
        "outputId": "ccd3fdef-d962-49d3-c75a-b5d52aee843e"
      },
      "source": [
        "# Fit the model to 10% of the training data\n",
        "model_7.history = model_7.fit(x = train_sentences_10_percent,\n",
        "                              y = train_labels_10_sentences,\n",
        "                              epochs = 5,\n",
        "                              validation_data = (val_sentence,val_label),\n",
        "                              callbacks=[create_tensorboard_callback(SAVE_DIR, \"10_percent_tf_hub_sentence_encoder\")])"
      ],
      "execution_count": 88,
      "outputs": [
        {
          "output_type": "stream",
          "text": [
            "Saving TensorBoard log files to: model_logs/10_percent_tf_hub_sentence_encoder/20210528-110813\n",
            "Epoch 1/5\n",
            "22/22 [==============================] - 4s 113ms/step - loss: 0.6661 - accuracy: 0.6983 - val_loss: 0.6415 - val_accuracy: 0.7205\n",
            "Epoch 2/5\n",
            "22/22 [==============================] - 0s 19ms/step - loss: 0.5905 - accuracy: 0.7959 - val_loss: 0.5820 - val_accuracy: 0.7546\n",
            "Epoch 3/5\n",
            "22/22 [==============================] - 0s 18ms/step - loss: 0.5157 - accuracy: 0.8207 - val_loss: 0.5317 - val_accuracy: 0.7638\n",
            "Epoch 4/5\n",
            "22/22 [==============================] - 0s 19ms/step - loss: 0.4538 - accuracy: 0.8397 - val_loss: 0.5020 - val_accuracy: 0.7730\n",
            "Epoch 5/5\n",
            "22/22 [==============================] - 0s 19ms/step - loss: 0.4115 - accuracy: 0.8426 - val_loss: 0.4894 - val_accuracy: 0.7795\n"
          ],
          "name": "stdout"
        }
      ]
    },
    {
      "cell_type": "code",
      "metadata": {
        "colab": {
          "base_uri": "https://localhost:8080/"
        },
        "id": "Tu33wJx1Ll4g",
        "outputId": "822ff6b3-a397-4c06-c6c4-01fa209c3201"
      },
      "source": [
        "# Make predictions with the model trained on 10% of the data\n",
        "model_7_pred_probs = model_7.predict(val_sentence)\n",
        "model_7_pred_probs[:10]"
      ],
      "execution_count": 89,
      "outputs": [
        {
          "output_type": "execute_result",
          "data": {
            "text/plain": [
              "array([[0.26446113],\n",
              "       [0.7853607 ],\n",
              "       [0.90102226],\n",
              "       [0.3251526 ],\n",
              "       [0.5715442 ],\n",
              "       [0.84769714],\n",
              "       [0.82241964],\n",
              "       [0.85993946],\n",
              "       [0.8254788 ],\n",
              "       [0.11793774]], dtype=float32)"
            ]
          },
          "metadata": {
            "tags": []
          },
          "execution_count": 89
        }
      ]
    },
    {
      "cell_type": "code",
      "metadata": {
        "colab": {
          "base_uri": "https://localhost:8080/"
        },
        "id": "5BTRlG8tLptU",
        "outputId": "9c3ac7b3-bf57-47dc-dca8-b987f53abbb3"
      },
      "source": [
        "# Convert prediction probabilities to labels\n",
        "model_7_preds = tf.squeeze(tf.round(model_7_pred_probs))\n",
        "model_7_preds[:10]"
      ],
      "execution_count": 90,
      "outputs": [
        {
          "output_type": "execute_result",
          "data": {
            "text/plain": [
              "<tf.Tensor: shape=(10,), dtype=float32, numpy=array([0., 1., 1., 0., 1., 1., 1., 1., 1., 0.], dtype=float32)>"
            ]
          },
          "metadata": {
            "tags": []
          },
          "execution_count": 90
        }
      ]
    },
    {
      "cell_type": "code",
      "metadata": {
        "colab": {
          "base_uri": "https://localhost:8080/"
        },
        "id": "YivlQyMILw4y",
        "outputId": "c2a5f539-48c0-4236-8022-3677fa1cea57"
      },
      "source": [
        "# Calculate model results\n",
        "model_7_results = calculate_results(val_label, model_7_preds)\n",
        "model_7_results"
      ],
      "execution_count": 91,
      "outputs": [
        {
          "output_type": "execute_result",
          "data": {
            "text/plain": [
              "{'accuracy': 77.95275590551181,\n",
              " 'f1': 0.7765763088894867,\n",
              " 'precision': 0.7837012857570019,\n",
              " 'recall': 0.7795275590551181}"
            ]
          },
          "metadata": {
            "tags": []
          },
          "execution_count": 91
        }
      ]
    },
    {
      "cell_type": "markdown",
      "metadata": {
        "id": "6SwejAEEL4ja"
      },
      "source": [
        "# Comparing the performance of each of our models"
      ]
    },
    {
      "cell_type": "code",
      "metadata": {
        "colab": {
          "base_uri": "https://localhost:8080/",
          "height": 284
        },
        "id": "V4YTDJ0fLyqM",
        "outputId": "b80802e9-dca3-4909-c2d9-4c3fcaeababc"
      },
      "source": [
        "# Combine model results into a DataFrame\n",
        "\n",
        "all_model_results = pd.DataFrame({\"baseline\":baseline_results,\n",
        "                                  \"simple_dense\":model_1_results,\n",
        "                                  \"lstm\":model_2_results,\n",
        "                                  \"gru\":model_3_results,\n",
        "                                  \"bidirectional\":model_4_results,\n",
        "                                  \"conv1d\":model_5_results,\n",
        "                                  \"tf_hub_sentence_encode\":model_6_results,\n",
        "                                  \"tf_hub_10_percent_data\":model_7_results\n",
        "                                \n",
        "})\n",
        "\n",
        "all_model_results = all_model_results.transpose()\n",
        "all_model_results"
      ],
      "execution_count": 92,
      "outputs": [
        {
          "output_type": "execute_result",
          "data": {
            "text/html": [
              "<div>\n",
              "<style scoped>\n",
              "    .dataframe tbody tr th:only-of-type {\n",
              "        vertical-align: middle;\n",
              "    }\n",
              "\n",
              "    .dataframe tbody tr th {\n",
              "        vertical-align: top;\n",
              "    }\n",
              "\n",
              "    .dataframe thead th {\n",
              "        text-align: right;\n",
              "    }\n",
              "</style>\n",
              "<table border=\"1\" class=\"dataframe\">\n",
              "  <thead>\n",
              "    <tr style=\"text-align: right;\">\n",
              "      <th></th>\n",
              "      <th>accuracy</th>\n",
              "      <th>precision</th>\n",
              "      <th>recall</th>\n",
              "      <th>f1</th>\n",
              "    </tr>\n",
              "  </thead>\n",
              "  <tbody>\n",
              "    <tr>\n",
              "      <th>baseline</th>\n",
              "      <td>79.265092</td>\n",
              "      <td>0.811139</td>\n",
              "      <td>0.792651</td>\n",
              "      <td>0.786219</td>\n",
              "    </tr>\n",
              "    <tr>\n",
              "      <th>simple_dense</th>\n",
              "      <td>77.690289</td>\n",
              "      <td>0.778187</td>\n",
              "      <td>0.776903</td>\n",
              "      <td>0.775124</td>\n",
              "    </tr>\n",
              "    <tr>\n",
              "      <th>lstm</th>\n",
              "      <td>76.902887</td>\n",
              "      <td>0.771739</td>\n",
              "      <td>0.769029</td>\n",
              "      <td>0.766386</td>\n",
              "    </tr>\n",
              "    <tr>\n",
              "      <th>gru</th>\n",
              "      <td>77.821522</td>\n",
              "      <td>0.780752</td>\n",
              "      <td>0.778215</td>\n",
              "      <td>0.775881</td>\n",
              "    </tr>\n",
              "    <tr>\n",
              "      <th>bidirectional</th>\n",
              "      <td>77.427822</td>\n",
              "      <td>0.777506</td>\n",
              "      <td>0.774278</td>\n",
              "      <td>0.771552</td>\n",
              "    </tr>\n",
              "    <tr>\n",
              "      <th>conv1d</th>\n",
              "      <td>76.115486</td>\n",
              "      <td>0.761396</td>\n",
              "      <td>0.761155</td>\n",
              "      <td>0.759732</td>\n",
              "    </tr>\n",
              "    <tr>\n",
              "      <th>tf_hub_sentence_encode</th>\n",
              "      <td>81.496063</td>\n",
              "      <td>0.815036</td>\n",
              "      <td>0.814961</td>\n",
              "      <td>0.814371</td>\n",
              "    </tr>\n",
              "    <tr>\n",
              "      <th>tf_hub_10_percent_data</th>\n",
              "      <td>77.952756</td>\n",
              "      <td>0.783701</td>\n",
              "      <td>0.779528</td>\n",
              "      <td>0.776576</td>\n",
              "    </tr>\n",
              "  </tbody>\n",
              "</table>\n",
              "</div>"
            ],
            "text/plain": [
              "                         accuracy  precision    recall        f1\n",
              "baseline                79.265092   0.811139  0.792651  0.786219\n",
              "simple_dense            77.690289   0.778187  0.776903  0.775124\n",
              "lstm                    76.902887   0.771739  0.769029  0.766386\n",
              "gru                     77.821522   0.780752  0.778215  0.775881\n",
              "bidirectional           77.427822   0.777506  0.774278  0.771552\n",
              "conv1d                  76.115486   0.761396  0.761155  0.759732\n",
              "tf_hub_sentence_encode  81.496063   0.815036  0.814961  0.814371\n",
              "tf_hub_10_percent_data  77.952756   0.783701  0.779528  0.776576"
            ]
          },
          "metadata": {
            "tags": []
          },
          "execution_count": 92
        }
      ]
    },
    {
      "cell_type": "code",
      "metadata": {
        "id": "WsPTEE61NPpE"
      },
      "source": [
        "# Reduce the accuracy to same scale as other metrics\n",
        "all_model_results[\"accuracy\"] = all_model_results[\"accuracy\"]/100"
      ],
      "execution_count": 93,
      "outputs": []
    },
    {
      "cell_type": "code",
      "metadata": {
        "colab": {
          "base_uri": "https://localhost:8080/",
          "height": 542
        },
        "id": "i1aPT6YRNGHs",
        "outputId": "4153214c-71b3-4d21-89e4-2cfb6d0f1873"
      },
      "source": [
        " #Plot and compare all of the model results\n",
        "all_model_results.plot(kind=\"bar\", figsize=(10, 7)).legend(bbox_to_anchor=(1.0, 1.0));"
      ],
      "execution_count": 94,
      "outputs": [
        {
          "output_type": "display_data",
          "data": {
            "image/png": "[encoded data removed]",
            "text/plain": [
              "<Figure size 720x504 with 1 Axes>"
            ]
          },
          "metadata": {
            "tags": [],
            "needs_background": "light"
          }
        }
      ]
    },
    {
      "cell_type": "code",
      "metadata": {
        "colab": {
          "base_uri": "https://localhost:8080/",
          "height": 542
        },
        "id": "UpqJqQYFNKe-",
        "outputId": "8111e870-f712-4e8d-8711-91c36841d46a"
      },
      "source": [
        "# Sort model results by f1-score\n",
        "all_model_results.sort_values(\"f1\", ascending=False)[\"f1\"].plot(kind=\"bar\", figsize=(10, 7));"
      ],
      "execution_count": 95,
      "outputs": [
        {
          "output_type": "display_data",
          "data": {
            "image/png": "[encoded data removed]",
            "text/plain": [
              "<Figure size 720x504 with 1 Axes>"
            ]
          },
          "metadata": {
            "tags": [],
            "needs_background": "light"
          }
        }
      ]
    },
    {
      "cell_type": "code",
      "metadata": {
        "id": "Mgmn_7lkNWVu"
      },
      "source": [
        "# # View tensorboard logs of transfer learning modelling experiments (should be 4 models)\n",
        "#!tensorboard dev upload --logdir ./model_logs \\\n",
        " #--name \"NLP moddelling experiment\"\\\n",
        " #--description \"A series of different NLP modellings experiments with various models\"\\\n",
        " #--one_shot # exits the uploader when upload has finished"
      ],
      "execution_count": 96,
      "outputs": []
    },
    {
      "cell_type": "code",
      "metadata": {
        "id": "fXOpx-h9OPUv"
      },
      "source": [
        "# If you need to remove previous experiments, you can do so using the following command\n",
        "# !tensorboard dev delete --experiment_id EXPERIMENT_ID_TO_DELETE"
      ],
      "execution_count": 97,
      "outputs": []
    },
    {
      "cell_type": "markdown",
      "metadata": {
        "id": "IDlGEsmhPZPT"
      },
      "source": [
        "#Saving and loading a trained model\n",
        "\n",
        "There are two main ways of saving a model in TensorFlow:\n",
        "\n",
        "1. The HDF5 format.\n",
        "2. The SavedModel format (default)."
      ]
    },
    {
      "cell_type": "code",
      "metadata": {
        "id": "82-hpNM9O_zw"
      },
      "source": [
        "# Save TF Hub Sentence Encoder model to HDF5 format\n",
        "model_6.save(\"model_6.h5\")"
      ],
      "execution_count": 98,
      "outputs": []
    },
    {
      "cell_type": "code",
      "metadata": {
        "id": "00PxhQ2rPqQ4"
      },
      "source": [
        "# Load model with custom Hub Layer (required with HDF5 format)\n",
        "loaded_model_6 = tf.keras.models.load_model(\"model_6.h5\", \n",
        "                                            custom_objects={\"KerasLayer\": hub.KerasLayer})"
      ],
      "execution_count": 99,
      "outputs": []
    },
    {
      "cell_type": "code",
      "metadata": {
        "colab": {
          "base_uri": "https://localhost:8080/"
        },
        "id": "ZFprsnIyP7Hs",
        "outputId": "825ce8c7-a24c-468b-c590-4598759fe216"
      },
      "source": [
        "# How does our loaded model perform?\n",
        "loaded_model_6.evaluate(val_sentence, val_label)"
      ],
      "execution_count": 100,
      "outputs": [
        {
          "output_type": "stream",
          "text": [
            "24/24 [==============================] - 1s 8ms/step - loss: 0.4269 - accuracy: 0.8150\n"
          ],
          "name": "stdout"
        },
        {
          "output_type": "execute_result",
          "data": {
            "text/plain": [
              "[0.4269331395626068, 0.8149606585502625]"
            ]
          },
          "metadata": {
            "tags": []
          },
          "execution_count": 100
        }
      ]
    },
    {
      "cell_type": "markdown",
      "metadata": {
        "id": "xAzlrrPVQXJO"
      },
      "source": [
        "Now let's save to the save model format\n",
        " "
      ]
    },
    {
      "cell_type": "code",
      "metadata": {
        "colab": {
          "base_uri": "https://localhost:8080/"
        },
        "id": "woz_azazQMfX",
        "outputId": "d0558740-cf8b-461e-878a-e0496a4a95af"
      },
      "source": [
        "# Save TF Hub Sentence Encoder model to SavedModel format (default)\n",
        "model_6.save(\"model_6_SavedModel_format\")"
      ],
      "execution_count": 101,
      "outputs": [
        {
          "output_type": "stream",
          "text": [
            "WARNING:absl:Function `_wrapped_model` contains input name(s) USE_input with unsupported characters which will be renamed to use_input in the SavedModel.\n"
          ],
          "name": "stderr"
        },
        {
          "output_type": "stream",
          "text": [
            "INFO:tensorflow:Assets written to: model_6_SavedModel_format/assets\n"
          ],
          "name": "stdout"
        },
        {
          "output_type": "stream",
          "text": [
            "INFO:tensorflow:Assets written to: model_6_SavedModel_format/assets\n"
          ],
          "name": "stderr"
        }
      ]
    },
    {
      "cell_type": "code",
      "metadata": {
        "id": "Wb6dqSlFQiVk"
      },
      "source": [
        "# Load TF Hub Sentence Encoder SavedModel\n",
        "loaded_model_6_SavedModel = tf.keras.models.load_model(\"model_6_SavedModel_format\")"
      ],
      "execution_count": 102,
      "outputs": []
    },
    {
      "cell_type": "code",
      "metadata": {
        "colab": {
          "base_uri": "https://localhost:8080/"
        },
        "id": "N7QTHJhBQl8p",
        "outputId": "868ec484-bf65-43d3-93eb-c1364de81f17"
      },
      "source": [
        "# Evaluate loaded SavedModel format\n",
        "loaded_model_6_SavedModel.evaluate(val_sentence, val_label)"
      ],
      "execution_count": 103,
      "outputs": [
        {
          "output_type": "stream",
          "text": [
            "24/24 [==============================] - 1s 9ms/step - loss: 0.4269 - accuracy: 0.8150\n"
          ],
          "name": "stdout"
        },
        {
          "output_type": "execute_result",
          "data": {
            "text/plain": [
              "[0.4269331395626068, 0.8149606585502625]"
            ]
          },
          "metadata": {
            "tags": []
          },
          "execution_count": 103
        }
      ]
    },
    {
      "cell_type": "markdown",
      "metadata": {
        "id": "-r_4RNWjQzBJ"
      },
      "source": [
        "# Finding the most wrong examples\n",
        "\n",
        "* If our model is still isn't perfect what examples is it getting wrong\n",
        "* And of these wrong examples which one is getting  most wrong(those will prediction probabilities closest to opposite class)\n",
        "\n",
        "For eg if a sample should have a label of 0 but our model predict probability of 0.999(which is really close to 1) and vice versa"
      ]
    },
    {
      "cell_type": "code",
      "metadata": {
        "colab": {
          "base_uri": "https://localhost:8080/"
        },
        "id": "c8SCvOpyS5C5",
        "outputId": "357a1b77-d8be-42fc-99aa-abc6fe9ff6e9"
      },
      "source": [
        "!wget https://storage.googleapis.com/ztm_tf_course/08_model_6_USE_feature_extractor.zip\n",
        "!unzip 08_model_6_USE_feature_extractor.zip"
      ],
      "execution_count": 104,
      "outputs": [
        {
          "output_type": "stream",
          "text": [
            "--2021-05-28 11:08:52--  https://storage.googleapis.com/ztm_tf_course/08_model_6_USE_feature_extractor.zip\n",
            "Resolving storage.googleapis.com (storage.googleapis.com)... 74.125.137.128, 142.250.101.128, 142.250.141.128, ...\n",
            "Connecting to storage.googleapis.com (storage.googleapis.com)|74.125.137.128|:443... connected.\n",
            "HTTP request sent, awaiting response... 200 OK\n",
            "Length: 960779165 (916M) [application/zip]\n",
            "Saving to: ‘08_model_6_USE_feature_extractor.zip’\n",
            "\n",
            "08_model_6_USE_feat 100%[===================>] 916.27M  43.7MB/s    in 13s     \n",
            "\n",
            "2021-05-28 11:09:06 (69.1 MB/s) - ‘08_model_6_USE_feature_extractor.zip’ saved [960779165/960779165]\n",
            "\n",
            "Archive:  08_model_6_USE_feature_extractor.zip\n",
            "   creating: 08_model_6_USE_feature_extractor/\n",
            "   creating: 08_model_6_USE_feature_extractor/assets/\n",
            "   creating: 08_model_6_USE_feature_extractor/variables/\n",
            "  inflating: 08_model_6_USE_feature_extractor/variables/variables.data-00000-of-00001  \n",
            "  inflating: 08_model_6_USE_feature_extractor/variables/variables.index  \n",
            "  inflating: 08_model_6_USE_feature_extractor/saved_model.pb  \n"
          ],
          "name": "stdout"
        }
      ]
    },
    {
      "cell_type": "code",
      "metadata": {
        "colab": {
          "base_uri": "https://localhost:8080/"
        },
        "id": "1rLYoETFTRUF",
        "outputId": "132324d4-8881-4182-8378-e4cb868fbdb1"
      },
      "source": [
        "model_06_pretrained = tf.keras.models.load_model(\"08_model_6_USE_feature_extractor\")\n",
        "model_06_pretrained.evaluate(val_sentence,val_label)"
      ],
      "execution_count": 105,
      "outputs": [
        {
          "output_type": "stream",
          "text": [
            "WARNING:tensorflow:SavedModel saved prior to TF 2.5 detected when loading Keras model. Please ensure that you are saving the model with model.save() or tf.keras.models.save_model(), *NOT* tf.saved_model.save(). To confirm, there should be a file named \"keras_metadata.pb\" in the SavedModel directory.\n"
          ],
          "name": "stdout"
        },
        {
          "output_type": "stream",
          "text": [
            "WARNING:tensorflow:SavedModel saved prior to TF 2.5 detected when loading Keras model. Please ensure that you are saving the model with model.save() or tf.keras.models.save_model(), *NOT* tf.saved_model.save(). To confirm, there should be a file named \"keras_metadata.pb\" in the SavedModel directory.\n"
          ],
          "name": "stderr"
        },
        {
          "output_type": "stream",
          "text": [
            "24/24 [==============================] - 1s 9ms/step - loss: 0.4272 - accuracy: 0.8163\n"
          ],
          "name": "stdout"
        },
        {
          "output_type": "execute_result",
          "data": {
            "text/plain": [
              "[0.42723122239112854, 0.8162729740142822]"
            ]
          },
          "metadata": {
            "tags": []
          },
          "execution_count": 105
        }
      ]
    },
    {
      "cell_type": "code",
      "metadata": {
        "colab": {
          "base_uri": "https://localhost:8080/"
        },
        "id": "xltVEF3QTyKn",
        "outputId": "e176f9a1-86d8-4810-d6eb-0a69605058cd"
      },
      "source": [
        "model_6_pretrained_pred_probs = model_06_pretrained.predict(val_sentence)\n",
        "model_6_pretrained_pred_probs = tf.squeeze(model_6_pretrained_pred_probs)\n",
        "model_6_pretrained_pred_probs[:10]"
      ],
      "execution_count": 106,
      "outputs": [
        {
          "output_type": "execute_result",
          "data": {
            "text/plain": [
              "<tf.Tensor: shape=(10,), dtype=float32, numpy=\n",
              "array([0.15975739, 0.74716204, 0.98874855, 0.19622947, 0.7078078 ,\n",
              "       0.7096749 , 0.98190695, 0.9810662 , 0.94574374, 0.08504029],\n",
              "      dtype=float32)>"
            ]
          },
          "metadata": {
            "tags": []
          },
          "execution_count": 106
        }
      ]
    },
    {
      "cell_type": "code",
      "metadata": {
        "colab": {
          "base_uri": "https://localhost:8080/",
          "height": 195
        },
        "id": "nycEabi8Qp8m",
        "outputId": "a22a7aa8-f143-4c10-89a3-ecf49b797d2b"
      },
      "source": [
        "# Create dataframe with validation sentences and best performing model predictions\n",
        "val_df = pd.DataFrame({\"text\": val_sentence,\n",
        "                       \"target\": val_label,\n",
        "                       \"pred\":model_6_preds,\n",
        "                       \"pred_prob\": tf.squeeze(model_6_pred_probs)})\n",
        "val_df.head()"
      ],
      "execution_count": 107,
      "outputs": [
        {
          "output_type": "execute_result",
          "data": {
            "text/html": [
              "<div>\n",
              "<style scoped>\n",
              "    .dataframe tbody tr th:only-of-type {\n",
              "        vertical-align: middle;\n",
              "    }\n",
              "\n",
              "    .dataframe tbody tr th {\n",
              "        vertical-align: top;\n",
              "    }\n",
              "\n",
              "    .dataframe thead th {\n",
              "        text-align: right;\n",
              "    }\n",
              "</style>\n",
              "<table border=\"1\" class=\"dataframe\">\n",
              "  <thead>\n",
              "    <tr style=\"text-align: right;\">\n",
              "      <th></th>\n",
              "      <th>text</th>\n",
              "      <th>target</th>\n",
              "      <th>pred</th>\n",
              "      <th>pred_prob</th>\n",
              "    </tr>\n",
              "  </thead>\n",
              "  <tbody>\n",
              "    <tr>\n",
              "      <th>0</th>\n",
              "      <td>DFR EP016 Monthly Meltdown - On Dnbheaven 2015...</td>\n",
              "      <td>0</td>\n",
              "      <td>0.0</td>\n",
              "      <td>0.232302</td>\n",
              "    </tr>\n",
              "    <tr>\n",
              "      <th>1</th>\n",
              "      <td>FedEx no longer to transport bioterror germs i...</td>\n",
              "      <td>0</td>\n",
              "      <td>1.0</td>\n",
              "      <td>0.832503</td>\n",
              "    </tr>\n",
              "    <tr>\n",
              "      <th>2</th>\n",
              "      <td>Gunmen kill four in El Salvador bus attack: Su...</td>\n",
              "      <td>1</td>\n",
              "      <td>1.0</td>\n",
              "      <td>0.992906</td>\n",
              "    </tr>\n",
              "    <tr>\n",
              "      <th>3</th>\n",
              "      <td>@camilacabello97 Internally and externally scr...</td>\n",
              "      <td>1</td>\n",
              "      <td>0.0</td>\n",
              "      <td>0.204653</td>\n",
              "    </tr>\n",
              "    <tr>\n",
              "      <th>4</th>\n",
              "      <td>Radiation emergency #preparedness starts with ...</td>\n",
              "      <td>1</td>\n",
              "      <td>1.0</td>\n",
              "      <td>0.777252</td>\n",
              "    </tr>\n",
              "  </tbody>\n",
              "</table>\n",
              "</div>"
            ],
            "text/plain": [
              "                                                text  target  pred  pred_prob\n",
              "0  DFR EP016 Monthly Meltdown - On Dnbheaven 2015...       0   0.0   0.232302\n",
              "1  FedEx no longer to transport bioterror germs i...       0   1.0   0.832503\n",
              "2  Gunmen kill four in El Salvador bus attack: Su...       1   1.0   0.992906\n",
              "3  @camilacabello97 Internally and externally scr...       1   0.0   0.204653\n",
              "4  Radiation emergency #preparedness starts with ...       1   1.0   0.777252"
            ]
          },
          "metadata": {
            "tags": []
          },
          "execution_count": 107
        }
      ]
    },
    {
      "cell_type": "code",
      "metadata": {
        "colab": {
          "base_uri": "https://localhost:8080/",
          "height": 343
        },
        "id": "KAh8mP-WSKS0",
        "outputId": "f24dcc79-a2a3-4047-8497-3359270c2c4f"
      },
      "source": [
        "# Find the wrong predictions and sort by prediction probabilities\n",
        "most_wrong = val_df[val_df[\"target\"] != val_df[\"pred\"]].sort_values(\"pred_prob\",ascending = False)\n",
        "most_wrong[:10]"
      ],
      "execution_count": 108,
      "outputs": [
        {
          "output_type": "execute_result",
          "data": {
            "text/html": [
              "<div>\n",
              "<style scoped>\n",
              "    .dataframe tbody tr th:only-of-type {\n",
              "        vertical-align: middle;\n",
              "    }\n",
              "\n",
              "    .dataframe tbody tr th {\n",
              "        vertical-align: top;\n",
              "    }\n",
              "\n",
              "    .dataframe thead th {\n",
              "        text-align: right;\n",
              "    }\n",
              "</style>\n",
              "<table border=\"1\" class=\"dataframe\">\n",
              "  <thead>\n",
              "    <tr style=\"text-align: right;\">\n",
              "      <th></th>\n",
              "      <th>text</th>\n",
              "      <th>target</th>\n",
              "      <th>pred</th>\n",
              "      <th>pred_prob</th>\n",
              "    </tr>\n",
              "  </thead>\n",
              "  <tbody>\n",
              "    <tr>\n",
              "      <th>31</th>\n",
              "      <td>? High Skies - Burning Buildings ? http://t.co...</td>\n",
              "      <td>0</td>\n",
              "      <td>1.0</td>\n",
              "      <td>0.935803</td>\n",
              "    </tr>\n",
              "    <tr>\n",
              "      <th>759</th>\n",
              "      <td>FedEx will no longer transport bioterror patho...</td>\n",
              "      <td>0</td>\n",
              "      <td>1.0</td>\n",
              "      <td>0.918075</td>\n",
              "    </tr>\n",
              "    <tr>\n",
              "      <th>628</th>\n",
              "      <td>@noah_anyname That's where the concentration c...</td>\n",
              "      <td>0</td>\n",
              "      <td>1.0</td>\n",
              "      <td>0.894729</td>\n",
              "    </tr>\n",
              "    <tr>\n",
              "      <th>49</th>\n",
              "      <td>@madonnamking RSPCA site multiple 7 story high...</td>\n",
              "      <td>0</td>\n",
              "      <td>1.0</td>\n",
              "      <td>0.880940</td>\n",
              "    </tr>\n",
              "    <tr>\n",
              "      <th>393</th>\n",
              "      <td>@SonofLiberty357 all illuminated by the bright...</td>\n",
              "      <td>0</td>\n",
              "      <td>1.0</td>\n",
              "      <td>0.863494</td>\n",
              "    </tr>\n",
              "    <tr>\n",
              "      <th>698</th>\n",
              "      <td>åÈMGN-AFRICAå¨ pin:263789F4 åÈ Correction: Ten...</td>\n",
              "      <td>0</td>\n",
              "      <td>1.0</td>\n",
              "      <td>0.845735</td>\n",
              "    </tr>\n",
              "    <tr>\n",
              "      <th>209</th>\n",
              "      <td>Ashes 2015: AustraliaÛªs collapse at Trent Br...</td>\n",
              "      <td>0</td>\n",
              "      <td>1.0</td>\n",
              "      <td>0.845541</td>\n",
              "    </tr>\n",
              "    <tr>\n",
              "      <th>251</th>\n",
              "      <td>@AshGhebranious civil rights continued in the ...</td>\n",
              "      <td>0</td>\n",
              "      <td>1.0</td>\n",
              "      <td>0.844725</td>\n",
              "    </tr>\n",
              "    <tr>\n",
              "      <th>1</th>\n",
              "      <td>FedEx no longer to transport bioterror germs i...</td>\n",
              "      <td>0</td>\n",
              "      <td>1.0</td>\n",
              "      <td>0.832503</td>\n",
              "    </tr>\n",
              "    <tr>\n",
              "      <th>144</th>\n",
              "      <td>The Sound of Arson</td>\n",
              "      <td>0</td>\n",
              "      <td>1.0</td>\n",
              "      <td>0.829086</td>\n",
              "    </tr>\n",
              "  </tbody>\n",
              "</table>\n",
              "</div>"
            ],
            "text/plain": [
              "                                                  text  target  pred  pred_prob\n",
              "31   ? High Skies - Burning Buildings ? http://t.co...       0   1.0   0.935803\n",
              "759  FedEx will no longer transport bioterror patho...       0   1.0   0.918075\n",
              "628  @noah_anyname That's where the concentration c...       0   1.0   0.894729\n",
              "49   @madonnamking RSPCA site multiple 7 story high...       0   1.0   0.880940\n",
              "393  @SonofLiberty357 all illuminated by the bright...       0   1.0   0.863494\n",
              "698  åÈMGN-AFRICAå¨ pin:263789F4 åÈ Correction: Ten...       0   1.0   0.845735\n",
              "209  Ashes 2015: AustraliaÛªs collapse at Trent Br...       0   1.0   0.845541\n",
              "251  @AshGhebranious civil rights continued in the ...       0   1.0   0.844725\n",
              "1    FedEx no longer to transport bioterror germs i...       0   1.0   0.832503\n",
              "144                                 The Sound of Arson       0   1.0   0.829086"
            ]
          },
          "metadata": {
            "tags": []
          },
          "execution_count": 108
        }
      ]
    },
    {
      "cell_type": "markdown",
      "metadata": {
        "id": "OrktWcA-vxdn"
      },
      "source": [
        "A reminder:\n",
        "\n",
        "* 0 = Not a real diaster Tweet\n",
        "* 1 = Real diaster Tweet"
      ]
    },
    {
      "cell_type": "code",
      "metadata": {
        "colab": {
          "base_uri": "https://localhost:8080/"
        },
        "id": "h_8ouVXauF0A",
        "outputId": "336a079b-0f0b-4173-d633-4883b64e1704"
      },
      "source": [
        "# Check the false positives (model predicted 1 when should've been 0)\n",
        "for row in most_wrong[:10].itertuples(): # loop through the top 10 rows (change the index to view different rows)\n",
        "  _,text,target,pred,prob = row\n",
        "  print(f\"Target:{target},Pred:{int(pred)},Prob:{prob}\")\n",
        "  print(f\"Text:\\n{text}\\n\")\n",
        "  print(\"----\\n\")\n",
        "\n",
        "       \n"
      ],
      "execution_count": 112,
      "outputs": [
        {
          "output_type": "stream",
          "text": [
            "Target:0,Pred:1,Prob:0.9358030557632446\n",
            "Text:\n",
            "? High Skies - Burning Buildings ? http://t.co/uVq41i3Kx2 #nowplaying\n",
            "\n",
            "----\n",
            "\n",
            "Target:0,Pred:1,Prob:0.9180748462677002\n",
            "Text:\n",
            "FedEx will no longer transport bioterror pathogens in wake of anthrax lab mishaps http://t.co/lHpgxc4b8J\n",
            "\n",
            "----\n",
            "\n",
            "Target:0,Pred:1,Prob:0.8947287201881409\n",
            "Text:\n",
            "@noah_anyname That's where the concentration camps and mass murder come in. \n",
            " \n",
            "EVERY. FUCKING. TIME.\n",
            "\n",
            "----\n",
            "\n",
            "Target:0,Pred:1,Prob:0.8809401392936707\n",
            "Text:\n",
            "@madonnamking RSPCA site multiple 7 story high rise buildings next to low density character residential in an area that floods\n",
            "\n",
            "----\n",
            "\n",
            "Target:0,Pred:1,Prob:0.8634936213493347\n",
            "Text:\n",
            "@SonofLiberty357 all illuminated by the brightly burning buildings all around the town!\n",
            "\n",
            "----\n",
            "\n",
            "Target:0,Pred:1,Prob:0.8457349538803101\n",
            "Text:\n",
            "åÈMGN-AFRICAå¨ pin:263789F4 åÈ Correction: Tent Collapse Story: Correction: Tent Collapse story åÈ http://t.co/fDJUYvZMrv @wizkidayo\n",
            "\n",
            "----\n",
            "\n",
            "Target:0,Pred:1,Prob:0.8455408215522766\n",
            "Text:\n",
            "Ashes 2015: AustraliaÛªs collapse at Trent Bridge among worst in history: England bundled out Australia for 60 ... http://t.co/t5TrhjUAU0\n",
            "\n",
            "----\n",
            "\n",
            "Target:0,Pred:1,Prob:0.8447249531745911\n",
            "Text:\n",
            "@AshGhebranious civil rights continued in the 60s. And what about trans-generational trauma? if anything we should listen to the Americans.\n",
            "\n",
            "----\n",
            "\n",
            "Target:0,Pred:1,Prob:0.8325033187866211\n",
            "Text:\n",
            "FedEx no longer to transport bioterror germs in wake of anthrax lab mishaps http://t.co/qZQc8WWwcN via @usatoday\n",
            "\n",
            "----\n",
            "\n",
            "Target:0,Pred:1,Prob:0.8290859460830688\n",
            "Text:\n",
            "The Sound of Arson\n",
            "\n",
            "----\n",
            "\n"
          ],
          "name": "stdout"
        }
      ]
    },
    {
      "cell_type": "markdown",
      "metadata": {
        "id": "gQBcrz3zx_vY"
      },
      "source": [
        "# Making predictions on the test dataset"
      ]
    },
    {
      "cell_type": "code",
      "metadata": {
        "id": "6v1qygfGwphE"
      },
      "source": [
        "# Turn Tweet into string\n",
        "daniels_tweet = \"Life like an ensemble: take the best choices from others and make your own\""
      ],
      "execution_count": 119,
      "outputs": []
    },
    {
      "cell_type": "code",
      "metadata": {
        "id": "nkNGkVHFyXAb"
      },
      "source": [
        "def predict_on_sentence(model, sentence):\n",
        "  \"\"\"\n",
        "  Uses model to make a prediction on sentence.\n",
        "\n",
        "  Returns the sentence, the predicted label and the prediction probability.\n",
        "  \"\"\"\n",
        "  pred_prob = model.predict([sentence])\n",
        "  pred_label = tf.squeeze(tf.round(pred_prob)).numpy()\n",
        "  print(f\"Pred: {pred_label}\", \"(real disaster)\" if pred_label > 0 else \"(not real disaster)\", f\"Prob: {pred_prob[0][0]}\")\n",
        "  print(f\"Text:\\n{sentence}\")"
      ],
      "execution_count": 120,
      "outputs": []
    },
    {
      "cell_type": "code",
      "metadata": {
        "colab": {
          "base_uri": "https://localhost:8080/"
        },
        "id": "gy7kmIR_0De4",
        "outputId": "a7c19578-c9de-4b30-8d8f-6f820043faeb"
      },
      "source": [
        "# Make a prediction on Tweet from the wild\n",
        "predict_on_sentence(model=model_6, # use the USE model\n",
        "                    sentence=daniels_tweet)"
      ],
      "execution_count": 121,
      "outputs": [
        {
          "output_type": "stream",
          "text": [
            "Pred: 0.0 (not real disaster) Prob: 0.05669981613755226\n",
            "Text:\n",
            "Life like an ensemble: take the best choices from others and make your own\n"
          ],
          "name": "stdout"
        }
      ]
    },
    {
      "cell_type": "code",
      "metadata": {
        "id": "QsOEzuEh0Fxp"
      },
      "source": [
        "disaster = \" A two-storey building collapsed in Makhdumpur, Jehanabad. No casualties reported so far. \""
      ],
      "execution_count": 124,
      "outputs": []
    },
    {
      "cell_type": "code",
      "metadata": {
        "colab": {
          "base_uri": "https://localhost:8080/"
        },
        "id": "BBYk3mMz0a5o",
        "outputId": "d829ebfa-64db-49f3-ab6f-5aa34061f60c"
      },
      "source": [
        "predict_on_sentence(model=model_6, # use the USE model\n",
        "                    sentence=disaster)"
      ],
      "execution_count": 125,
      "outputs": [
        {
          "output_type": "stream",
          "text": [
            "Pred: 1.0 (real disaster) Prob: 0.9883749485015869\n",
            "Text:\n",
            " A two-storey building collapsed in Makhdumpur, Jehanabad. No casualties reported so far. \n"
          ],
          "name": "stdout"
        }
      ]
    },
    {
      "cell_type": "markdown",
      "metadata": {
        "id": "7CSB263j1JgZ"
      },
      "source": [
        "# The speed/score tradeoff"
      ]
    },
    {
      "cell_type": "code",
      "metadata": {
        "id": "YnxZOvrJ0fEP"
      },
      "source": [
        "# Calculate the time of predictions\n",
        "import time\n",
        "def pred_timer(model, samples):\n",
        "  \"\"\"\n",
        "  Times how long a model takes to make predictions on samples.\n",
        "  \n",
        "  Args:\n",
        "  ----\n",
        "  model = a trained model\n",
        "  sample = a list of samples\n",
        "\n",
        "  Returns:\n",
        "  ----\n",
        "  total_time = total elapsed time for model to make predictions on samples\n",
        "  time_per_pred = time in seconds per single sample\n",
        "  \"\"\"\n",
        "  start_time = time.perf_counter() # get start time\n",
        "  model.predict(samples) # make predictions\n",
        "  end_time = time.perf_counter() # get finish time\n",
        "  total_time = end_time-start_time # calculate how long predictions took to make\n",
        "  time_per_pred = total_time/len(val_sentence) # find prediction time per sample\n",
        "  return total_time, time_per_pred"
      ],
      "execution_count": 130,
      "outputs": []
    },
    {
      "cell_type": "code",
      "metadata": {
        "colab": {
          "base_uri": "https://localhost:8080/"
        },
        "id": "bk0oSOCq1N7x",
        "outputId": "6d3cf318-f54e-4102-97fd-55802594cab9"
      },
      "source": [
        "# Calculate TF Hub Sentence Encoder prediction times\n",
        "model_6_total_pred_time, model_6_time_per_pred = pred_timer(model_6, val_sentence)\n",
        "model_6_total_pred_time, model_6_time_per_pred"
      ],
      "execution_count": 131,
      "outputs": [
        {
          "output_type": "execute_result",
          "data": {
            "text/plain": [
              "(0.2222102350001478, 0.00029161448162749054)"
            ]
          },
          "metadata": {
            "tags": []
          },
          "execution_count": 131
        }
      ]
    },
    {
      "cell_type": "code",
      "metadata": {
        "colab": {
          "base_uri": "https://localhost:8080/"
        },
        "id": "3JdK4YiH1aun",
        "outputId": "ce32b2f0-fafd-470f-d4a8-0b8856d3113e"
      },
      "source": [
        " #Calculate Naive Bayes prediction times\n",
        "baseline_total_pred_time, baseline_time_per_pred = pred_timer(model_0, val_sentence)\n",
        "baseline_total_pred_time, baseline_time_per_pred"
      ],
      "execution_count": 133,
      "outputs": [
        {
          "output_type": "execute_result",
          "data": {
            "text/plain": [
              "(0.015493912999772874, 2.033321915980692e-05)"
            ]
          },
          "metadata": {
            "tags": []
          },
          "execution_count": 133
        }
      ]
    },
    {
      "cell_type": "code",
      "metadata": {
        "colab": {
          "base_uri": "https://localhost:8080/",
          "height": 458
        },
        "id": "vMgAZG8k1oO3",
        "outputId": "a8185fcc-a911-4a12-b733-08eead1df25b"
      },
      "source": [
        "import matplotlib.pyplot as plt\n",
        "\n",
        "plt.figure(figsize=(10, 7))\n",
        "plt.scatter(baseline_time_per_pred, baseline_results[\"f1\"], label=\"baseline\")\n",
        "plt.scatter(model_6_time_per_pred, model_6_results[\"f1\"], label=\"tf_hub_sentence_encoder\")\n",
        "plt.legend()\n",
        "plt.title(\"F1-score versus time per prediction\")\n",
        "plt.xlabel(\"Time per prediction\")\n",
        "plt.ylabel(\"F1-Score\");"
      ],
      "execution_count": 134,
      "outputs": [
        {
          "output_type": "display_data",
          "data": {
            "image/png": "[encoded data removed]",
            "text/plain": [
              "<Figure size 720x504 with 1 Axes>"
            ]
          },
          "metadata": {
            "tags": [],
            "needs_background": "light"
          }
        }
      ]
    },
    {
      "cell_type": "code",
      "metadata": {
        "id": "B8eQLV5k1t0B"
      },
      "source": [
        ""
      ],
      "execution_count": null,
      "outputs": []
    }
  ]
}