{
  "nbformat": 4,
  "nbformat_minor": 0,
  "metadata": {
    "accelerator": "GPU",
    "colab": {
      "name": "04-transfer-learning-in-tensorflow-feature-extractionipynb",
      "provenance": [],
      "toc_visible": true,
      "authorship_tag": "ABX9TyNY0+jxC5xDfctYXp9QX8yy",
      "include_colab_link": true
    },
    "kernelspec": {
      "display_name": "Python 3",
      "name": "python3"
    },
    "language_info": {
      "name": "python"
    }
  },
  "cells": [
    {
      "cell_type": "markdown",
      "metadata": {
        "id": "view-in-github",
        "colab_type": "text"
      },
      "source": [
        "<a href=\"https://colab.research.google.com/github/Pacifier25/ZTM-Tensorflow-course/blob/main/04_transfer_learning_in_tensorflow_feature_extractionipynb.ipynb\" target=\"_parent\"><img src=\"https://colab.research.google.com/assets/colab-badge.svg\" alt=\"Open In Colab\"/></a>"
      ]
    },
    {
      "cell_type": "markdown",
      "metadata": {
        "id": "k8vQ0Cr-QM7d"
      },
      "source": [
        "# Transfer Learning with TensorFlow Part 1: Feature Extraction\n",
        "\n",
        "Transfer learning is levaraging a working model's existing architecture and learned problem on our own pattern\n",
        "\n",
        "There are two main benefits to using transfer learning:\n",
        "\n",
        "1. Can leverage an existing neural network architecture proven to work on problems similar to our own.\n",
        "2. Can leverage a working neural network architecture which has already learned patterns on similar data to our own. This often results in achieving great results with less custom data."
      ]
    },
    {
      "cell_type": "code",
      "metadata": {
        "colab": {
          "base_uri": "https://localhost:8080/"
        },
        "id": "he3Nasv-O2sV",
        "outputId": "ca83633a-26e9-4c3b-b2d4-19a9866ef59f"
      },
      "source": [
        "# Are we using a GPU?\n",
        "!nvidia-smi"
      ],
      "execution_count": null,
      "outputs": [
        {
          "output_type": "stream",
          "text": [
            "NVIDIA-SMI has failed because it couldn't communicate with the NVIDIA driver. Make sure that the latest NVIDIA driver is installed and running.\n",
            "\n"
          ],
          "name": "stdout"
        }
      ]
    },
    {
      "cell_type": "markdown",
      "metadata": {
        "id": "N0kNxKdbRatl"
      },
      "source": [
        "# Downloading and becoming one with the data"
      ]
    },
    {
      "cell_type": "code",
      "metadata": {
        "colab": {
          "base_uri": "https://localhost:8080/"
        },
        "id": "RZABEDg2RLMn",
        "outputId": "ecf001ae-1c95-4979-db5a-7460bf6234ac"
      },
      "source": [
        "# Get data (10% of labels)\n",
        "import zipfile\n",
        "# Download data\n",
        "!wget https://storage.googleapis.com/ztm_tf_course/food_vision/10_food_classes_10_percent.zip\n",
        "# Unzip the downloaded file\n",
        "zip_ref = zipfile.ZipFile(\"10_food_classes_10_percent.zip\",\"r\")\n",
        "zip_ref.extractall()\n",
        "zip_ref.close()\n"
      ],
      "execution_count": null,
      "outputs": [
        {
          "output_type": "stream",
          "text": [
            "--2021-05-20 07:05:25--  https://storage.googleapis.com/ztm_tf_course/food_vision/10_food_classes_10_percent.zip\n",
            "Resolving storage.googleapis.com (storage.googleapis.com)... 142.251.33.208, 172.217.13.80, 172.217.15.80, ...\n",
            "Connecting to storage.googleapis.com (storage.googleapis.com)|142.251.33.208|:443... connected.\n",
            "HTTP request sent, awaiting response... 200 OK\n",
            "Length: 168546183 (161M) [application/zip]\n",
            "Saving to: ‘10_food_classes_10_percent.zip’\n",
            "\n",
            "10_food_classes_10_ 100%[===================>] 160.74M   112MB/s    in 1.4s    \n",
            "\n",
            "2021-05-20 07:05:26 (112 MB/s) - ‘10_food_classes_10_percent.zip’ saved [168546183/168546183]\n",
            "\n"
          ],
          "name": "stdout"
        }
      ]
    },
    {
      "cell_type": "code",
      "metadata": {
        "colab": {
          "base_uri": "https://localhost:8080/"
        },
        "id": "n8TCz8nHSNmG",
        "outputId": "573584b7-87a9-4f9b-b459-245059591bee"
      },
      "source": [
        "# How many images in each folder?\n",
        "import os\n",
        "for dirpath,dirnames,filenames in os.walk(\"10_food_classes_10_percent\"):\n",
        "  print(f\"There are {len(dirnames)} directories and {len(filenames)} images in {dirpath}\")"
      ],
      "execution_count": null,
      "outputs": [
        {
          "output_type": "stream",
          "text": [
            "There are 2 directories and 0 images in 10_food_classes_10_percent\n",
            "There are 10 directories and 0 images in 10_food_classes_10_percent/test\n",
            "There are 0 directories and 250 images in 10_food_classes_10_percent/test/ice_cream\n",
            "There are 0 directories and 250 images in 10_food_classes_10_percent/test/steak\n",
            "There are 0 directories and 250 images in 10_food_classes_10_percent/test/grilled_salmon\n",
            "There are 0 directories and 250 images in 10_food_classes_10_percent/test/hamburger\n",
            "There are 0 directories and 250 images in 10_food_classes_10_percent/test/pizza\n",
            "There are 0 directories and 250 images in 10_food_classes_10_percent/test/ramen\n",
            "There are 0 directories and 250 images in 10_food_classes_10_percent/test/chicken_curry\n",
            "There are 0 directories and 250 images in 10_food_classes_10_percent/test/sushi\n",
            "There are 0 directories and 250 images in 10_food_classes_10_percent/test/chicken_wings\n",
            "There are 0 directories and 250 images in 10_food_classes_10_percent/test/fried_rice\n",
            "There are 10 directories and 0 images in 10_food_classes_10_percent/train\n",
            "There are 0 directories and 75 images in 10_food_classes_10_percent/train/ice_cream\n",
            "There are 0 directories and 75 images in 10_food_classes_10_percent/train/steak\n",
            "There are 0 directories and 75 images in 10_food_classes_10_percent/train/grilled_salmon\n",
            "There are 0 directories and 75 images in 10_food_classes_10_percent/train/hamburger\n",
            "There are 0 directories and 75 images in 10_food_classes_10_percent/train/pizza\n",
            "There are 0 directories and 75 images in 10_food_classes_10_percent/train/ramen\n",
            "There are 0 directories and 75 images in 10_food_classes_10_percent/train/chicken_curry\n",
            "There are 0 directories and 75 images in 10_food_classes_10_percent/train/sushi\n",
            "There are 0 directories and 75 images in 10_food_classes_10_percent/train/chicken_wings\n",
            "There are 0 directories and 75 images in 10_food_classes_10_percent/train/fried_rice\n"
          ],
          "name": "stdout"
        }
      ]
    },
    {
      "cell_type": "markdown",
      "metadata": {
        "id": "vktQ4LSUTPBm"
      },
      "source": [
        "# Creating data loaders (preparing the data)\n",
        "\n",
        "we will use the ImageDataGenreator class to load in our images in our batches\n"
      ]
    },
    {
      "cell_type": "code",
      "metadata": {
        "colab": {
          "base_uri": "https://localhost:8080/"
        },
        "id": "Wrg6pehsTFHN",
        "outputId": "67819113-e96a-4816-d166-3315c5f892a0"
      },
      "source": [
        "# Setup data inputs\n",
        "from tensorflow.keras.preprocessing.image import ImageDataGenerator\n",
        "\n",
        "IMAGE_SHAPE = (224,224)\n",
        "BATCH_SIZE = 32\n",
        "\n",
        "train_dir = \"10_food_classes_10_percent/train/\"\n",
        "test_dir = \"10_food_classes_10_percent/test\"\n",
        "\n",
        "\n",
        "train_datagen = ImageDataGenerator(1/255.)\n",
        "test_datagen = ImageDataGenerator(1/255.)\n",
        "\n",
        "print(\"Training images\")\n",
        "train_data_10_percent = train_datagen.flow_from_directory(train_dir,\n",
        "                                                           target_size = IMAGE_SHAPE,\n",
        "                                                           batch_size = BATCH_SIZE,\n",
        "                                                           class_mode = \"categorical\")\n",
        "\n",
        "print(\"Test images\")\n",
        "test_data = test_datagen.flow_from_directory(test_dir,\n",
        "                                              target_size = IMAGE_SHAPE,\n",
        "                                              batch_size = BATCH_SIZE,\n",
        "                                              class_mode = \"categorical\")"
      ],
      "execution_count": null,
      "outputs": [
        {
          "output_type": "stream",
          "text": [
            "Training images\n",
            "Found 750 images belonging to 10 classes.\n",
            "Test images\n",
            "Found 2500 images belonging to 10 classes.\n"
          ],
          "name": "stdout"
        }
      ]
    },
    {
      "cell_type": "markdown",
      "metadata": {
        "id": "3KcnOFrWWQt0"
      },
      "source": [
        "# Setting up callbacks (things to run whilst our model trains)\n",
        "\n",
        "Callbacks are extra functionality you can add to your models to be performed during or after training. Some of the most popular callbacks include:\n",
        "\n",
        "* **Experiment tracking with TensorBoard** - log the performance of multiple models and then view and compare these models in a visual way on TensorBoard (a dashboard for inspecting neural network parameters). Helpful to compare the results of different models on your data.\n",
        "* **Model checkpointing** - save your model as it trains so you can stop training if needed and come back to continue off where you left. Helpful if training takes a long time and can't be done in one sitting.\n",
        "* **Early stopping** - leave your model training for an arbitrary amount of time and have it stop training automatically when it ceases to improve. Helpful when you've got a large dataset and don't know how long training will take."
      ]
    },
    {
      "cell_type": "code",
      "metadata": {
        "id": "3j1R1GU9VEaN"
      },
      "source": [
        "# Create tensorboard callback (functionized because need to create a new one for each model)\n",
        "import datetime\n",
        "\n",
        "def create_tensor_board_callbacks(dir_name,experiment_name):\n",
        "  log_dir = dir_name + \"/\" + experiment_name + \"/\" + datetime.datetime.now().strftime(\"%Y%m%d-%H%M%S\")\n",
        "  tensorboard_callbacks = tf.keras.callbacks.TensorBoard(log_dir = log_dir)\n",
        "  print(f\"Saving TensorBoard log files to: {log_dir}\")\n",
        "  return tensorboard_callbacks"
      ],
      "execution_count": null,
      "outputs": []
    },
    {
      "cell_type": "markdown",
      "metadata": {
        "id": "VYEOht1naF0T"
      },
      "source": [
        "# Creating models using TensorFlow Hub\n",
        "\n",
        "In the past we've used TensorFlow to create our own models layer by layer from scratch.\n",
        "\n",
        "Now we're going to do a similar process, except the majority of our model's layers are going to come from TensorFlow Hub.\n",
        "\n",
        "we can access pretrained model on:https://tfhub.dev/\n",
        "\n"
      ]
    },
    {
      "cell_type": "code",
      "metadata": {
        "id": "qU9fJT-pZWbZ"
      },
      "source": [
        "# Let's compare the following two models\n",
        "\n",
        "# Resnet 50 V2 feature vector\n",
        "resnet_url = \"https://tfhub.dev/google/bit/m-r50x1/1\"\n",
        "#EfficientNet0 feature vector\n",
        "efficient_url = \"https://tfhub.dev/tensorflow/efficientnet/b0/feature-vector/1\""
      ],
      "execution_count": null,
      "outputs": []
    },
    {
      "cell_type": "code",
      "metadata": {
        "id": "O57kEe1Nfmxn"
      },
      "source": [
        "# Import dependencies\n",
        "import tensorflow as tf\n",
        "import tensorflow_hub as hub\n",
        "from tensorflow.keras import layers\n",
        "\n"
      ],
      "execution_count": null,
      "outputs": []
    },
    {
      "cell_type": "code",
      "metadata": {
        "id": "4MKavRx9f9Qn"
      },
      "source": [
        "def create_model(model_url, num_classes=10):\n",
        "\n",
        "  \"\"\"Takes a TensorFlow Hub URL and creates a Keras Sequential model with it.\n",
        "  \n",
        "  Args:\n",
        "    model_url (str): A TensorFlow Hub feature extraction URL.\n",
        "    num_classes (int): Number of output neurons in output layer,\n",
        "      should be equal to number of target classes, default 10.\n",
        "\n",
        "  Returns:\n",
        "    An uncompiled Keras Sequential model with model_url as feature\n",
        "    extractor layer and Dense output layer with num_classes outputs.\n",
        "  \"\"\"\n",
        "   # Download the pretrained model and save it as a Keras layer\n",
        "  feature_extractor_layer = hub.KerasLayer(model_url,\n",
        "                                             trainable = False,# freeze the underlying patterns\n",
        "                                             name = 'featured_extraction_layer',\n",
        "                                             input_shape = (224,224,3))# define the input image shape\n",
        "\n",
        "   # Create our own model\n",
        "  model = tf.keras.Sequential([\n",
        "      feature_extractor_layer, # use the feature extraction layer as the base\n",
        "      tf.keras.layers.Dense(num_classes,activation = tf.keras.activations.softmax,name = \"output_model\")\n",
        "   ])                \n",
        "\n",
        "  return model                        "
      ],
      "execution_count": null,
      "outputs": []
    },
    {
      "cell_type": "code",
      "metadata": {
        "id": "ajkGzgVi1LVQ"
      },
      "source": [
        "def create_model(model_url , num_classes = 10):\n",
        "  '''\n",
        "  Takes a TensorFlow Hub URL and creates a Keras Sequential model with it\n",
        " \n",
        "  Args: \n",
        "     model_url (str): A TensorFlow Hub feature extraction URL \n",
        "     num_classes (int): Number of output neuron in the output layer, should be \n",
        "                       equal to the number of target classes, default 10. \n",
        " \n",
        "  Returns: \n",
        "  An uncompiled Keras Sequential model with model_url as feature extractor layer \n",
        "  and Dense output layer with num_classes output neurons. \n",
        "  '''\n",
        "  # Download the pretrained model and save it as a Keras layer\n",
        "  feature_extraction_layer = hub.KerasLayer(model_url , \n",
        "                                           trainable = False, # freeze the already learnt model \n",
        "                                           name = 'feature_extraction_layer' , \n",
        "                                           input_shape = IMG_SHAPE + (3,)) # (224, 224, 3)\n",
        " \n",
        "  # Create our own model \n",
        "  model = tf.keras.Sequential([\n",
        "    feature_extraction_layer , \n",
        "    layers.Dense(num_classes , activation=tf.keras.activations.softmax , name = 'output_layer')\n",
        "  ])\n",
        "  \n",
        "  return model"
      ],
      "execution_count": null,
      "outputs": []
    },
    {
      "cell_type": "markdown",
      "metadata": {
        "id": "P2rKVSefh9y9"
      },
      "source": [
        "# Creating and testing Resnet TensorFlow Hub feature Extraction Model"
      ]
    },
    {
      "cell_type": "code",
      "metadata": {
        "id": "U2Cx22INhEND"
      },
      "source": [
        "resnet_model = create_model(resnet_url,\n",
        "                            num_classes = train_data_10_percent.num_classes)"
      ],
      "execution_count": null,
      "outputs": []
    },
    {
      "cell_type": "code",
      "metadata": {
        "colab": {
          "base_uri": "https://localhost:8080/"
        },
        "id": "aXUNbvZXinr9",
        "outputId": "3b094283-f78f-46fc-a0be-851455331831"
      },
      "source": [
        "resnet_model.summary()"
      ],
      "execution_count": null,
      "outputs": [
        {
          "output_type": "stream",
          "text": [
            "Model: \"sequential\"\n",
            "_________________________________________________________________\n",
            "Layer (type)                 Output Shape              Param #   \n",
            "=================================================================\n",
            "featured_extraction_layer (K (None, 2048)              23500352  \n",
            "_________________________________________________________________\n",
            "output_model (Dense)         (None, 10)                20490     \n",
            "=================================================================\n",
            "Total params: 23,520,842\n",
            "Trainable params: 20,490\n",
            "Non-trainable params: 23,500,352\n",
            "_________________________________________________________________\n"
          ],
          "name": "stdout"
        }
      ]
    },
    {
      "cell_type": "code",
      "metadata": {
        "id": "HxtUIt29jor9"
      },
      "source": [
        "# Let's fit our Resnet model to the data(10 percent of 10 classes)\n",
        "resnet_model.compile(loss = tf.keras.losses.categorical_crossentropy,\n",
        "                     optimizer = tf.keras.optimizers.Adam(),\n",
        "                     metrics = [\"accuracy\"])\n",
        "\n"
      ],
      "execution_count": null,
      "outputs": []
    },
    {
      "cell_type": "code",
      "metadata": {
        "colab": {
          "base_uri": "https://localhost:8080/"
        },
        "id": "MCM5ssdnkKJj",
        "outputId": "1ab92d22-d2fd-42fa-d963-3c07a80823ac"
      },
      "source": [
        "resnet_history = resnet_model.fit(train_data_10_percent,\n",
        "                                  epochs = 5,\n",
        "                                  steps_per_epoch = len(train_data_10_percent),\n",
        "                                  validation_data = test_data,\n",
        "                                  validation_steps = len(test_data),\n",
        "                                  callbacks = [create_tensor_board_callbacks(dir_name = \"tensorflow hub\", # save experiment logs here\n",
        "                                                                            experiment_name = \"resnet50V2\")]) # name of log files"
      ],
      "execution_count": null,
      "outputs": [
        {
          "output_type": "stream",
          "text": [
            "Saving TensorBoard log files to: tensorflow hub/resnet50V2/20210520-070551\n"
          ],
          "name": "stdout"
        },
        {
          "output_type": "stream",
          "text": [
            "/usr/local/lib/python3.7/dist-packages/keras_preprocessing/image/image_data_generator.py:720: UserWarning: This ImageDataGenerator specifies `featurewise_center`, but it hasn't been fit on any training data. Fit it first by calling `.fit(numpy_data)`.\n",
            "  warnings.warn('This ImageDataGenerator specifies '\n"
          ],
          "name": "stderr"
        },
        {
          "output_type": "stream",
          "text": [
            "Epoch 1/5\n",
            "24/24 [==============================] - 669s 28s/step - loss: 3.7969 - accuracy: 0.2671 - val_loss: 0.7871 - val_accuracy: 0.7620\n",
            "Epoch 2/5\n",
            "24/24 [==============================] - 656s 28s/step - loss: 0.7066 - accuracy: 0.7981 - val_loss: 0.6238 - val_accuracy: 0.8324\n",
            "Epoch 3/5\n",
            "24/24 [==============================] - 659s 28s/step - loss: 0.3692 - accuracy: 0.8888 - val_loss: 0.4877 - val_accuracy: 0.8612\n",
            "Epoch 4/5\n",
            "24/24 [==============================] - 656s 28s/step - loss: 0.2395 - accuracy: 0.9225 - val_loss: 0.4656 - val_accuracy: 0.8624\n",
            "Epoch 5/5\n",
            "24/24 [==============================] - 652s 28s/step - loss: 0.1380 - accuracy: 0.9534 - val_loss: 0.4296 - val_accuracy: 0.8800\n"
          ],
          "name": "stdout"
        }
      ]
    },
    {
      "cell_type": "markdown",
      "metadata": {
        "id": "cukY0NmWolLx"
      },
      "source": [
        "Wow!\n",
        "\n",
        "It seems that after only 5 epochs, the ResNetV250 feature extraction model was able to blow any of the architectures we made out of the water, achieving around 90% accuracy on the training set and nearly 80% accuracy on the test set...with only 10 percent of the training images!"
      ]
    },
    {
      "cell_type": "code",
      "metadata": {
        "id": "vECY2uBYlAML"
      },
      "source": [
        "import matplotlib.pyplot as plt\n",
        "\n",
        "# Plot the validation and training data separately\n",
        "def plot_loss_curve(history):\n",
        "  \"\"\"\n",
        "  Returns separate loss curves for training and validation metrics.\n",
        "  \"\"\" \n",
        "  loss = history.history['loss']\n",
        "  val_loss = history.history['val_loss']\n",
        "\n",
        "  accuracy = history.history['accuracy']\n",
        "  val_accuracy = history.history['val_accuracy']\n",
        "\n",
        "  epochs = range(len(history.history['loss']))\n",
        "  # Plot loss\n",
        "  plt.plot(epochs,loss,label = 'training_loss')\n",
        "  plt.plot(epochs,val_loss,label = 'val_loss')\n",
        "  plt.title('loss')\n",
        "  plt.xlabel('Epochs')\n",
        "  plt.legend()\n",
        "\n",
        "  # Plot accuracy\n",
        "  plt.figure()\n",
        "  plt.plot(epochs,accuracy,label ='training_accuracy')\n",
        "  plt.plot(epochs,val_accuracy,label = 'val_accuracy')\n",
        "  plt.title('Accuracy')\n",
        "  plt.xlabel('Epochs')\n",
        "  plt.legend();"
      ],
      "execution_count": null,
      "outputs": []
    },
    {
      "cell_type": "code",
      "metadata": {
        "colab": {
          "base_uri": "https://localhost:8080/",
          "height": 573
        },
        "id": "HPnkQhFwqhq2",
        "outputId": "c2efc012-5bd6-4bd6-cb4b-dfc43a1af463"
      },
      "source": [
        "plot_loss_curve(resnet_history)"
      ],
      "execution_count": null,
      "outputs": [
        {
          "output_type": "display_data",
          "data": {
            "image/png": "[encoded data removed]",
            "text/plain": [
              "<Figure size 432x288 with 1 Axes>"
            ]
          },
          "metadata": {
            "tags": []
          }
        },
        {
          "output_type": "display_data",
          "data": {
            "image/png": "[encoded data removed]",
            "text/plain": [
              "<Figure size 432x288 with 1 Axes>"
            ]
          },
          "metadata": {
            "tags": []
          }
        }
      ]
    },
    {
      "cell_type": "markdown",
      "metadata": {
        "id": "uOayhzTbrBAt"
      },
      "source": [
        "# Creating and testing EffecientNetB0 TensorFlow hub featre extraction model"
      ]
    },
    {
      "cell_type": "code",
      "metadata": {
        "colab": {
          "background_save": true,
          "base_uri": "https://localhost:8080/"
        },
        "id": "o2q3Zjzqq1GE",
        "outputId": "0507088e-c95d-4656-d5bd-4e24db9689e7"
      },
      "source": [
        "# Create model\n",
        "efficientnet_model = create_model(model_url=efficient_url,\n",
        "                                  num_classes = train_data_10_percent.num_classes)\n",
        "# Compile EfficientNet model\n",
        "efficientnet_model.compile(loss = tf.keras.losses.categorical_crossentropy,\n",
        "                        optimizer = tf.keras.optimizers.Adam(),\n",
        "                        metrics = [\"accuracy\"])\n",
        "\n",
        "efficient_history = efficientnet_model.fit(train_data_10_percent,\n",
        "                    epochs = 5,\n",
        "                    steps_per_epoch = len(train_data_10_percent),\n",
        "                    validation_data = test_data,\n",
        "                    validation_steps = len(test_data),\n",
        "                    callbacks = [create_tensor_board_callbacks(dir_name=\"tensorflow_hub\",\n",
        "                                                               experiment_name = \"efficientnetB0\")])"
      ],
      "execution_count": null,
      "outputs": [
        {
          "output_type": "stream",
          "text": [
            "Saving TensorBoard log files to: tensorflow_hub/efficientnetB0/20210520-080054\n"
          ],
          "name": "stdout"
        },
        {
          "output_type": "stream",
          "text": [
            "/usr/local/lib/python3.7/dist-packages/keras_preprocessing/image/image_data_generator.py:720: UserWarning: This ImageDataGenerator specifies `featurewise_center`, but it hasn't been fit on any training data. Fit it first by calling `.fit(numpy_data)`.\n",
            "  warnings.warn('This ImageDataGenerator specifies '\n"
          ],
          "name": "stderr"
        },
        {
          "output_type": "stream",
          "text": [
            "Epoch 1/5\n",
            "24/24 [==============================] - 195s 8s/step - loss: 902.6947 - accuracy: 0.0820 - val_loss: 577.9097 - val_accuracy: 0.1132\n",
            "Epoch 2/5\n",
            "24/24 [==============================] - 184s 8s/step - loss: 474.1990 - accuracy: 0.1564 - val_loss: 537.0837 - val_accuracy: 0.1216\n",
            "Epoch 3/5\n",
            "24/24 [==============================] - 184s 8s/step - loss: 299.7393 - accuracy: 0.1708 - val_loss: 503.5878 - val_accuracy: 0.1128\n",
            "Epoch 4/5\n",
            "24/24 [==============================] - 183s 8s/step - loss: 239.1675 - accuracy: 0.1851 - val_loss: 501.8541 - val_accuracy: 0.1116\n",
            "Epoch 5/5\n",
            "24/24 [==============================] - 183s 8s/step - loss: 206.6151 - accuracy: 0.2603 - val_loss: 492.5180 - val_accuracy: 0.1144\n"
          ],
          "name": "stdout"
        }
      ]
    },
    {
      "cell_type": "code",
      "metadata": {
        "colab": {
          "background_save": true
        },
        "id": "A600qr8q4J39",
        "outputId": "2ce06afa-948f-45a2-d885-d3f3568daa5c"
      },
      "source": [
        "plot_loss_curve(efficient_history)"
      ],
      "execution_count": null,
      "outputs": [
        {
          "output_type": "display_data",
          "data": {
            "image/png": "[encoded data removed]",
            "text/plain": [
              "<Figure size 432x288 with 1 Axes>"
            ]
          },
          "metadata": {
            "tags": []
          }
        },
        {
          "output_type": "display_data",
          "data": {
            "image/png": "[encoded data removed]",
            "text/plain": [
              "<Figure size 432x288 with 1 Axes>"
            ]
          },
          "metadata": {
            "tags": []
          }
        }
      ]
    },
    {
      "cell_type": "code",
      "metadata": {
        "colab": {
          "background_save": true
        },
        "id": "hnF6u5RM7GZ9",
        "outputId": "9792140a-4998-47e0-c001-4a63cd6c357c"
      },
      "source": [
        "efficientnet_model.summary()"
      ],
      "execution_count": null,
      "outputs": [
        {
          "output_type": "stream",
          "text": [
            "Model: \"sequential_1\"\n",
            "_________________________________________________________________\n",
            "Layer (type)                 Output Shape              Param #   \n",
            "=================================================================\n",
            "featured_extraction_layer (K (None, 1280)              4049564   \n",
            "_________________________________________________________________\n",
            "output_model (Dense)         (None, 10)                12810     \n",
            "=================================================================\n",
            "Total params: 4,062,374\n",
            "Trainable params: 12,810\n",
            "Non-trainable params: 4,049,564\n",
            "_________________________________________________________________\n"
          ],
          "name": "stdout"
        }
      ]
    },
    {
      "cell_type": "markdown",
      "metadata": {
        "id": "VZep361m8YYp"
      },
      "source": [
        "### Different type of machine learning:\n",
        "\n",
        "* **As is\" transfer learning**-using an existing model with no changes what so ever(eg. using ImageNet model on 1000 ImageNet classes,none of your own)\n",
        "\n",
        "* **Feature extraction**-transfer learning -use the prelearned model pattern of an existing model (eg - EfficientNetB0 trained on ImageNet ) and adjust the  output layer of your own\n",
        "\n",
        "* **Fine tuning**-trasfer learning- use the prelearned pattern of an existing model and fine tune many or  all of them the underlying layers(including new output)"
      ]
    },
    {
      "cell_type": "code",
      "metadata": {
        "colab": {
          "background_save": true
        },
        "id": "o2MVDPO58Dej"
      },
      "source": [
        ""
      ],
      "execution_count": null,
      "outputs": []
    }
  ]
}