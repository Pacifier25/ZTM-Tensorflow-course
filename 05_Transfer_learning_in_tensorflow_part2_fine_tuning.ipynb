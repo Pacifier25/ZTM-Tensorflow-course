{
  "nbformat": 4,
  "nbformat_minor": 0,
  "metadata": {
    "colab": {
      "name": "05_Transfer_learning_in_tensorflow_part2_fine_tuning.ipynb",
      "provenance": [],
      "toc_visible": true,
      "authorship_tag": "ABX9TyMuhfRuzLJL2G8vwkcrcDlx",
      "include_colab_link": true
    },
    "kernelspec": {
      "name": "python3",
      "display_name": "Python 3"
    },
    "language_info": {
      "name": "python"
    },
    "accelerator": "GPU"
  },
  "cells": [
    {
      "cell_type": "markdown",
      "metadata": {
        "id": "view-in-github",
        "colab_type": "text"
      },
      "source": [
        "<a href=\"https://colab.research.google.com/github/Pacifier25/ZTM-Tensorflow-course/blob/main/05_Transfer_learning_in_tensorflow_part2_fine_tuning.ipynb\" target=\"_parent\"><img src=\"https://colab.research.google.com/assets/colab-badge.svg\" alt=\"Open In Colab\"/></a>"
      ]
    },
    {
      "cell_type": "markdown",
      "metadata": {
        "id": "gM329KBPmf36"
      },
      "source": [
        "# Transfer learning with TensorFlow Part2: Fine tuning\n",
        "\n",
        "In the previous notebook we covered tranfer learning feature extraction now it's time to learn about new kind of transer learning: fine tuning"
      ]
    },
    {
      "cell_type": "code",
      "metadata": {
        "colab": {
          "base_uri": "https://localhost:8080/"
        },
        "id": "RNJ7n8kgiS5Z",
        "outputId": "c3c25ee4-12ac-46b8-f19d-e47cba5795ca"
      },
      "source": [
        "# Are we using a GPU?\n",
        "!nvidia-smi"
      ],
      "execution_count": null,
      "outputs": [
        {
          "output_type": "stream",
          "text": [
            "Wed May 19 18:53:37 2021       \n",
            "+-----------------------------------------------------------------------------+\n",
            "| NVIDIA-SMI 465.19.01    Driver Version: 460.32.03    CUDA Version: 11.2     |\n",
            "|-------------------------------+----------------------+----------------------+\n",
            "| GPU  Name        Persistence-M| Bus-Id        Disp.A | Volatile Uncorr. ECC |\n",
            "| Fan  Temp  Perf  Pwr:Usage/Cap|         Memory-Usage | GPU-Util  Compute M. |\n",
            "|                               |                      |               MIG M. |\n",
            "|===============================+======================+======================|\n",
            "|   0  Tesla K80           Off  | 00000000:00:04.0 Off |                    0 |\n",
            "| N/A   73C    P0    76W / 149W |   4359MiB / 11441MiB |      0%      Default |\n",
            "|                               |                      |                  N/A |\n",
            "+-------------------------------+----------------------+----------------------+\n",
            "                                                                               \n",
            "+-----------------------------------------------------------------------------+\n",
            "| Processes:                                                                  |\n",
            "|  GPU   GI   CI        PID   Type   Process name                  GPU Memory |\n",
            "|        ID   ID                                                   Usage      |\n",
            "|=============================================================================|\n",
            "+-----------------------------------------------------------------------------+\n"
          ],
          "name": "stdout"
        }
      ]
    },
    {
      "cell_type": "markdown",
      "metadata": {
        "id": "AT7B1CpVnPJ0"
      },
      "source": [
        "# Creating helper functions\n",
        "\n",
        "In the previous notebook we created a bunch of helper function now we could rewrite them all however it is tedious\n",
        "\n",
        "So it is a good idea to put functions you will want to use again in a script you can download and import into your notebook(or elsewhere)"
      ]
    },
    {
      "cell_type": "code",
      "metadata": {
        "colab": {
          "base_uri": "https://localhost:8080/"
        },
        "id": "SfnjXnnUnJy-",
        "outputId": "4ce17549-92b5-4981-d5a0-74110b0b682e"
      },
      "source": [
        "! wget https://raw.githubusercontent.com/Pacifier25/ZTM-Tensorflow-course/main/helper_function/helper.py"
      ],
      "execution_count": null,
      "outputs": [
        {
          "output_type": "stream",
          "text": [
            "--2021-05-19 18:53:37--  https://raw.githubusercontent.com/Pacifier25/ZTM-Tensorflow-course/main/helper_function/helper.py\n",
            "Resolving raw.githubusercontent.com (raw.githubusercontent.com)... 185.199.109.133, 185.199.110.133, 185.199.111.133, ...\n",
            "Connecting to raw.githubusercontent.com (raw.githubusercontent.com)|185.199.109.133|:443... connected.\n",
            "HTTP request sent, awaiting response... 200 OK\n",
            "Length: 10510 (10K) [text/plain]\n",
            "Saving to: ‘helper.py.2’\n",
            "\n",
            "helper.py.2         100%[===================>]  10.26K  --.-KB/s    in 0s      \n",
            "\n",
            "2021-05-19 18:53:38 (94.3 MB/s) - ‘helper.py.2’ saved [10510/10510]\n",
            "\n"
          ],
          "name": "stdout"
        }
      ]
    },
    {
      "cell_type": "code",
      "metadata": {
        "id": "imqzOV0pn1-5"
      },
      "source": [
        "# Import helper functions we're going to use\n",
        "from helper import create_tensorboard_callback,plot_loss_curves,unzip_data,walk_through_dir"
      ],
      "execution_count": null,
      "outputs": []
    },
    {
      "cell_type": "markdown",
      "metadata": {
        "id": "s4_ORwVto1WC"
      },
      "source": [
        "🔑 **Note**: If you're running this notebook in Google Colab, when it times out Colab will delete the helper_functions.py file. So to use the functions imported above, you'll have to rerun the cell."
      ]
    },
    {
      "cell_type": "markdown",
      "metadata": {
        "id": "USes8QAvo6Qq"
      },
      "source": [
        "# Let's get some data\n",
        "\n",
        "This time we are going to see how we can use the pretrained model within tf.keras.application and apply them to our problem(recognizing image to our food)"
      ]
    },
    {
      "cell_type": "code",
      "metadata": {
        "colab": {
          "base_uri": "https://localhost:8080/"
        },
        "id": "0RXjLpS5ouok",
        "outputId": "84e7f93f-2c5f-443e-fb3a-d21beace106b"
      },
      "source": [
        "# Get 10% of the data of the 10 classes\n",
        "!wget https://storage.googleapis.com/ztm_tf_course/food_vision/10_food_classes_10_percent.zip \n",
        "\n",
        "unzip_data(\"10_food_classes_10_percent.zip\")"
      ],
      "execution_count": null,
      "outputs": [
        {
          "output_type": "stream",
          "text": [
            "--2021-05-19 18:53:38--  https://storage.googleapis.com/ztm_tf_course/food_vision/10_food_classes_10_percent.zip\n",
            "Resolving storage.googleapis.com (storage.googleapis.com)... 74.125.204.128, 64.233.187.128, 64.233.189.128, ...\n",
            "Connecting to storage.googleapis.com (storage.googleapis.com)|74.125.204.128|:443... connected.\n",
            "HTTP request sent, awaiting response... 200 OK\n",
            "Length: 168546183 (161M) [application/zip]\n",
            "Saving to: ‘10_food_classes_10_percent.zip.2’\n",
            "\n",
            "10_food_classes_10_ 100%[===================>] 160.74M   121MB/s    in 1.3s    \n",
            "\n",
            "2021-05-19 18:53:39 (121 MB/s) - ‘10_food_classes_10_percent.zip.2’ saved [168546183/168546183]\n",
            "\n"
          ],
          "name": "stdout"
        }
      ]
    },
    {
      "cell_type": "code",
      "metadata": {
        "colab": {
          "base_uri": "https://localhost:8080/"
        },
        "id": "spRm45uTpf2m",
        "outputId": "95e97293-049b-4a56-f198-bfa8807990a7"
      },
      "source": [
        "# Walk through 10 percent data directory and list number of files\n",
        "walk_through_dir(\"10_food_classes_10_percent\")"
      ],
      "execution_count": null,
      "outputs": [
        {
          "output_type": "stream",
          "text": [
            "There are 2 directories and 0 images in '10_food_classes_10_percent'.\n",
            "There are 10 directories and 0 images in '10_food_classes_10_percent/test'.\n",
            "There are 0 directories and 250 images in '10_food_classes_10_percent/test/grilled_salmon'.\n",
            "There are 0 directories and 250 images in '10_food_classes_10_percent/test/fried_rice'.\n",
            "There are 0 directories and 250 images in '10_food_classes_10_percent/test/chicken_wings'.\n",
            "There are 0 directories and 250 images in '10_food_classes_10_percent/test/ramen'.\n",
            "There are 0 directories and 250 images in '10_food_classes_10_percent/test/hamburger'.\n",
            "There are 0 directories and 250 images in '10_food_classes_10_percent/test/pizza'.\n",
            "There are 0 directories and 250 images in '10_food_classes_10_percent/test/ice_cream'.\n",
            "There are 0 directories and 250 images in '10_food_classes_10_percent/test/steak'.\n",
            "There are 0 directories and 250 images in '10_food_classes_10_percent/test/sushi'.\n",
            "There are 0 directories and 250 images in '10_food_classes_10_percent/test/chicken_curry'.\n",
            "There are 10 directories and 0 images in '10_food_classes_10_percent/train'.\n",
            "There are 0 directories and 75 images in '10_food_classes_10_percent/train/grilled_salmon'.\n",
            "There are 0 directories and 75 images in '10_food_classes_10_percent/train/fried_rice'.\n",
            "There are 0 directories and 75 images in '10_food_classes_10_percent/train/chicken_wings'.\n",
            "There are 0 directories and 75 images in '10_food_classes_10_percent/train/ramen'.\n",
            "There are 0 directories and 75 images in '10_food_classes_10_percent/train/hamburger'.\n",
            "There are 0 directories and 75 images in '10_food_classes_10_percent/train/pizza'.\n",
            "There are 0 directories and 75 images in '10_food_classes_10_percent/train/ice_cream'.\n",
            "There are 0 directories and 75 images in '10_food_classes_10_percent/train/steak'.\n",
            "There are 0 directories and 75 images in '10_food_classes_10_percent/train/sushi'.\n",
            "There are 0 directories and 75 images in '10_food_classes_10_percent/train/chicken_curry'.\n"
          ],
          "name": "stdout"
        }
      ]
    },
    {
      "cell_type": "code",
      "metadata": {
        "id": "IFZp8P6Bp1Lu"
      },
      "source": [
        "# Create training and test data\n",
        "train_dir = \"10_food_classes_10_percent/train/\"\n",
        "test_dir =  \"10_food_classes_10_percent/test/\""
      ],
      "execution_count": null,
      "outputs": []
    },
    {
      "cell_type": "markdown",
      "metadata": {
        "id": "vOmylx1yrXIY"
      },
      "source": [
        "One of the main benefits of using tf.keras.prepreprocessing.image_dataset_from_directory() rather than ImageDataGenerator is that it creates a tf.data.Dataset object rather than a generator. The main advantage of this is the tf.data.Dataset API is much more efficient (faster) than the ImageDataGenerator API which is paramount for larger datasets."
      ]
    },
    {
      "cell_type": "code",
      "metadata": {
        "colab": {
          "base_uri": "https://localhost:8080/"
        },
        "id": "fTP95VxnqKrD",
        "outputId": "b50926d6-d666-4af5-c6b1-8e590e736958"
      },
      "source": [
        "# Create data inputs\n",
        "import tensorflow as tf\n",
        "IMG_SHAPE = (224,224)\n",
        "BATCH_SIZE = 32\n",
        "train_data_10_percent = tf.keras.preprocessing.image_dataset_from_directory(directory = train_dir,\n",
        "                                                                            image_size = IMG_SHAPE,\n",
        "                                                                            label_mode = \"categorical\",\n",
        "                                                                            batch_size = BATCH_SIZE)\n",
        "\n",
        "test_data = tf.keras.preprocessing.image_dataset_from_directory(directory = test_dir,\n",
        "                                                                image_size = IMG_SHAPE,\n",
        "                                                                label_mode = \"categorical\")"
      ],
      "execution_count": null,
      "outputs": [
        {
          "output_type": "stream",
          "text": [
            "Found 750 files belonging to 10 classes.\n",
            "Found 2500 files belonging to 10 classes.\n"
          ],
          "name": "stdout"
        }
      ]
    },
    {
      "cell_type": "code",
      "metadata": {
        "colab": {
          "base_uri": "https://localhost:8080/"
        },
        "id": "FKmb5wJFrzA1",
        "outputId": "b24f7043-10e8-4dc5-f77f-2fc88d2dfa81"
      },
      "source": [
        "train_data_10_percent"
      ],
      "execution_count": null,
      "outputs": [
        {
          "output_type": "execute_result",
          "data": {
            "text/plain": [
              "<BatchDataset shapes: ((None, 224, 224, 3), (None, 10)), types: (tf.float32, tf.float32)>"
            ]
          },
          "metadata": {
            "tags": []
          },
          "execution_count": 165
        }
      ]
    },
    {
      "cell_type": "code",
      "metadata": {
        "colab": {
          "base_uri": "https://localhost:8080/"
        },
        "id": "QQbGKvl7r8to",
        "outputId": "e65b7a67-6ad0-4156-aa1f-6514b2131d14"
      },
      "source": [
        "train_data_10_percent.class_names"
      ],
      "execution_count": null,
      "outputs": [
        {
          "output_type": "execute_result",
          "data": {
            "text/plain": [
              "['chicken_curry',\n",
              " 'chicken_wings',\n",
              " 'fried_rice',\n",
              " 'grilled_salmon',\n",
              " 'hamburger',\n",
              " 'ice_cream',\n",
              " 'pizza',\n",
              " 'ramen',\n",
              " 'steak',\n",
              " 'sushi']"
            ]
          },
          "metadata": {
            "tags": []
          },
          "execution_count": 166
        }
      ]
    },
    {
      "cell_type": "code",
      "metadata": {
        "colab": {
          "base_uri": "https://localhost:8080/"
        },
        "id": "RSQrrJPKsAon",
        "outputId": "44bc2f01-9d46-4f9d-ba42-22857dd14a6f"
      },
      "source": [
        "# See an example batch of data\n",
        "\n",
        "for images,labels in train_data_10_percent.take(1):\n",
        "  print(images,labels)"
      ],
      "execution_count": null,
      "outputs": [
        {
          "output_type": "stream",
          "text": [
            "tf.Tensor(\n",
            "[[[[1.00000000e+00 1.00000000e+00 1.00000000e+00]\n",
            "   [1.00000000e+00 1.00000000e+00 1.00000000e+00]\n",
            "   [1.00000000e+00 1.00000000e+00 1.00000000e+00]\n",
            "   ...\n",
            "   [7.19913387e+00 2.91844821e+00 7.83169317e+00]\n",
            "   [2.37914448e+01 1.54598179e+01 6.54130793e+00]\n",
            "   [1.04856934e+02 9.38569336e+01 6.44282227e+01]]\n",
            "\n",
            "  [[1.00000000e+00 1.00000000e+00 1.00000000e+00]\n",
            "   [1.00000000e+00 1.00000000e+00 1.00000000e+00]\n",
            "   [1.00000000e+00 1.00000000e+00 1.00000000e+00]\n",
            "   ...\n",
            "   [3.00000000e+00 2.14263916e-01 8.87664676e-01]\n",
            "   [6.51076126e+01 5.51841316e+01 4.26738205e+01]\n",
            "   [1.05280533e+02 9.42805328e+01 6.48518219e+01]]\n",
            "\n",
            "  [[1.00000000e+00 1.00000000e+00 1.00000000e+00]\n",
            "   [1.00000000e+00 1.00000000e+00 1.00000000e+00]\n",
            "   [1.00000000e+00 1.00000000e+00 1.00000000e+00]\n",
            "   ...\n",
            "   [8.82673168e+00 4.20930147e+00 1.01023281e+00]\n",
            "   [9.29338608e+01 8.11328354e+01 6.42756119e+01]\n",
            "   [1.05505249e+02 9.17093506e+01 6.27245064e+01]]\n",
            "\n",
            "  ...\n",
            "\n",
            "  [[1.58000000e+02 1.80000000e+02 1.78000000e+02]\n",
            "   [1.58928574e+02 1.80928574e+02 1.78928574e+02]\n",
            "   [1.57831635e+02 1.79831635e+02 1.77831635e+02]\n",
            "   ...\n",
            "   [6.15714722e+01 3.65714722e+01 1.45714722e+01]\n",
            "   [5.91734962e+01 3.31734962e+01 1.01734982e+01]\n",
            "   [5.30815277e+01 2.70815277e+01 4.08152723e+00]]\n",
            "\n",
            "  [[1.58974487e+02 1.80974487e+02 1.78974487e+02]\n",
            "   [1.60928574e+02 1.82928574e+02 1.80928574e+02]\n",
            "   [1.62928558e+02 1.84928558e+02 1.82928558e+02]\n",
            "   ...\n",
            "   [6.56989899e+01 4.06989861e+01 1.86989880e+01]\n",
            "   [6.38622208e+01 3.78622208e+01 1.48622208e+01]\n",
            "   [5.85254860e+01 3.25254860e+01 9.52548695e+00]]\n",
            "\n",
            "  [[1.60714355e+02 1.82714355e+02 1.80714355e+02]\n",
            "   [1.61357178e+02 1.83357178e+02 1.81357178e+02]\n",
            "   [1.60923462e+02 1.82923462e+02 1.80923462e+02]\n",
            "   ...\n",
            "   [6.30000305e+01 3.80000305e+01 1.60000305e+01]\n",
            "   [6.39285583e+01 3.79285583e+01 1.49285583e+01]\n",
            "   [6.41275787e+01 3.81275749e+01 1.51275759e+01]]]\n",
            "\n",
            "\n",
            " [[[1.93841843e+02 1.94586731e+02 1.89714279e+02]\n",
            "   [1.95071426e+02 1.95357147e+02 1.90714279e+02]\n",
            "   [1.96586731e+02 1.95357147e+02 1.93433670e+02]\n",
            "   ...\n",
            "   [1.48270218e+02 1.13555794e+02 1.16698738e+02]\n",
            "   [1.49479721e+02 9.57194290e+01 1.08505165e+02]\n",
            "   [1.61214218e+02 9.67549515e+01 1.13984566e+02]]\n",
            "\n",
            "  [[1.97877548e+02 1.95596939e+02 1.92000000e+02]\n",
            "   [1.99933670e+02 1.95862244e+02 1.92862244e+02]\n",
            "   [2.00341827e+02 1.95642868e+02 1.93357147e+02]\n",
            "   ...\n",
            "   [1.32535751e+02 9.71631470e+01 1.03066315e+02]\n",
            "   [1.51821579e+02 1.01617409e+02 1.13765404e+02]\n",
            "   [1.65301041e+02 1.06040771e+02 1.23897911e+02]]\n",
            "\n",
            "  [[2.01571426e+02 1.92642853e+02 1.91214279e+02]\n",
            "   [2.02301025e+02 1.93372452e+02 1.91943878e+02]\n",
            "   [2.02785721e+02 1.93168365e+02 1.92428574e+02]\n",
            "   ...\n",
            "   [1.47841919e+02 1.16933670e+02 1.22673492e+02]\n",
            "   [1.57678558e+02 1.17663200e+02 1.28892838e+02]\n",
            "   [1.48295715e+02 1.02290611e+02 1.17504898e+02]]\n",
            "\n",
            "  ...\n",
            "\n",
            "  [[1.94428589e+02 1.74428589e+02 1.73428589e+02]\n",
            "   [1.95000000e+02 1.75000000e+02 1.74000000e+02]\n",
            "   [1.94785706e+02 1.74785706e+02 1.73785706e+02]\n",
            "   ...\n",
            "   [1.51392822e+02 1.25255074e+02 1.53872406e+02]\n",
            "   [1.54045868e+02 1.30117310e+02 1.56117310e+02]\n",
            "   [1.56729507e+02 1.34959122e+02 1.57882584e+02]]\n",
            "\n",
            "  [[1.95071411e+02 1.75071411e+02 1.74071411e+02]\n",
            "   [1.93209152e+02 1.73209152e+02 1.72209152e+02]\n",
            "   [1.93270386e+02 1.73270386e+02 1.72270386e+02]\n",
            "   ...\n",
            "   [1.45081696e+02 1.18438896e+02 1.45653168e+02]\n",
            "   [1.50005219e+02 1.26938911e+02 1.52938919e+02]\n",
            "   [1.53811157e+02 1.34673431e+02 1.56719345e+02]]\n",
            "\n",
            "  [[1.89071442e+02 1.69071442e+02 1.68071442e+02]\n",
            "   [1.89668381e+02 1.69668381e+02 1.68668381e+02]\n",
            "   [1.92214279e+02 1.72214279e+02 1.71214279e+02]\n",
            "   ...\n",
            "   [9.91382294e+01 7.29851837e+01 9.95566559e+01]\n",
            "   [1.22245186e+02 1.00245186e+02 1.23245186e+02]\n",
            "   [1.43408371e+02 1.24408371e+02 1.46408371e+02]]]\n",
            "\n",
            "\n",
            " [[[1.59357147e+02 1.41357147e+02 1.29357147e+02]\n",
            "   [1.58668365e+02 1.40668365e+02 1.28668365e+02]\n",
            "   [1.58719391e+02 1.40719391e+02 1.28719391e+02]\n",
            "   ...\n",
            "   [1.52928513e+02 1.30928513e+02 1.17928505e+02]\n",
            "   [1.55285583e+02 1.33285583e+02 1.20285583e+02]\n",
            "   [1.33515259e+02 1.11515259e+02 9.85152588e+01]]\n",
            "\n",
            "  [[1.61285721e+02 1.43285721e+02 1.31285721e+02]\n",
            "   [1.60928574e+02 1.42928574e+02 1.30928574e+02]\n",
            "   [1.61928574e+02 1.43928574e+02 1.31928574e+02]\n",
            "   ...\n",
            "   [1.51300995e+02 1.32300995e+02 1.18300995e+02]\n",
            "   [1.48290649e+02 1.29290649e+02 1.15290649e+02]\n",
            "   [1.31112442e+02 1.12112442e+02 9.81124420e+01]]\n",
            "\n",
            "  [[1.62642853e+02 1.44642853e+02 1.32642853e+02]\n",
            "   [1.60714279e+02 1.42714279e+02 1.30714279e+02]\n",
            "   [1.60428574e+02 1.42428574e+02 1.30428574e+02]\n",
            "   ...\n",
            "   [1.52688721e+02 1.33688721e+02 1.19688728e+02]\n",
            "   [1.43428406e+02 1.24428398e+02 1.10428398e+02]\n",
            "   [1.39020996e+02 1.20020996e+02 1.06020996e+02]]\n",
            "\n",
            "  ...\n",
            "\n",
            "  [[2.50505112e+02 2.42505112e+02 2.31505112e+02]\n",
            "   [2.51826553e+02 2.43826553e+02 2.32826553e+02]\n",
            "   [2.51336716e+02 2.43336716e+02 2.32336716e+02]\n",
            "   ...\n",
            "   [2.34408035e+02 2.19979507e+02 2.06887680e+02]\n",
            "   [2.31841751e+02 2.17841751e+02 2.04841751e+02]\n",
            "   [2.31999969e+02 2.17999969e+02 2.06571442e+02]]\n",
            "\n",
            "  [[2.49760208e+02 2.41760208e+02 2.30760208e+02]\n",
            "   [2.49137787e+02 2.41137787e+02 2.30137787e+02]\n",
            "   [2.50841858e+02 2.42841858e+02 2.31841858e+02]\n",
            "   ...\n",
            "   [2.36515213e+02 2.22086685e+02 2.09086685e+02]\n",
            "   [2.37857117e+02 2.23857117e+02 2.12857117e+02]\n",
            "   [2.35142761e+02 2.21142761e+02 2.10142761e+02]]\n",
            "\n",
            "  [[2.43045609e+02 2.35045609e+02 2.24045609e+02]\n",
            "   [2.47479355e+02 2.39479355e+02 2.28479355e+02]\n",
            "   [2.42795547e+02 2.34795547e+02 2.23795547e+02]\n",
            "   ...\n",
            "   [2.00937088e+02 1.86508560e+02 1.75080032e+02]\n",
            "   [1.97284088e+02 1.83284088e+02 1.72284088e+02]\n",
            "   [1.97697403e+02 1.83697403e+02 1.72697403e+02]]]\n",
            "\n",
            "\n",
            " ...\n",
            "\n",
            "\n",
            " [[[1.26428576e+01 4.64285707e+00 1.64285719e+00]\n",
            "   [1.29744902e+01 4.97448969e+00 1.97448993e+00]\n",
            "   [1.48571434e+01 6.85714293e+00 3.85714293e+00]\n",
            "   ...\n",
            "   [2.54403122e+02 2.47842194e+02 2.41413666e+02]\n",
            "   [2.51811249e+02 2.54668365e+02 2.45525482e+02]\n",
            "   [2.45683319e+02 2.47968964e+02 2.30611786e+02]]\n",
            "\n",
            "  [[1.40000000e+01 7.00000000e+00 1.00000000e+00]\n",
            "   [1.40000000e+01 7.00000000e+00 1.00000000e+00]\n",
            "   [1.42857141e+01 7.28571415e+00 1.28571415e+00]\n",
            "   ...\n",
            "   [2.55000000e+02 2.53637894e+02 2.47796143e+02]\n",
            "   [2.51147980e+02 2.55000000e+02 2.48586685e+02]\n",
            "   [2.42167984e+02 2.42453629e+02 2.26933090e+02]]\n",
            "\n",
            "  [[1.74285717e+01 8.42857170e+00 3.42857170e+00]\n",
            "   [1.55000000e+01 6.50000000e+00 1.50000000e+00]\n",
            "   [1.52142859e+01 6.21428585e+00 1.21428585e+00]\n",
            "   ...\n",
            "   [2.51596878e+02 2.54234772e+02 2.48500168e+02]\n",
            "   [2.49943909e+02 2.55000000e+02 2.49515259e+02]\n",
            "   [2.46663010e+02 2.44076218e+02 2.31234299e+02]]\n",
            "\n",
            "  ...\n",
            "\n",
            "  [[1.67443893e+02 4.88724251e+01 7.21940184e+00]\n",
            "   [1.69280670e+02 5.32092361e+01 6.42352057e+00]\n",
            "   [1.74969254e+02 5.93978310e+01 7.75497341e+00]\n",
            "   ...\n",
            "   [2.50168350e+02 1.41168350e+02 5.81683540e+01]\n",
            "   [2.47872421e+02 1.38872421e+02 5.38724251e+01]\n",
            "   [2.44719345e+02 1.35719345e+02 5.07193527e+01]]\n",
            "\n",
            "  [[1.73382751e+02 5.90052605e+01 5.57659721e+00]\n",
            "   [2.03882706e+02 9.28878403e+01 3.64540672e+01]\n",
            "   [1.64061234e+02 5.55459785e+01 0.00000000e+00]\n",
            "   ...\n",
            "   [2.48071442e+02 1.39071442e+02 5.60714417e+01]\n",
            "   [2.48005096e+02 1.39005096e+02 5.40051041e+01]\n",
            "   [2.46811218e+02 1.37811218e+02 5.28112221e+01]]\n",
            "\n",
            "  [[2.00730042e+02 9.63984756e+01 2.46585007e+01]\n",
            "   [1.90377228e+02 8.82853928e+01 1.52597704e+01]\n",
            "   [2.13363831e+02 1.13869072e+02 4.12261124e+01]\n",
            "   ...\n",
            "   [2.49505081e+02 1.40505081e+02 5.75050888e+01]\n",
            "   [2.48617310e+02 1.39617310e+02 5.46173058e+01]\n",
            "   [2.47285645e+02 1.38285645e+02 5.32856445e+01]]]\n",
            "\n",
            "\n",
            " [[[4.41326523e+00 9.77040863e+00 1.92857158e+00]\n",
            "   [1.10714293e+01 1.61428585e+01 1.98571453e+01]\n",
            "   [1.37091837e+01 2.04285698e+01 3.09897957e+01]\n",
            "   ...\n",
            "   [1.24857124e+02 9.78571243e+01 9.04285965e+01]\n",
            "   [1.23071442e+02 9.90714417e+01 9.70714417e+01]\n",
            "   [1.21515259e+02 1.00515259e+02 9.95152588e+01]]\n",
            "\n",
            "  [[2.68877530e+00 8.04591846e+00 1.28571439e+00]\n",
            "   [8.85204124e+00 1.37908173e+01 1.74387779e+01]\n",
            "   [1.32551022e+01 2.02551022e+01 2.83979588e+01]\n",
            "   ...\n",
            "   [1.25428528e+02 9.84285278e+01 9.10000000e+01]\n",
            "   [1.22142868e+02 9.81428680e+01 9.44184036e+01]\n",
            "   [1.22071426e+02 1.01071426e+02 1.00071426e+02]]\n",
            "\n",
            "  [[4.00000000e+00 6.28061247e+00 7.19387829e-01]\n",
            "   [6.57142925e+00 1.05714293e+01 1.28877563e+01]\n",
            "   [1.25510206e+01 1.92602043e+01 2.47857132e+01]\n",
            "   ...\n",
            "   [1.26168373e+02 9.91683731e+01 9.13113174e+01]\n",
            "   [1.20397957e+02 9.63979568e+01 9.23979568e+01]\n",
            "   [1.19571465e+02 9.79286041e+01 9.47143173e+01]]\n",
            "\n",
            "  ...\n",
            "\n",
            "  [[9.92293320e+01 6.81529388e+01 6.49386063e+01]\n",
            "   [9.56019058e+01 6.55152817e+01 6.19438095e+01]\n",
            "   [9.34998703e+01 6.48570786e+01 6.10713425e+01]\n",
            "   ...\n",
            "   [1.92617386e+02 1.87617386e+02 1.84617386e+02]\n",
            "   [1.91515335e+02 1.86515335e+02 1.83515335e+02]\n",
            "   [1.91000000e+02 1.86000000e+02 1.83000000e+02]]\n",
            "\n",
            "  [[1.21413612e+02 9.86738663e+01 9.26024246e+01]\n",
            "   [1.30163513e+02 1.10234947e+02 1.03234947e+02]\n",
            "   [1.36423584e+02 1.16495018e+02 1.09495018e+02]\n",
            "   ...\n",
            "   [1.93729599e+02 1.88729599e+02 1.85729599e+02]\n",
            "   [1.93857117e+02 1.88857117e+02 1.85857117e+02]\n",
            "   [1.90974487e+02 1.85974487e+02 1.82974487e+02]]\n",
            "\n",
            "  [[1.33341782e+02 1.15882622e+02 1.08112198e+02]\n",
            "   [1.39453949e+02 1.22453949e+02 1.14453949e+02]\n",
            "   [1.47923325e+02 1.30923325e+02 1.22923325e+02]\n",
            "   ...\n",
            "   [1.91642822e+02 1.86642822e+02 1.83642822e+02]\n",
            "   [1.90596893e+02 1.85596893e+02 1.82596893e+02]\n",
            "   [1.89642822e+02 1.84642822e+02 1.81642822e+02]]]\n",
            "\n",
            "\n",
            " [[[2.24658157e+02 1.37301025e+02 2.60867348e+01]\n",
            "   [2.25188782e+02 1.39234695e+02 3.73775520e+01]\n",
            "   [2.35000000e+02 1.47719391e+02 4.56938782e+01]\n",
            "   ...\n",
            "   [5.70914793e+00 6.70914793e+00 4.28527832e-01]\n",
            "   [5.33162785e+00 4.33162785e+00 1.42883301e-01]\n",
            "   [4.22961426e+00 4.22961426e+00 2.94396973e+00]]\n",
            "\n",
            "  [[2.30357147e+02 1.39454086e+02 3.30969391e+01]\n",
            "   [2.30714294e+02 1.42857147e+02 4.40051041e+01]\n",
            "   [2.41428574e+02 1.55173462e+02 5.60306129e+01]\n",
            "   ...\n",
            "   [7.04081964e+00 7.98469543e+00 4.13223267e-01]\n",
            "   [6.99998665e+00 5.99998665e+00 1.20410585e+00]\n",
            "   [4.57139397e+00 4.71425056e+00 3.21432066e+00]]\n",
            "\n",
            "  [[2.31198990e+02 1.43857132e+02 2.33622437e+01]\n",
            "   [2.27122452e+02 1.43897964e+02 3.60306168e+01]\n",
            "   [2.33591827e+02 1.52734680e+02 5.58112259e+01]\n",
            "   ...\n",
            "   [7.73982239e+00 7.61738586e+00 2.14263916e-01]\n",
            "   [7.98469114e+00 7.71427250e+00 5.96969426e-01]\n",
            "   [4.42853642e+00 6.42853642e+00 2.14289212e+00]]\n",
            "\n",
            "  ...\n",
            "\n",
            "  [[1.39989792e+02 1.08576508e+02 7.97142715e+01]\n",
            "   [1.44183670e+02 1.08928543e+02 7.90561066e+01]\n",
            "   [1.58132599e+02 1.18795868e+02 8.87295456e+01]\n",
            "   ...\n",
            "   [8.25609589e+01 8.33925781e+01 7.88977203e+01]\n",
            "   [1.03898125e+02 1.05898125e+02 1.04898125e+02]\n",
            "   [1.12627495e+02 1.13627495e+02 1.15627495e+02]]\n",
            "\n",
            "  [[1.48117523e+02 1.16979790e+02 8.80256958e+01]\n",
            "   [1.48127640e+02 1.13071548e+02 8.49899368e+01]\n",
            "   [1.55377594e+02 1.18234772e+02 8.92347717e+01]\n",
            "   ...\n",
            "   [8.09797058e+01 8.11939697e+01 7.85511780e+01]\n",
            "   [1.13076698e+02 1.15010353e+02 1.14209373e+02]\n",
            "   [1.16948990e+02 1.17948990e+02 1.21806168e+02]]\n",
            "\n",
            "  [[1.35607193e+02 1.05250046e+02 7.72500458e+01]\n",
            "   [1.40479630e+02 1.08408180e+02 7.97653275e+01]\n",
            "   [1.44867371e+02 1.11576553e+02 8.12194061e+01]\n",
            "   ...\n",
            "   [9.43165054e+01 9.43165054e+01 9.23165054e+01]\n",
            "   [1.18535690e+02 1.19535690e+02 1.21535690e+02]\n",
            "   [1.20913391e+02 1.21913391e+02 1.25913391e+02]]]], shape=(32, 224, 224, 3), dtype=float32) tf.Tensor(\n",
            "[[0. 0. 0. 0. 0. 0. 0. 0. 0. 1.]\n",
            " [0. 0. 0. 0. 0. 0. 0. 1. 0. 0.]\n",
            " [0. 0. 0. 0. 0. 0. 1. 0. 0. 0.]\n",
            " [0. 0. 0. 0. 0. 1. 0. 0. 0. 0.]\n",
            " [0. 0. 0. 0. 0. 0. 1. 0. 0. 0.]\n",
            " [1. 0. 0. 0. 0. 0. 0. 0. 0. 0.]\n",
            " [0. 0. 0. 1. 0. 0. 0. 0. 0. 0.]\n",
            " [0. 0. 0. 1. 0. 0. 0. 0. 0. 0.]\n",
            " [0. 0. 0. 0. 0. 0. 0. 0. 0. 1.]\n",
            " [0. 0. 0. 0. 0. 1. 0. 0. 0. 0.]\n",
            " [0. 1. 0. 0. 0. 0. 0. 0. 0. 0.]\n",
            " [0. 0. 0. 0. 0. 1. 0. 0. 0. 0.]\n",
            " [0. 0. 0. 0. 0. 0. 0. 0. 0. 1.]\n",
            " [0. 1. 0. 0. 0. 0. 0. 0. 0. 0.]\n",
            " [0. 0. 1. 0. 0. 0. 0. 0. 0. 0.]\n",
            " [0. 0. 0. 1. 0. 0. 0. 0. 0. 0.]\n",
            " [0. 0. 0. 0. 0. 0. 0. 1. 0. 0.]\n",
            " [0. 0. 0. 0. 0. 1. 0. 0. 0. 0.]\n",
            " [0. 0. 0. 0. 0. 0. 0. 0. 1. 0.]\n",
            " [0. 0. 0. 0. 0. 0. 0. 0. 0. 1.]\n",
            " [0. 0. 0. 0. 0. 0. 0. 0. 1. 0.]\n",
            " [0. 0. 0. 1. 0. 0. 0. 0. 0. 0.]\n",
            " [0. 0. 0. 0. 0. 0. 0. 1. 0. 0.]\n",
            " [0. 0. 0. 1. 0. 0. 0. 0. 0. 0.]\n",
            " [0. 0. 1. 0. 0. 0. 0. 0. 0. 0.]\n",
            " [0. 1. 0. 0. 0. 0. 0. 0. 0. 0.]\n",
            " [0. 0. 0. 1. 0. 0. 0. 0. 0. 0.]\n",
            " [1. 0. 0. 0. 0. 0. 0. 0. 0. 0.]\n",
            " [0. 0. 0. 0. 0. 0. 0. 0. 1. 0.]\n",
            " [0. 0. 0. 0. 0. 0. 0. 0. 1. 0.]\n",
            " [0. 0. 0. 0. 1. 0. 0. 0. 0. 0.]\n",
            " [0. 0. 0. 0. 0. 0. 0. 0. 0. 1.]], shape=(32, 10), dtype=float32)\n"
          ],
          "name": "stdout"
        }
      ]
    },
    {
      "cell_type": "markdown",
      "metadata": {
        "id": "Pg0mAtBPGuNk"
      },
      "source": [
        "# Model 0: Building a transfer learning model using the Keras Functional API\n",
        "\n",
        "The sequential API is staright forward it runs our layer in sequential order but the functional API give us more flexibility to our model "
      ]
    },
    {
      "cell_type": "code",
      "metadata": {
        "id": "IK901qKXsTkn",
        "colab": {
          "base_uri": "https://localhost:8080/"
        },
        "outputId": "8a4f921a-884a-4a00-e856-b12d3d35c3c6"
      },
      "source": [
        "# Create a model with tf.keras.application\n",
        "base_model = tf.keras.applications.EfficientNetB0(include_top=False)\n",
        "\n",
        "# 2. Freeze the base model (so the pre-learned patterns remain)\n",
        "base_model.trainable = False\n",
        "\n",
        "# 3. Create inputs into the base model\n",
        "inputs = tf.keras.layers.Input(shape = (224,224,3),name = \"input_shape\")\n",
        "\n",
        "# 4. If using ResNet50V2, add this to speed up convergence, remove for EfficientNet\n",
        "# x = tf.keras.layers.experimental.preprocessing.Rescaling(1./255)(inputs)\n",
        "\n",
        "# 5. Pass the inputs to the base_model (note: using tf.keras.applications, EfficientNet inputs don't have to be normalized)\n",
        "x = base_model(inputs)\n",
        "\n",
        "# Check data shape after passing it to base_model\n",
        "print(f\"Shape after base_model: {x.shape}\")\n",
        "\n",
        "# 6. Average pool the outputs of the base model (aggregate all the most important information, reduce number of computations)\n",
        "x = tf.keras.layers.GlobalAveragePooling2D(name = \"global_average_pooling_layer\")(x)\n",
        "print(f\"After GlobalAveragePooling2D():{x.shape}\")\n",
        "\n",
        "# 7. Create the output activation layer\n",
        "outputs = tf.keras.layers.Dense(10,activation = tf.keras.activations.softmax,name = \"output_layer\")(x)\n",
        "\n",
        "\n",
        "# 8. Combine the inputs with the outputs into a model\n",
        "model_0 = tf.keras.Model(inputs,outputs)\n",
        "\n",
        "# 9. Compile the model\n",
        "model_0.compile(loss = tf.keras.losses.categorical_crossentropy,\n",
        "                optimizer = tf.keras.optimizers.Adam(),\n",
        "                metrics = [\"accuracy\"])\n",
        "\n",
        "# 10. Fit the model (we use less steps for validation so it's faster)\n",
        "history_10_percent = model_0.fit(train_data_10_percent,\n",
        "                                 epochs = 5,\n",
        "                                 steps_per_epoch = len(train_data_10_percent),\n",
        "                                 validation_data = test_data,\n",
        "                                 validation_steps = int(0.25*len(test_data)),\n",
        "                                 callbacks = [create_tensorboard_callback(\"transfer_learning\",\"10_percent_feature_extract\")])"
      ],
      "execution_count": null,
      "outputs": [
        {
          "output_type": "stream",
          "text": [
            "Shape after base_model: (None, 7, 7, 1280)\n",
            "After GlobalAveragePooling2D():(None, 1280)\n",
            "Saving TensorBoard log files to: transfer_learning/10_percent_feature_extract/20210519-185345\n",
            "Epoch 1/5\n",
            "24/24 [==============================] - 18s 449ms/step - loss: 2.1584 - accuracy: 0.2431 - val_loss: 1.3649 - val_accuracy: 0.7237\n",
            "Epoch 2/5\n",
            "24/24 [==============================] - 8s 335ms/step - loss: 1.2652 - accuracy: 0.7265 - val_loss: 0.9314 - val_accuracy: 0.7993\n",
            "Epoch 3/5\n",
            "24/24 [==============================] - 8s 336ms/step - loss: 0.8859 - accuracy: 0.8114 - val_loss: 0.7448 - val_accuracy: 0.8158\n",
            "Epoch 4/5\n",
            "24/24 [==============================] - 8s 334ms/step - loss: 0.7183 - accuracy: 0.8485 - val_loss: 0.6520 - val_accuracy: 0.8405\n",
            "Epoch 5/5\n",
            "24/24 [==============================] - 8s 333ms/step - loss: 0.6068 - accuracy: 0.8774 - val_loss: 0.6036 - val_accuracy: 0.8322\n"
          ],
          "name": "stdout"
        }
      ]
    },
    {
      "cell_type": "code",
      "metadata": {
        "colab": {
          "base_uri": "https://localhost:8080/"
        },
        "id": "jr6whxlzKO5P",
        "outputId": "11de2e8f-ffcb-492a-fca4-71908f175cf2"
      },
      "source": [
        "model_0.evaluate(test_data)"
      ],
      "execution_count": null,
      "outputs": [
        {
          "output_type": "stream",
          "text": [
            "79/79 [==============================] - 15s 178ms/step - loss: 0.6059 - accuracy: 0.8428\n"
          ],
          "name": "stdout"
        },
        {
          "output_type": "execute_result",
          "data": {
            "text/plain": [
              "[0.6058778166770935, 0.8428000211715698]"
            ]
          },
          "metadata": {
            "tags": []
          },
          "execution_count": 169
        }
      ]
    },
    {
      "cell_type": "code",
      "metadata": {
        "colab": {
          "base_uri": "https://localhost:8080/"
        },
        "id": "xfFlbMKJK_Kw",
        "outputId": "3c67327e-e328-416a-fdce-a3726bb4ada2"
      },
      "source": [
        "# Check layers in our base model\n",
        "for layer_number,layer in enumerate(base_model.layers):\n",
        "  print(layer_number,layer.name)"
      ],
      "execution_count": null,
      "outputs": [
        {
          "output_type": "stream",
          "text": [
            "0 input_7\n",
            "1 rescaling_6\n",
            "2 normalization_6\n",
            "3 stem_conv_pad\n",
            "4 stem_conv\n",
            "5 stem_bn\n",
            "6 stem_activation\n",
            "7 block1a_dwconv\n",
            "8 block1a_bn\n",
            "9 block1a_activation\n",
            "10 block1a_se_squeeze\n",
            "11 block1a_se_reshape\n",
            "12 block1a_se_reduce\n",
            "13 block1a_se_expand\n",
            "14 block1a_se_excite\n",
            "15 block1a_project_conv\n",
            "16 block1a_project_bn\n",
            "17 block2a_expand_conv\n",
            "18 block2a_expand_bn\n",
            "19 block2a_expand_activation\n",
            "20 block2a_dwconv_pad\n",
            "21 block2a_dwconv\n",
            "22 block2a_bn\n",
            "23 block2a_activation\n",
            "24 block2a_se_squeeze\n",
            "25 block2a_se_reshape\n",
            "26 block2a_se_reduce\n",
            "27 block2a_se_expand\n",
            "28 block2a_se_excite\n",
            "29 block2a_project_conv\n",
            "30 block2a_project_bn\n",
            "31 block2b_expand_conv\n",
            "32 block2b_expand_bn\n",
            "33 block2b_expand_activation\n",
            "34 block2b_dwconv\n",
            "35 block2b_bn\n",
            "36 block2b_activation\n",
            "37 block2b_se_squeeze\n",
            "38 block2b_se_reshape\n",
            "39 block2b_se_reduce\n",
            "40 block2b_se_expand\n",
            "41 block2b_se_excite\n",
            "42 block2b_project_conv\n",
            "43 block2b_project_bn\n",
            "44 block2b_drop\n",
            "45 block2b_add\n",
            "46 block3a_expand_conv\n",
            "47 block3a_expand_bn\n",
            "48 block3a_expand_activation\n",
            "49 block3a_dwconv_pad\n",
            "50 block3a_dwconv\n",
            "51 block3a_bn\n",
            "52 block3a_activation\n",
            "53 block3a_se_squeeze\n",
            "54 block3a_se_reshape\n",
            "55 block3a_se_reduce\n",
            "56 block3a_se_expand\n",
            "57 block3a_se_excite\n",
            "58 block3a_project_conv\n",
            "59 block3a_project_bn\n",
            "60 block3b_expand_conv\n",
            "61 block3b_expand_bn\n",
            "62 block3b_expand_activation\n",
            "63 block3b_dwconv\n",
            "64 block3b_bn\n",
            "65 block3b_activation\n",
            "66 block3b_se_squeeze\n",
            "67 block3b_se_reshape\n",
            "68 block3b_se_reduce\n",
            "69 block3b_se_expand\n",
            "70 block3b_se_excite\n",
            "71 block3b_project_conv\n",
            "72 block3b_project_bn\n",
            "73 block3b_drop\n",
            "74 block3b_add\n",
            "75 block4a_expand_conv\n",
            "76 block4a_expand_bn\n",
            "77 block4a_expand_activation\n",
            "78 block4a_dwconv_pad\n",
            "79 block4a_dwconv\n",
            "80 block4a_bn\n",
            "81 block4a_activation\n",
            "82 block4a_se_squeeze\n",
            "83 block4a_se_reshape\n",
            "84 block4a_se_reduce\n",
            "85 block4a_se_expand\n",
            "86 block4a_se_excite\n",
            "87 block4a_project_conv\n",
            "88 block4a_project_bn\n",
            "89 block4b_expand_conv\n",
            "90 block4b_expand_bn\n",
            "91 block4b_expand_activation\n",
            "92 block4b_dwconv\n",
            "93 block4b_bn\n",
            "94 block4b_activation\n",
            "95 block4b_se_squeeze\n",
            "96 block4b_se_reshape\n",
            "97 block4b_se_reduce\n",
            "98 block4b_se_expand\n",
            "99 block4b_se_excite\n",
            "100 block4b_project_conv\n",
            "101 block4b_project_bn\n",
            "102 block4b_drop\n",
            "103 block4b_add\n",
            "104 block4c_expand_conv\n",
            "105 block4c_expand_bn\n",
            "106 block4c_expand_activation\n",
            "107 block4c_dwconv\n",
            "108 block4c_bn\n",
            "109 block4c_activation\n",
            "110 block4c_se_squeeze\n",
            "111 block4c_se_reshape\n",
            "112 block4c_se_reduce\n",
            "113 block4c_se_expand\n",
            "114 block4c_se_excite\n",
            "115 block4c_project_conv\n",
            "116 block4c_project_bn\n",
            "117 block4c_drop\n",
            "118 block4c_add\n",
            "119 block5a_expand_conv\n",
            "120 block5a_expand_bn\n",
            "121 block5a_expand_activation\n",
            "122 block5a_dwconv\n",
            "123 block5a_bn\n",
            "124 block5a_activation\n",
            "125 block5a_se_squeeze\n",
            "126 block5a_se_reshape\n",
            "127 block5a_se_reduce\n",
            "128 block5a_se_expand\n",
            "129 block5a_se_excite\n",
            "130 block5a_project_conv\n",
            "131 block5a_project_bn\n",
            "132 block5b_expand_conv\n",
            "133 block5b_expand_bn\n",
            "134 block5b_expand_activation\n",
            "135 block5b_dwconv\n",
            "136 block5b_bn\n",
            "137 block5b_activation\n",
            "138 block5b_se_squeeze\n",
            "139 block5b_se_reshape\n",
            "140 block5b_se_reduce\n",
            "141 block5b_se_expand\n",
            "142 block5b_se_excite\n",
            "143 block5b_project_conv\n",
            "144 block5b_project_bn\n",
            "145 block5b_drop\n",
            "146 block5b_add\n",
            "147 block5c_expand_conv\n",
            "148 block5c_expand_bn\n",
            "149 block5c_expand_activation\n",
            "150 block5c_dwconv\n",
            "151 block5c_bn\n",
            "152 block5c_activation\n",
            "153 block5c_se_squeeze\n",
            "154 block5c_se_reshape\n",
            "155 block5c_se_reduce\n",
            "156 block5c_se_expand\n",
            "157 block5c_se_excite\n",
            "158 block5c_project_conv\n",
            "159 block5c_project_bn\n",
            "160 block5c_drop\n",
            "161 block5c_add\n",
            "162 block6a_expand_conv\n",
            "163 block6a_expand_bn\n",
            "164 block6a_expand_activation\n",
            "165 block6a_dwconv_pad\n",
            "166 block6a_dwconv\n",
            "167 block6a_bn\n",
            "168 block6a_activation\n",
            "169 block6a_se_squeeze\n",
            "170 block6a_se_reshape\n",
            "171 block6a_se_reduce\n",
            "172 block6a_se_expand\n",
            "173 block6a_se_excite\n",
            "174 block6a_project_conv\n",
            "175 block6a_project_bn\n",
            "176 block6b_expand_conv\n",
            "177 block6b_expand_bn\n",
            "178 block6b_expand_activation\n",
            "179 block6b_dwconv\n",
            "180 block6b_bn\n",
            "181 block6b_activation\n",
            "182 block6b_se_squeeze\n",
            "183 block6b_se_reshape\n",
            "184 block6b_se_reduce\n",
            "185 block6b_se_expand\n",
            "186 block6b_se_excite\n",
            "187 block6b_project_conv\n",
            "188 block6b_project_bn\n",
            "189 block6b_drop\n",
            "190 block6b_add\n",
            "191 block6c_expand_conv\n",
            "192 block6c_expand_bn\n",
            "193 block6c_expand_activation\n",
            "194 block6c_dwconv\n",
            "195 block6c_bn\n",
            "196 block6c_activation\n",
            "197 block6c_se_squeeze\n",
            "198 block6c_se_reshape\n",
            "199 block6c_se_reduce\n",
            "200 block6c_se_expand\n",
            "201 block6c_se_excite\n",
            "202 block6c_project_conv\n",
            "203 block6c_project_bn\n",
            "204 block6c_drop\n",
            "205 block6c_add\n",
            "206 block6d_expand_conv\n",
            "207 block6d_expand_bn\n",
            "208 block6d_expand_activation\n",
            "209 block6d_dwconv\n",
            "210 block6d_bn\n",
            "211 block6d_activation\n",
            "212 block6d_se_squeeze\n",
            "213 block6d_se_reshape\n",
            "214 block6d_se_reduce\n",
            "215 block6d_se_expand\n",
            "216 block6d_se_excite\n",
            "217 block6d_project_conv\n",
            "218 block6d_project_bn\n",
            "219 block6d_drop\n",
            "220 block6d_add\n",
            "221 block7a_expand_conv\n",
            "222 block7a_expand_bn\n",
            "223 block7a_expand_activation\n",
            "224 block7a_dwconv\n",
            "225 block7a_bn\n",
            "226 block7a_activation\n",
            "227 block7a_se_squeeze\n",
            "228 block7a_se_reshape\n",
            "229 block7a_se_reduce\n",
            "230 block7a_se_expand\n",
            "231 block7a_se_excite\n",
            "232 block7a_project_conv\n",
            "233 block7a_project_bn\n",
            "234 top_conv\n",
            "235 top_bn\n",
            "236 top_activation\n"
          ],
          "name": "stdout"
        }
      ]
    },
    {
      "cell_type": "code",
      "metadata": {
        "colab": {
          "base_uri": "https://localhost:8080/"
        },
        "id": "RktMkQQkLRG0",
        "outputId": "2879d226-b013-4bb1-81c7-45ed73e1d0bd"
      },
      "source": [
        "# How about we get the summary of base model\n",
        "base_model.summary()"
      ],
      "execution_count": null,
      "outputs": [
        {
          "output_type": "stream",
          "text": [
            "Model: \"efficientnetb0\"\n",
            "__________________________________________________________________________________________________\n",
            "Layer (type)                    Output Shape         Param #     Connected to                     \n",
            "==================================================================================================\n",
            "input_7 (InputLayer)            [(None, None, None,  0                                            \n",
            "__________________________________________________________________________________________________\n",
            "rescaling_6 (Rescaling)         (None, None, None, 3 0           input_7[0][0]                    \n",
            "__________________________________________________________________________________________________\n",
            "normalization_6 (Normalization) (None, None, None, 3 7           rescaling_6[0][0]                \n",
            "__________________________________________________________________________________________________\n",
            "stem_conv_pad (ZeroPadding2D)   (None, None, None, 3 0           normalization_6[0][0]            \n",
            "__________________________________________________________________________________________________\n",
            "stem_conv (Conv2D)              (None, None, None, 3 864         stem_conv_pad[0][0]              \n",
            "__________________________________________________________________________________________________\n",
            "stem_bn (BatchNormalization)    (None, None, None, 3 128         stem_conv[0][0]                  \n",
            "__________________________________________________________________________________________________\n",
            "stem_activation (Activation)    (None, None, None, 3 0           stem_bn[0][0]                    \n",
            "__________________________________________________________________________________________________\n",
            "block1a_dwconv (DepthwiseConv2D (None, None, None, 3 288         stem_activation[0][0]            \n",
            "__________________________________________________________________________________________________\n",
            "block1a_bn (BatchNormalization) (None, None, None, 3 128         block1a_dwconv[0][0]             \n",
            "__________________________________________________________________________________________________\n",
            "block1a_activation (Activation) (None, None, None, 3 0           block1a_bn[0][0]                 \n",
            "__________________________________________________________________________________________________\n",
            "block1a_se_squeeze (GlobalAvera (None, 32)           0           block1a_activation[0][0]         \n",
            "__________________________________________________________________________________________________\n",
            "block1a_se_reshape (Reshape)    (None, 1, 1, 32)     0           block1a_se_squeeze[0][0]         \n",
            "__________________________________________________________________________________________________\n",
            "block1a_se_reduce (Conv2D)      (None, 1, 1, 8)      264         block1a_se_reshape[0][0]         \n",
            "__________________________________________________________________________________________________\n",
            "block1a_se_expand (Conv2D)      (None, 1, 1, 32)     288         block1a_se_reduce[0][0]          \n",
            "__________________________________________________________________________________________________\n",
            "block1a_se_excite (Multiply)    (None, None, None, 3 0           block1a_activation[0][0]         \n",
            "                                                                 block1a_se_expand[0][0]          \n",
            "__________________________________________________________________________________________________\n",
            "block1a_project_conv (Conv2D)   (None, None, None, 1 512         block1a_se_excite[0][0]          \n",
            "__________________________________________________________________________________________________\n",
            "block1a_project_bn (BatchNormal (None, None, None, 1 64          block1a_project_conv[0][0]       \n",
            "__________________________________________________________________________________________________\n",
            "block2a_expand_conv (Conv2D)    (None, None, None, 9 1536        block1a_project_bn[0][0]         \n",
            "__________________________________________________________________________________________________\n",
            "block2a_expand_bn (BatchNormali (None, None, None, 9 384         block2a_expand_conv[0][0]        \n",
            "__________________________________________________________________________________________________\n",
            "block2a_expand_activation (Acti (None, None, None, 9 0           block2a_expand_bn[0][0]          \n",
            "__________________________________________________________________________________________________\n",
            "block2a_dwconv_pad (ZeroPadding (None, None, None, 9 0           block2a_expand_activation[0][0]  \n",
            "__________________________________________________________________________________________________\n",
            "block2a_dwconv (DepthwiseConv2D (None, None, None, 9 864         block2a_dwconv_pad[0][0]         \n",
            "__________________________________________________________________________________________________\n",
            "block2a_bn (BatchNormalization) (None, None, None, 9 384         block2a_dwconv[0][0]             \n",
            "__________________________________________________________________________________________________\n",
            "block2a_activation (Activation) (None, None, None, 9 0           block2a_bn[0][0]                 \n",
            "__________________________________________________________________________________________________\n",
            "block2a_se_squeeze (GlobalAvera (None, 96)           0           block2a_activation[0][0]         \n",
            "__________________________________________________________________________________________________\n",
            "block2a_se_reshape (Reshape)    (None, 1, 1, 96)     0           block2a_se_squeeze[0][0]         \n",
            "__________________________________________________________________________________________________\n",
            "block2a_se_reduce (Conv2D)      (None, 1, 1, 4)      388         block2a_se_reshape[0][0]         \n",
            "__________________________________________________________________________________________________\n",
            "block2a_se_expand (Conv2D)      (None, 1, 1, 96)     480         block2a_se_reduce[0][0]          \n",
            "__________________________________________________________________________________________________\n",
            "block2a_se_excite (Multiply)    (None, None, None, 9 0           block2a_activation[0][0]         \n",
            "                                                                 block2a_se_expand[0][0]          \n",
            "__________________________________________________________________________________________________\n",
            "block2a_project_conv (Conv2D)   (None, None, None, 2 2304        block2a_se_excite[0][0]          \n",
            "__________________________________________________________________________________________________\n",
            "block2a_project_bn (BatchNormal (None, None, None, 2 96          block2a_project_conv[0][0]       \n",
            "__________________________________________________________________________________________________\n",
            "block2b_expand_conv (Conv2D)    (None, None, None, 1 3456        block2a_project_bn[0][0]         \n",
            "__________________________________________________________________________________________________\n",
            "block2b_expand_bn (BatchNormali (None, None, None, 1 576         block2b_expand_conv[0][0]        \n",
            "__________________________________________________________________________________________________\n",
            "block2b_expand_activation (Acti (None, None, None, 1 0           block2b_expand_bn[0][0]          \n",
            "__________________________________________________________________________________________________\n",
            "block2b_dwconv (DepthwiseConv2D (None, None, None, 1 1296        block2b_expand_activation[0][0]  \n",
            "__________________________________________________________________________________________________\n",
            "block2b_bn (BatchNormalization) (None, None, None, 1 576         block2b_dwconv[0][0]             \n",
            "__________________________________________________________________________________________________\n",
            "block2b_activation (Activation) (None, None, None, 1 0           block2b_bn[0][0]                 \n",
            "__________________________________________________________________________________________________\n",
            "block2b_se_squeeze (GlobalAvera (None, 144)          0           block2b_activation[0][0]         \n",
            "__________________________________________________________________________________________________\n",
            "block2b_se_reshape (Reshape)    (None, 1, 1, 144)    0           block2b_se_squeeze[0][0]         \n",
            "__________________________________________________________________________________________________\n",
            "block2b_se_reduce (Conv2D)      (None, 1, 1, 6)      870         block2b_se_reshape[0][0]         \n",
            "__________________________________________________________________________________________________\n",
            "block2b_se_expand (Conv2D)      (None, 1, 1, 144)    1008        block2b_se_reduce[0][0]          \n",
            "__________________________________________________________________________________________________\n",
            "block2b_se_excite (Multiply)    (None, None, None, 1 0           block2b_activation[0][0]         \n",
            "                                                                 block2b_se_expand[0][0]          \n",
            "__________________________________________________________________________________________________\n",
            "block2b_project_conv (Conv2D)   (None, None, None, 2 3456        block2b_se_excite[0][0]          \n",
            "__________________________________________________________________________________________________\n",
            "block2b_project_bn (BatchNormal (None, None, None, 2 96          block2b_project_conv[0][0]       \n",
            "__________________________________________________________________________________________________\n",
            "block2b_drop (Dropout)          (None, None, None, 2 0           block2b_project_bn[0][0]         \n",
            "__________________________________________________________________________________________________\n",
            "block2b_add (Add)               (None, None, None, 2 0           block2b_drop[0][0]               \n",
            "                                                                 block2a_project_bn[0][0]         \n",
            "__________________________________________________________________________________________________\n",
            "block3a_expand_conv (Conv2D)    (None, None, None, 1 3456        block2b_add[0][0]                \n",
            "__________________________________________________________________________________________________\n",
            "block3a_expand_bn (BatchNormali (None, None, None, 1 576         block3a_expand_conv[0][0]        \n",
            "__________________________________________________________________________________________________\n",
            "block3a_expand_activation (Acti (None, None, None, 1 0           block3a_expand_bn[0][0]          \n",
            "__________________________________________________________________________________________________\n",
            "block3a_dwconv_pad (ZeroPadding (None, None, None, 1 0           block3a_expand_activation[0][0]  \n",
            "__________________________________________________________________________________________________\n",
            "block3a_dwconv (DepthwiseConv2D (None, None, None, 1 3600        block3a_dwconv_pad[0][0]         \n",
            "__________________________________________________________________________________________________\n",
            "block3a_bn (BatchNormalization) (None, None, None, 1 576         block3a_dwconv[0][0]             \n",
            "__________________________________________________________________________________________________\n",
            "block3a_activation (Activation) (None, None, None, 1 0           block3a_bn[0][0]                 \n",
            "__________________________________________________________________________________________________\n",
            "block3a_se_squeeze (GlobalAvera (None, 144)          0           block3a_activation[0][0]         \n",
            "__________________________________________________________________________________________________\n",
            "block3a_se_reshape (Reshape)    (None, 1, 1, 144)    0           block3a_se_squeeze[0][0]         \n",
            "__________________________________________________________________________________________________\n",
            "block3a_se_reduce (Conv2D)      (None, 1, 1, 6)      870         block3a_se_reshape[0][0]         \n",
            "__________________________________________________________________________________________________\n",
            "block3a_se_expand (Conv2D)      (None, 1, 1, 144)    1008        block3a_se_reduce[0][0]          \n",
            "__________________________________________________________________________________________________\n",
            "block3a_se_excite (Multiply)    (None, None, None, 1 0           block3a_activation[0][0]         \n",
            "                                                                 block3a_se_expand[0][0]          \n",
            "__________________________________________________________________________________________________\n",
            "block3a_project_conv (Conv2D)   (None, None, None, 4 5760        block3a_se_excite[0][0]          \n",
            "__________________________________________________________________________________________________\n",
            "block3a_project_bn (BatchNormal (None, None, None, 4 160         block3a_project_conv[0][0]       \n",
            "__________________________________________________________________________________________________\n",
            "block3b_expand_conv (Conv2D)    (None, None, None, 2 9600        block3a_project_bn[0][0]         \n",
            "__________________________________________________________________________________________________\n",
            "block3b_expand_bn (BatchNormali (None, None, None, 2 960         block3b_expand_conv[0][0]        \n",
            "__________________________________________________________________________________________________\n",
            "block3b_expand_activation (Acti (None, None, None, 2 0           block3b_expand_bn[0][0]          \n",
            "__________________________________________________________________________________________________\n",
            "block3b_dwconv (DepthwiseConv2D (None, None, None, 2 6000        block3b_expand_activation[0][0]  \n",
            "__________________________________________________________________________________________________\n",
            "block3b_bn (BatchNormalization) (None, None, None, 2 960         block3b_dwconv[0][0]             \n",
            "__________________________________________________________________________________________________\n",
            "block3b_activation (Activation) (None, None, None, 2 0           block3b_bn[0][0]                 \n",
            "__________________________________________________________________________________________________\n",
            "block3b_se_squeeze (GlobalAvera (None, 240)          0           block3b_activation[0][0]         \n",
            "__________________________________________________________________________________________________\n",
            "block3b_se_reshape (Reshape)    (None, 1, 1, 240)    0           block3b_se_squeeze[0][0]         \n",
            "__________________________________________________________________________________________________\n",
            "block3b_se_reduce (Conv2D)      (None, 1, 1, 10)     2410        block3b_se_reshape[0][0]         \n",
            "__________________________________________________________________________________________________\n",
            "block3b_se_expand (Conv2D)      (None, 1, 1, 240)    2640        block3b_se_reduce[0][0]          \n",
            "__________________________________________________________________________________________________\n",
            "block3b_se_excite (Multiply)    (None, None, None, 2 0           block3b_activation[0][0]         \n",
            "                                                                 block3b_se_expand[0][0]          \n",
            "__________________________________________________________________________________________________\n",
            "block3b_project_conv (Conv2D)   (None, None, None, 4 9600        block3b_se_excite[0][0]          \n",
            "__________________________________________________________________________________________________\n",
            "block3b_project_bn (BatchNormal (None, None, None, 4 160         block3b_project_conv[0][0]       \n",
            "__________________________________________________________________________________________________\n",
            "block3b_drop (Dropout)          (None, None, None, 4 0           block3b_project_bn[0][0]         \n",
            "__________________________________________________________________________________________________\n",
            "block3b_add (Add)               (None, None, None, 4 0           block3b_drop[0][0]               \n",
            "                                                                 block3a_project_bn[0][0]         \n",
            "__________________________________________________________________________________________________\n",
            "block4a_expand_conv (Conv2D)    (None, None, None, 2 9600        block3b_add[0][0]                \n",
            "__________________________________________________________________________________________________\n",
            "block4a_expand_bn (BatchNormali (None, None, None, 2 960         block4a_expand_conv[0][0]        \n",
            "__________________________________________________________________________________________________\n",
            "block4a_expand_activation (Acti (None, None, None, 2 0           block4a_expand_bn[0][0]          \n",
            "__________________________________________________________________________________________________\n",
            "block4a_dwconv_pad (ZeroPadding (None, None, None, 2 0           block4a_expand_activation[0][0]  \n",
            "__________________________________________________________________________________________________\n",
            "block4a_dwconv (DepthwiseConv2D (None, None, None, 2 2160        block4a_dwconv_pad[0][0]         \n",
            "__________________________________________________________________________________________________\n",
            "block4a_bn (BatchNormalization) (None, None, None, 2 960         block4a_dwconv[0][0]             \n",
            "__________________________________________________________________________________________________\n",
            "block4a_activation (Activation) (None, None, None, 2 0           block4a_bn[0][0]                 \n",
            "__________________________________________________________________________________________________\n",
            "block4a_se_squeeze (GlobalAvera (None, 240)          0           block4a_activation[0][0]         \n",
            "__________________________________________________________________________________________________\n",
            "block4a_se_reshape (Reshape)    (None, 1, 1, 240)    0           block4a_se_squeeze[0][0]         \n",
            "__________________________________________________________________________________________________\n",
            "block4a_se_reduce (Conv2D)      (None, 1, 1, 10)     2410        block4a_se_reshape[0][0]         \n",
            "__________________________________________________________________________________________________\n",
            "block4a_se_expand (Conv2D)      (None, 1, 1, 240)    2640        block4a_se_reduce[0][0]          \n",
            "__________________________________________________________________________________________________\n",
            "block4a_se_excite (Multiply)    (None, None, None, 2 0           block4a_activation[0][0]         \n",
            "                                                                 block4a_se_expand[0][0]          \n",
            "__________________________________________________________________________________________________\n",
            "block4a_project_conv (Conv2D)   (None, None, None, 8 19200       block4a_se_excite[0][0]          \n",
            "__________________________________________________________________________________________________\n",
            "block4a_project_bn (BatchNormal (None, None, None, 8 320         block4a_project_conv[0][0]       \n",
            "__________________________________________________________________________________________________\n",
            "block4b_expand_conv (Conv2D)    (None, None, None, 4 38400       block4a_project_bn[0][0]         \n",
            "__________________________________________________________________________________________________\n",
            "block4b_expand_bn (BatchNormali (None, None, None, 4 1920        block4b_expand_conv[0][0]        \n",
            "__________________________________________________________________________________________________\n",
            "block4b_expand_activation (Acti (None, None, None, 4 0           block4b_expand_bn[0][0]          \n",
            "__________________________________________________________________________________________________\n",
            "block4b_dwconv (DepthwiseConv2D (None, None, None, 4 4320        block4b_expand_activation[0][0]  \n",
            "__________________________________________________________________________________________________\n",
            "block4b_bn (BatchNormalization) (None, None, None, 4 1920        block4b_dwconv[0][0]             \n",
            "__________________________________________________________________________________________________\n",
            "block4b_activation (Activation) (None, None, None, 4 0           block4b_bn[0][0]                 \n",
            "__________________________________________________________________________________________________\n",
            "block4b_se_squeeze (GlobalAvera (None, 480)          0           block4b_activation[0][0]         \n",
            "__________________________________________________________________________________________________\n",
            "block4b_se_reshape (Reshape)    (None, 1, 1, 480)    0           block4b_se_squeeze[0][0]         \n",
            "__________________________________________________________________________________________________\n",
            "block4b_se_reduce (Conv2D)      (None, 1, 1, 20)     9620        block4b_se_reshape[0][0]         \n",
            "__________________________________________________________________________________________________\n",
            "block4b_se_expand (Conv2D)      (None, 1, 1, 480)    10080       block4b_se_reduce[0][0]          \n",
            "__________________________________________________________________________________________________\n",
            "block4b_se_excite (Multiply)    (None, None, None, 4 0           block4b_activation[0][0]         \n",
            "                                                                 block4b_se_expand[0][0]          \n",
            "__________________________________________________________________________________________________\n",
            "block4b_project_conv (Conv2D)   (None, None, None, 8 38400       block4b_se_excite[0][0]          \n",
            "__________________________________________________________________________________________________\n",
            "block4b_project_bn (BatchNormal (None, None, None, 8 320         block4b_project_conv[0][0]       \n",
            "__________________________________________________________________________________________________\n",
            "block4b_drop (Dropout)          (None, None, None, 8 0           block4b_project_bn[0][0]         \n",
            "__________________________________________________________________________________________________\n",
            "block4b_add (Add)               (None, None, None, 8 0           block4b_drop[0][0]               \n",
            "                                                                 block4a_project_bn[0][0]         \n",
            "__________________________________________________________________________________________________\n",
            "block4c_expand_conv (Conv2D)    (None, None, None, 4 38400       block4b_add[0][0]                \n",
            "__________________________________________________________________________________________________\n",
            "block4c_expand_bn (BatchNormali (None, None, None, 4 1920        block4c_expand_conv[0][0]        \n",
            "__________________________________________________________________________________________________\n",
            "block4c_expand_activation (Acti (None, None, None, 4 0           block4c_expand_bn[0][0]          \n",
            "__________________________________________________________________________________________________\n",
            "block4c_dwconv (DepthwiseConv2D (None, None, None, 4 4320        block4c_expand_activation[0][0]  \n",
            "__________________________________________________________________________________________________\n",
            "block4c_bn (BatchNormalization) (None, None, None, 4 1920        block4c_dwconv[0][0]             \n",
            "__________________________________________________________________________________________________\n",
            "block4c_activation (Activation) (None, None, None, 4 0           block4c_bn[0][0]                 \n",
            "__________________________________________________________________________________________________\n",
            "block4c_se_squeeze (GlobalAvera (None, 480)          0           block4c_activation[0][0]         \n",
            "__________________________________________________________________________________________________\n",
            "block4c_se_reshape (Reshape)    (None, 1, 1, 480)    0           block4c_se_squeeze[0][0]         \n",
            "__________________________________________________________________________________________________\n",
            "block4c_se_reduce (Conv2D)      (None, 1, 1, 20)     9620        block4c_se_reshape[0][0]         \n",
            "__________________________________________________________________________________________________\n",
            "block4c_se_expand (Conv2D)      (None, 1, 1, 480)    10080       block4c_se_reduce[0][0]          \n",
            "__________________________________________________________________________________________________\n",
            "block4c_se_excite (Multiply)    (None, None, None, 4 0           block4c_activation[0][0]         \n",
            "                                                                 block4c_se_expand[0][0]          \n",
            "__________________________________________________________________________________________________\n",
            "block4c_project_conv (Conv2D)   (None, None, None, 8 38400       block4c_se_excite[0][0]          \n",
            "__________________________________________________________________________________________________\n",
            "block4c_project_bn (BatchNormal (None, None, None, 8 320         block4c_project_conv[0][0]       \n",
            "__________________________________________________________________________________________________\n",
            "block4c_drop (Dropout)          (None, None, None, 8 0           block4c_project_bn[0][0]         \n",
            "__________________________________________________________________________________________________\n",
            "block4c_add (Add)               (None, None, None, 8 0           block4c_drop[0][0]               \n",
            "                                                                 block4b_add[0][0]                \n",
            "__________________________________________________________________________________________________\n",
            "block5a_expand_conv (Conv2D)    (None, None, None, 4 38400       block4c_add[0][0]                \n",
            "__________________________________________________________________________________________________\n",
            "block5a_expand_bn (BatchNormali (None, None, None, 4 1920        block5a_expand_conv[0][0]        \n",
            "__________________________________________________________________________________________________\n",
            "block5a_expand_activation (Acti (None, None, None, 4 0           block5a_expand_bn[0][0]          \n",
            "__________________________________________________________________________________________________\n",
            "block5a_dwconv (DepthwiseConv2D (None, None, None, 4 12000       block5a_expand_activation[0][0]  \n",
            "__________________________________________________________________________________________________\n",
            "block5a_bn (BatchNormalization) (None, None, None, 4 1920        block5a_dwconv[0][0]             \n",
            "__________________________________________________________________________________________________\n",
            "block5a_activation (Activation) (None, None, None, 4 0           block5a_bn[0][0]                 \n",
            "__________________________________________________________________________________________________\n",
            "block5a_se_squeeze (GlobalAvera (None, 480)          0           block5a_activation[0][0]         \n",
            "__________________________________________________________________________________________________\n",
            "block5a_se_reshape (Reshape)    (None, 1, 1, 480)    0           block5a_se_squeeze[0][0]         \n",
            "__________________________________________________________________________________________________\n",
            "block5a_se_reduce (Conv2D)      (None, 1, 1, 20)     9620        block5a_se_reshape[0][0]         \n",
            "__________________________________________________________________________________________________\n",
            "block5a_se_expand (Conv2D)      (None, 1, 1, 480)    10080       block5a_se_reduce[0][0]          \n",
            "__________________________________________________________________________________________________\n",
            "block5a_se_excite (Multiply)    (None, None, None, 4 0           block5a_activation[0][0]         \n",
            "                                                                 block5a_se_expand[0][0]          \n",
            "__________________________________________________________________________________________________\n",
            "block5a_project_conv (Conv2D)   (None, None, None, 1 53760       block5a_se_excite[0][0]          \n",
            "__________________________________________________________________________________________________\n",
            "block5a_project_bn (BatchNormal (None, None, None, 1 448         block5a_project_conv[0][0]       \n",
            "__________________________________________________________________________________________________\n",
            "block5b_expand_conv (Conv2D)    (None, None, None, 6 75264       block5a_project_bn[0][0]         \n",
            "__________________________________________________________________________________________________\n",
            "block5b_expand_bn (BatchNormali (None, None, None, 6 2688        block5b_expand_conv[0][0]        \n",
            "__________________________________________________________________________________________________\n",
            "block5b_expand_activation (Acti (None, None, None, 6 0           block5b_expand_bn[0][0]          \n",
            "__________________________________________________________________________________________________\n",
            "block5b_dwconv (DepthwiseConv2D (None, None, None, 6 16800       block5b_expand_activation[0][0]  \n",
            "__________________________________________________________________________________________________\n",
            "block5b_bn (BatchNormalization) (None, None, None, 6 2688        block5b_dwconv[0][0]             \n",
            "__________________________________________________________________________________________________\n",
            "block5b_activation (Activation) (None, None, None, 6 0           block5b_bn[0][0]                 \n",
            "__________________________________________________________________________________________________\n",
            "block5b_se_squeeze (GlobalAvera (None, 672)          0           block5b_activation[0][0]         \n",
            "__________________________________________________________________________________________________\n",
            "block5b_se_reshape (Reshape)    (None, 1, 1, 672)    0           block5b_se_squeeze[0][0]         \n",
            "__________________________________________________________________________________________________\n",
            "block5b_se_reduce (Conv2D)      (None, 1, 1, 28)     18844       block5b_se_reshape[0][0]         \n",
            "__________________________________________________________________________________________________\n",
            "block5b_se_expand (Conv2D)      (None, 1, 1, 672)    19488       block5b_se_reduce[0][0]          \n",
            "__________________________________________________________________________________________________\n",
            "block5b_se_excite (Multiply)    (None, None, None, 6 0           block5b_activation[0][0]         \n",
            "                                                                 block5b_se_expand[0][0]          \n",
            "__________________________________________________________________________________________________\n",
            "block5b_project_conv (Conv2D)   (None, None, None, 1 75264       block5b_se_excite[0][0]          \n",
            "__________________________________________________________________________________________________\n",
            "block5b_project_bn (BatchNormal (None, None, None, 1 448         block5b_project_conv[0][0]       \n",
            "__________________________________________________________________________________________________\n",
            "block5b_drop (Dropout)          (None, None, None, 1 0           block5b_project_bn[0][0]         \n",
            "__________________________________________________________________________________________________\n",
            "block5b_add (Add)               (None, None, None, 1 0           block5b_drop[0][0]               \n",
            "                                                                 block5a_project_bn[0][0]         \n",
            "__________________________________________________________________________________________________\n",
            "block5c_expand_conv (Conv2D)    (None, None, None, 6 75264       block5b_add[0][0]                \n",
            "__________________________________________________________________________________________________\n",
            "block5c_expand_bn (BatchNormali (None, None, None, 6 2688        block5c_expand_conv[0][0]        \n",
            "__________________________________________________________________________________________________\n",
            "block5c_expand_activation (Acti (None, None, None, 6 0           block5c_expand_bn[0][0]          \n",
            "__________________________________________________________________________________________________\n",
            "block5c_dwconv (DepthwiseConv2D (None, None, None, 6 16800       block5c_expand_activation[0][0]  \n",
            "__________________________________________________________________________________________________\n",
            "block5c_bn (BatchNormalization) (None, None, None, 6 2688        block5c_dwconv[0][0]             \n",
            "__________________________________________________________________________________________________\n",
            "block5c_activation (Activation) (None, None, None, 6 0           block5c_bn[0][0]                 \n",
            "__________________________________________________________________________________________________\n",
            "block5c_se_squeeze (GlobalAvera (None, 672)          0           block5c_activation[0][0]         \n",
            "__________________________________________________________________________________________________\n",
            "block5c_se_reshape (Reshape)    (None, 1, 1, 672)    0           block5c_se_squeeze[0][0]         \n",
            "__________________________________________________________________________________________________\n",
            "block5c_se_reduce (Conv2D)      (None, 1, 1, 28)     18844       block5c_se_reshape[0][0]         \n",
            "__________________________________________________________________________________________________\n",
            "block5c_se_expand (Conv2D)      (None, 1, 1, 672)    19488       block5c_se_reduce[0][0]          \n",
            "__________________________________________________________________________________________________\n",
            "block5c_se_excite (Multiply)    (None, None, None, 6 0           block5c_activation[0][0]         \n",
            "                                                                 block5c_se_expand[0][0]          \n",
            "__________________________________________________________________________________________________\n",
            "block5c_project_conv (Conv2D)   (None, None, None, 1 75264       block5c_se_excite[0][0]          \n",
            "__________________________________________________________________________________________________\n",
            "block5c_project_bn (BatchNormal (None, None, None, 1 448         block5c_project_conv[0][0]       \n",
            "__________________________________________________________________________________________________\n",
            "block5c_drop (Dropout)          (None, None, None, 1 0           block5c_project_bn[0][0]         \n",
            "__________________________________________________________________________________________________\n",
            "block5c_add (Add)               (None, None, None, 1 0           block5c_drop[0][0]               \n",
            "                                                                 block5b_add[0][0]                \n",
            "__________________________________________________________________________________________________\n",
            "block6a_expand_conv (Conv2D)    (None, None, None, 6 75264       block5c_add[0][0]                \n",
            "__________________________________________________________________________________________________\n",
            "block6a_expand_bn (BatchNormali (None, None, None, 6 2688        block6a_expand_conv[0][0]        \n",
            "__________________________________________________________________________________________________\n",
            "block6a_expand_activation (Acti (None, None, None, 6 0           block6a_expand_bn[0][0]          \n",
            "__________________________________________________________________________________________________\n",
            "block6a_dwconv_pad (ZeroPadding (None, None, None, 6 0           block6a_expand_activation[0][0]  \n",
            "__________________________________________________________________________________________________\n",
            "block6a_dwconv (DepthwiseConv2D (None, None, None, 6 16800       block6a_dwconv_pad[0][0]         \n",
            "__________________________________________________________________________________________________\n",
            "block6a_bn (BatchNormalization) (None, None, None, 6 2688        block6a_dwconv[0][0]             \n",
            "__________________________________________________________________________________________________\n",
            "block6a_activation (Activation) (None, None, None, 6 0           block6a_bn[0][0]                 \n",
            "__________________________________________________________________________________________________\n",
            "block6a_se_squeeze (GlobalAvera (None, 672)          0           block6a_activation[0][0]         \n",
            "__________________________________________________________________________________________________\n",
            "block6a_se_reshape (Reshape)    (None, 1, 1, 672)    0           block6a_se_squeeze[0][0]         \n",
            "__________________________________________________________________________________________________\n",
            "block6a_se_reduce (Conv2D)      (None, 1, 1, 28)     18844       block6a_se_reshape[0][0]         \n",
            "__________________________________________________________________________________________________\n",
            "block6a_se_expand (Conv2D)      (None, 1, 1, 672)    19488       block6a_se_reduce[0][0]          \n",
            "__________________________________________________________________________________________________\n",
            "block6a_se_excite (Multiply)    (None, None, None, 6 0           block6a_activation[0][0]         \n",
            "                                                                 block6a_se_expand[0][0]          \n",
            "__________________________________________________________________________________________________\n",
            "block6a_project_conv (Conv2D)   (None, None, None, 1 129024      block6a_se_excite[0][0]          \n",
            "__________________________________________________________________________________________________\n",
            "block6a_project_bn (BatchNormal (None, None, None, 1 768         block6a_project_conv[0][0]       \n",
            "__________________________________________________________________________________________________\n",
            "block6b_expand_conv (Conv2D)    (None, None, None, 1 221184      block6a_project_bn[0][0]         \n",
            "__________________________________________________________________________________________________\n",
            "block6b_expand_bn (BatchNormali (None, None, None, 1 4608        block6b_expand_conv[0][0]        \n",
            "__________________________________________________________________________________________________\n",
            "block6b_expand_activation (Acti (None, None, None, 1 0           block6b_expand_bn[0][0]          \n",
            "__________________________________________________________________________________________________\n",
            "block6b_dwconv (DepthwiseConv2D (None, None, None, 1 28800       block6b_expand_activation[0][0]  \n",
            "__________________________________________________________________________________________________\n",
            "block6b_bn (BatchNormalization) (None, None, None, 1 4608        block6b_dwconv[0][0]             \n",
            "__________________________________________________________________________________________________\n",
            "block6b_activation (Activation) (None, None, None, 1 0           block6b_bn[0][0]                 \n",
            "__________________________________________________________________________________________________\n",
            "block6b_se_squeeze (GlobalAvera (None, 1152)         0           block6b_activation[0][0]         \n",
            "__________________________________________________________________________________________________\n",
            "block6b_se_reshape (Reshape)    (None, 1, 1, 1152)   0           block6b_se_squeeze[0][0]         \n",
            "__________________________________________________________________________________________________\n",
            "block6b_se_reduce (Conv2D)      (None, 1, 1, 48)     55344       block6b_se_reshape[0][0]         \n",
            "__________________________________________________________________________________________________\n",
            "block6b_se_expand (Conv2D)      (None, 1, 1, 1152)   56448       block6b_se_reduce[0][0]          \n",
            "__________________________________________________________________________________________________\n",
            "block6b_se_excite (Multiply)    (None, None, None, 1 0           block6b_activation[0][0]         \n",
            "                                                                 block6b_se_expand[0][0]          \n",
            "__________________________________________________________________________________________________\n",
            "block6b_project_conv (Conv2D)   (None, None, None, 1 221184      block6b_se_excite[0][0]          \n",
            "__________________________________________________________________________________________________\n",
            "block6b_project_bn (BatchNormal (None, None, None, 1 768         block6b_project_conv[0][0]       \n",
            "__________________________________________________________________________________________________\n",
            "block6b_drop (Dropout)          (None, None, None, 1 0           block6b_project_bn[0][0]         \n",
            "__________________________________________________________________________________________________\n",
            "block6b_add (Add)               (None, None, None, 1 0           block6b_drop[0][0]               \n",
            "                                                                 block6a_project_bn[0][0]         \n",
            "__________________________________________________________________________________________________\n",
            "block6c_expand_conv (Conv2D)    (None, None, None, 1 221184      block6b_add[0][0]                \n",
            "__________________________________________________________________________________________________\n",
            "block6c_expand_bn (BatchNormali (None, None, None, 1 4608        block6c_expand_conv[0][0]        \n",
            "__________________________________________________________________________________________________\n",
            "block6c_expand_activation (Acti (None, None, None, 1 0           block6c_expand_bn[0][0]          \n",
            "__________________________________________________________________________________________________\n",
            "block6c_dwconv (DepthwiseConv2D (None, None, None, 1 28800       block6c_expand_activation[0][0]  \n",
            "__________________________________________________________________________________________________\n",
            "block6c_bn (BatchNormalization) (None, None, None, 1 4608        block6c_dwconv[0][0]             \n",
            "__________________________________________________________________________________________________\n",
            "block6c_activation (Activation) (None, None, None, 1 0           block6c_bn[0][0]                 \n",
            "__________________________________________________________________________________________________\n",
            "block6c_se_squeeze (GlobalAvera (None, 1152)         0           block6c_activation[0][0]         \n",
            "__________________________________________________________________________________________________\n",
            "block6c_se_reshape (Reshape)    (None, 1, 1, 1152)   0           block6c_se_squeeze[0][0]         \n",
            "__________________________________________________________________________________________________\n",
            "block6c_se_reduce (Conv2D)      (None, 1, 1, 48)     55344       block6c_se_reshape[0][0]         \n",
            "__________________________________________________________________________________________________\n",
            "block6c_se_expand (Conv2D)      (None, 1, 1, 1152)   56448       block6c_se_reduce[0][0]          \n",
            "__________________________________________________________________________________________________\n",
            "block6c_se_excite (Multiply)    (None, None, None, 1 0           block6c_activation[0][0]         \n",
            "                                                                 block6c_se_expand[0][0]          \n",
            "__________________________________________________________________________________________________\n",
            "block6c_project_conv (Conv2D)   (None, None, None, 1 221184      block6c_se_excite[0][0]          \n",
            "__________________________________________________________________________________________________\n",
            "block6c_project_bn (BatchNormal (None, None, None, 1 768         block6c_project_conv[0][0]       \n",
            "__________________________________________________________________________________________________\n",
            "block6c_drop (Dropout)          (None, None, None, 1 0           block6c_project_bn[0][0]         \n",
            "__________________________________________________________________________________________________\n",
            "block6c_add (Add)               (None, None, None, 1 0           block6c_drop[0][0]               \n",
            "                                                                 block6b_add[0][0]                \n",
            "__________________________________________________________________________________________________\n",
            "block6d_expand_conv (Conv2D)    (None, None, None, 1 221184      block6c_add[0][0]                \n",
            "__________________________________________________________________________________________________\n",
            "block6d_expand_bn (BatchNormali (None, None, None, 1 4608        block6d_expand_conv[0][0]        \n",
            "__________________________________________________________________________________________________\n",
            "block6d_expand_activation (Acti (None, None, None, 1 0           block6d_expand_bn[0][0]          \n",
            "__________________________________________________________________________________________________\n",
            "block6d_dwconv (DepthwiseConv2D (None, None, None, 1 28800       block6d_expand_activation[0][0]  \n",
            "__________________________________________________________________________________________________\n",
            "block6d_bn (BatchNormalization) (None, None, None, 1 4608        block6d_dwconv[0][0]             \n",
            "__________________________________________________________________________________________________\n",
            "block6d_activation (Activation) (None, None, None, 1 0           block6d_bn[0][0]                 \n",
            "__________________________________________________________________________________________________\n",
            "block6d_se_squeeze (GlobalAvera (None, 1152)         0           block6d_activation[0][0]         \n",
            "__________________________________________________________________________________________________\n",
            "block6d_se_reshape (Reshape)    (None, 1, 1, 1152)   0           block6d_se_squeeze[0][0]         \n",
            "__________________________________________________________________________________________________\n",
            "block6d_se_reduce (Conv2D)      (None, 1, 1, 48)     55344       block6d_se_reshape[0][0]         \n",
            "__________________________________________________________________________________________________\n",
            "block6d_se_expand (Conv2D)      (None, 1, 1, 1152)   56448       block6d_se_reduce[0][0]          \n",
            "__________________________________________________________________________________________________\n",
            "block6d_se_excite (Multiply)    (None, None, None, 1 0           block6d_activation[0][0]         \n",
            "                                                                 block6d_se_expand[0][0]          \n",
            "__________________________________________________________________________________________________\n",
            "block6d_project_conv (Conv2D)   (None, None, None, 1 221184      block6d_se_excite[0][0]          \n",
            "__________________________________________________________________________________________________\n",
            "block6d_project_bn (BatchNormal (None, None, None, 1 768         block6d_project_conv[0][0]       \n",
            "__________________________________________________________________________________________________\n",
            "block6d_drop (Dropout)          (None, None, None, 1 0           block6d_project_bn[0][0]         \n",
            "__________________________________________________________________________________________________\n",
            "block6d_add (Add)               (None, None, None, 1 0           block6d_drop[0][0]               \n",
            "                                                                 block6c_add[0][0]                \n",
            "__________________________________________________________________________________________________\n",
            "block7a_expand_conv (Conv2D)    (None, None, None, 1 221184      block6d_add[0][0]                \n",
            "__________________________________________________________________________________________________\n",
            "block7a_expand_bn (BatchNormali (None, None, None, 1 4608        block7a_expand_conv[0][0]        \n",
            "__________________________________________________________________________________________________\n",
            "block7a_expand_activation (Acti (None, None, None, 1 0           block7a_expand_bn[0][0]          \n",
            "__________________________________________________________________________________________________\n",
            "block7a_dwconv (DepthwiseConv2D (None, None, None, 1 10368       block7a_expand_activation[0][0]  \n",
            "__________________________________________________________________________________________________\n",
            "block7a_bn (BatchNormalization) (None, None, None, 1 4608        block7a_dwconv[0][0]             \n",
            "__________________________________________________________________________________________________\n",
            "block7a_activation (Activation) (None, None, None, 1 0           block7a_bn[0][0]                 \n",
            "__________________________________________________________________________________________________\n",
            "block7a_se_squeeze (GlobalAvera (None, 1152)         0           block7a_activation[0][0]         \n",
            "__________________________________________________________________________________________________\n",
            "block7a_se_reshape (Reshape)    (None, 1, 1, 1152)   0           block7a_se_squeeze[0][0]         \n",
            "__________________________________________________________________________________________________\n",
            "block7a_se_reduce (Conv2D)      (None, 1, 1, 48)     55344       block7a_se_reshape[0][0]         \n",
            "__________________________________________________________________________________________________\n",
            "block7a_se_expand (Conv2D)      (None, 1, 1, 1152)   56448       block7a_se_reduce[0][0]          \n",
            "__________________________________________________________________________________________________\n",
            "block7a_se_excite (Multiply)    (None, None, None, 1 0           block7a_activation[0][0]         \n",
            "                                                                 block7a_se_expand[0][0]          \n",
            "__________________________________________________________________________________________________\n",
            "block7a_project_conv (Conv2D)   (None, None, None, 3 368640      block7a_se_excite[0][0]          \n",
            "__________________________________________________________________________________________________\n",
            "block7a_project_bn (BatchNormal (None, None, None, 3 1280        block7a_project_conv[0][0]       \n",
            "__________________________________________________________________________________________________\n",
            "top_conv (Conv2D)               (None, None, None, 1 409600      block7a_project_bn[0][0]         \n",
            "__________________________________________________________________________________________________\n",
            "top_bn (BatchNormalization)     (None, None, None, 1 5120        top_conv[0][0]                   \n",
            "__________________________________________________________________________________________________\n",
            "top_activation (Activation)     (None, None, None, 1 0           top_bn[0][0]                     \n",
            "==================================================================================================\n",
            "Total params: 4,049,571\n",
            "Trainable params: 0\n",
            "Non-trainable params: 4,049,571\n",
            "__________________________________________________________________________________________________\n"
          ],
          "name": "stdout"
        }
      ]
    },
    {
      "cell_type": "code",
      "metadata": {
        "colab": {
          "base_uri": "https://localhost:8080/"
        },
        "id": "uoQF6pogLl7Z",
        "outputId": "2ab2ccfc-7798-403f-a423-9dec57ce08f2"
      },
      "source": [
        "# summary of whole model\n",
        "model_0.summary()"
      ],
      "execution_count": null,
      "outputs": [
        {
          "output_type": "stream",
          "text": [
            "Model: \"model_6\"\n",
            "_________________________________________________________________\n",
            "Layer (type)                 Output Shape              Param #   \n",
            "=================================================================\n",
            "input_shape (InputLayer)     [(None, 224, 224, 3)]     0         \n",
            "_________________________________________________________________\n",
            "efficientnetb0 (Functional)  (None, None, None, 1280)  4049571   \n",
            "_________________________________________________________________\n",
            "global_average_pooling_layer (None, 1280)              0         \n",
            "_________________________________________________________________\n",
            "output_layer (Dense)         (None, 10)                12810     \n",
            "=================================================================\n",
            "Total params: 4,062,381\n",
            "Trainable params: 12,810\n",
            "Non-trainable params: 4,049,571\n",
            "_________________________________________________________________\n"
          ],
          "name": "stdout"
        }
      ]
    },
    {
      "cell_type": "code",
      "metadata": {
        "colab": {
          "base_uri": "https://localhost:8080/"
        },
        "id": "2yoTrGvmLsq6",
        "outputId": "761cdd2c-ace5-4f3a-a168-dea091886996"
      },
      "source": [
        "plot_loss_curves(history_10_percent)"
      ],
      "execution_count": null,
      "outputs": [
        {
          "output_type": "display_data",
          "data": {
            "image/png": "[encoded data removed]",
            "text/plain": [
              "<Figure size 432x288 with 1 Axes>"
            ]
          },
          "metadata": {
            "tags": [],
            "needs_background": "light"
          }
        },
        {
          "output_type": "display_data",
          "data": {
            "image/png": "[encoded data removed]",
            "text/plain": [
              "<Figure size 432x288 with 1 Axes>"
            ]
          },
          "metadata": {
            "tags": [],
            "needs_background": "light"
          }
        }
      ]
    },
    {
      "cell_type": "markdown",
      "metadata": {
        "id": "mXQobzuaMJra"
      },
      "source": [
        "# Getting a feature vector from a trained model\n",
        "\n",
        "Let's demonstrate the GlobalAveragePooling 2D layer\n",
        "\n",
        "We have tensor after our model goes through base model of shape(None,7,7,1280)\n",
        "\n",
        "But when it passes to a GlobalAveragePooling 2D layer it turns it into(None,1280)\n",
        "\n",
        "Let's use similar shaped tensor of (1,4,4,3)and then pass it into GlobalAveragePooling 2D\n",
        "\n",
        "`The tf.keras.layers.GlobalAveragePooling2D() layer transforms a 4D tensor into a 2D tensor by averaging the values across the inner-axes.`\n",
        "\n",
        "🔑 **Note**: One of the reasons feature extraction transfer learning is named how it is is because what often happens is a pretrained model outputs a feature vector (a long tensor of numbers, in our case, this is the output of the tf.keras.layers.GlobalAveragePooling2D() layer) which can then be used to extract patterns out of."
      ]
    },
    {
      "cell_type": "code",
      "metadata": {
        "colab": {
          "base_uri": "https://localhost:8080/"
        },
        "id": "GkqV71sXL-tZ",
        "outputId": "b4d6de25-9613-466a-811f-14470716c64e"
      },
      "source": [
        "# Define input tensor shape (same number of dimensions as the output of efficientnetb0)\n",
        "input_shape = (1,4,4,3)\n",
        "\n",
        "# Create a random tensor\n",
        "tf.random.set_seed(42)\n",
        "input_tensor = tf.random.normal(input_shape)\n",
        "print(f\"Random input tensor:\\n {input_tensor}\\n\")\n",
        "\n",
        "# Pass the random tensor through a global average pooling 2D layer\n",
        "global_average_pooled_tensor = tf.keras.layers.GlobalAveragePooling2D()(input_tensor)\n",
        "print(f\"2D global average pooled random tensor:\\n {global_average_pooled_tensor}\\n\")\n",
        "\n",
        "\n",
        "# Check the shapes of the different tensors\n",
        "print(f\"Shape of input tensor: {input_tensor.shape}\")\n",
        "print(f\"Shape of 2D global averaged pooled input tensor: {global_average_pooled_tensor.shape}\")"
      ],
      "execution_count": null,
      "outputs": [
        {
          "output_type": "stream",
          "text": [
            "Random input tensor:\n",
            " [[[[ 0.3274685  -0.8426258   0.3194337 ]\n",
            "   [-1.4075519  -2.3880599  -1.0392479 ]\n",
            "   [-0.5573232   0.539707    1.6994323 ]\n",
            "   [ 0.28893656 -1.5066116  -0.2645474 ]]\n",
            "\n",
            "  [[-0.59722406 -1.9171132  -0.62044144]\n",
            "   [ 0.8504023  -0.40604794 -3.0258412 ]\n",
            "   [ 0.9058464   0.29855987 -0.22561555]\n",
            "   [-0.7616443  -1.8917141  -0.93847126]]\n",
            "\n",
            "  [[ 0.77852213 -0.47338897  0.97772694]\n",
            "   [ 0.24694404  0.20573747 -0.5256233 ]\n",
            "   [ 0.32410017  0.02545409 -0.10638497]\n",
            "   [-0.6369475   1.1603122   0.2507359 ]]\n",
            "\n",
            "  [[-0.41728503  0.4012578  -1.4145443 ]\n",
            "   [-0.5931857  -1.6617213   0.33567193]\n",
            "   [ 0.10815629  0.23479682 -0.56668764]\n",
            "   [-0.35819843  0.88698614  0.52744764]]]]\n",
            "\n",
            "2D global average pooled random tensor:\n",
            " [[-0.09368646 -0.45840448 -0.2885598 ]]\n",
            "\n",
            "Shape of input tensor: (1, 4, 4, 3)\n",
            "Shape of 2D global averaged pooled input tensor: (1, 3)\n"
          ],
          "name": "stdout"
        }
      ]
    },
    {
      "cell_type": "markdown",
      "metadata": {
        "id": "aiovVH5VN1G3"
      },
      "source": [
        "## Running a series of transfer learning experiments\n",
        "\n",
        "We have seen incredible result in transfer learning can get only with 10% of the training data but how does it go with 1% of training data.. how about we set bunch of experiment to find out\n",
        "\n",
        "1. model_1: Use feature extraction transfer learning on 1% of the training data with data augmentation.\n",
        "2. model_2: Use feature extraction transfer learning on 10% of the training data with data augmentation.\n",
        "3. model_3: Use fine-tuning transfer learning on 10% of the training data with data augmentation.\n",
        "4. model_4: Use fine-tuning transfer learning on 100% of the training data with data augmentation.\n",
        "\n",
        "🔑 **Note**: throughtout all the experiment the same dataset will be used to evaluate our model... this ensures consistency across evaluation metrics"
      ]
    },
    {
      "cell_type": "markdown",
      "metadata": {
        "id": "d_8GaeF3QUzk"
      },
      "source": [
        "# Getting and preprocessing data for model_1"
      ]
    },
    {
      "cell_type": "code",
      "metadata": {
        "colab": {
          "base_uri": "https://localhost:8080/"
        },
        "id": "5J3O6seANbSb",
        "outputId": "6d2d887a-61a0-42d1-a59b-a67b7fe0176c"
      },
      "source": [
        "# Download and unzip data\n",
        "!wget https://storage.googleapis.com/ztm_tf_course/food_vision/10_food_classes_1_percent.zip\n",
        "unzip_data(\"10_food_classes_1_percent.zip\")"
      ],
      "execution_count": null,
      "outputs": [
        {
          "output_type": "stream",
          "text": [
            "--2021-05-19 18:54:54--  https://storage.googleapis.com/ztm_tf_course/food_vision/10_food_classes_1_percent.zip\n",
            "Resolving storage.googleapis.com (storage.googleapis.com)... 74.125.23.128, 74.125.203.128, 74.125.204.128, ...\n",
            "Connecting to storage.googleapis.com (storage.googleapis.com)|74.125.23.128|:443... connected.\n",
            "HTTP request sent, awaiting response... 200 OK\n",
            "Length: 133612354 (127M) [application/zip]\n",
            "Saving to: ‘10_food_classes_1_percent.zip.2’\n",
            "\n",
            "10_food_classes_1_p 100%[===================>] 127.42M  97.2MB/s    in 1.3s    \n",
            "\n",
            "2021-05-19 18:54:55 (97.2 MB/s) - ‘10_food_classes_1_percent.zip.2’ saved [133612354/133612354]\n",
            "\n"
          ],
          "name": "stdout"
        }
      ]
    },
    {
      "cell_type": "code",
      "metadata": {
        "id": "cvm432i-O_N-"
      },
      "source": [
        "# Create training and test dirs\n",
        "train_dir_1_percent = \"10_food_classes_1_percent/train/\"\n",
        "test_dir = \"10_food_classes_1_percent/test/\""
      ],
      "execution_count": null,
      "outputs": []
    },
    {
      "cell_type": "code",
      "metadata": {
        "colab": {
          "base_uri": "https://localhost:8080/"
        },
        "id": "zWvIVN-2PSh4",
        "outputId": "a70a4f9c-6ee4-45cb-a758-5b10958affdb"
      },
      "source": [
        "# Walk through 1 percent data directory and list number of files\n",
        "walk_through_dir(\"10_food_classes_1_percent\")"
      ],
      "execution_count": null,
      "outputs": [
        {
          "output_type": "stream",
          "text": [
            "There are 2 directories and 0 images in '10_food_classes_1_percent'.\n",
            "There are 10 directories and 0 images in '10_food_classes_1_percent/test'.\n",
            "There are 0 directories and 250 images in '10_food_classes_1_percent/test/grilled_salmon'.\n",
            "There are 0 directories and 250 images in '10_food_classes_1_percent/test/fried_rice'.\n",
            "There are 0 directories and 250 images in '10_food_classes_1_percent/test/chicken_wings'.\n",
            "There are 0 directories and 250 images in '10_food_classes_1_percent/test/ramen'.\n",
            "There are 0 directories and 250 images in '10_food_classes_1_percent/test/hamburger'.\n",
            "There are 0 directories and 250 images in '10_food_classes_1_percent/test/pizza'.\n",
            "There are 0 directories and 250 images in '10_food_classes_1_percent/test/ice_cream'.\n",
            "There are 0 directories and 250 images in '10_food_classes_1_percent/test/steak'.\n",
            "There are 0 directories and 250 images in '10_food_classes_1_percent/test/sushi'.\n",
            "There are 0 directories and 250 images in '10_food_classes_1_percent/test/chicken_curry'.\n",
            "There are 10 directories and 0 images in '10_food_classes_1_percent/train'.\n",
            "There are 0 directories and 7 images in '10_food_classes_1_percent/train/grilled_salmon'.\n",
            "There are 0 directories and 7 images in '10_food_classes_1_percent/train/fried_rice'.\n",
            "There are 0 directories and 7 images in '10_food_classes_1_percent/train/chicken_wings'.\n",
            "There are 0 directories and 7 images in '10_food_classes_1_percent/train/ramen'.\n",
            "There are 0 directories and 7 images in '10_food_classes_1_percent/train/hamburger'.\n",
            "There are 0 directories and 7 images in '10_food_classes_1_percent/train/pizza'.\n",
            "There are 0 directories and 7 images in '10_food_classes_1_percent/train/ice_cream'.\n",
            "There are 0 directories and 7 images in '10_food_classes_1_percent/train/steak'.\n",
            "There are 0 directories and 7 images in '10_food_classes_1_percent/train/sushi'.\n",
            "There are 0 directories and 7 images in '10_food_classes_1_percent/train/chicken_curry'.\n"
          ],
          "name": "stdout"
        }
      ]
    },
    {
      "cell_type": "code",
      "metadata": {
        "colab": {
          "base_uri": "https://localhost:8080/"
        },
        "id": "3HtZV1rnPe2K",
        "outputId": "4413dca2-c3e6-437c-99cd-5618e198cf1b"
      },
      "source": [
        "import tensorflow as tf\n",
        "\n",
        "IMG_SIZE = (224,224)\n",
        "train_data_1_percent = tf.keras.preprocessing.image_dataset_from_directory(train_dir_1_percent,\n",
        "                                                                           label_mode = \"categorical\",\n",
        "                                                                           batch_size = 32,\n",
        "                                                                           image_size = IMG_SIZE)\n",
        "\n",
        "test_data = tf.keras.preprocessing.image_dataset_from_directory(test_dir,\n",
        "                                                                label_mode = \"categorical\",\n",
        "                                                                image_size = IMG_SIZE)"
      ],
      "execution_count": null,
      "outputs": [
        {
          "output_type": "stream",
          "text": [
            "Found 70 files belonging to 10 classes.\n",
            "Found 2500 files belonging to 10 classes.\n"
          ],
          "name": "stdout"
        }
      ]
    },
    {
      "cell_type": "markdown",
      "metadata": {
        "id": "6_E_KvHmz7rM"
      },
      "source": [
        "# Adding data augmentation right into the model\n",
        "\n",
        "To add data augmentation right in our models we can use layers inside:\n",
        "\n",
        "* tf.keras.layers.experimental.preprocessing()\n",
        "\n",
        "Off the top of our heads after reading the docs the benifits of using the data augmentation inside the model are:\n",
        "* Preprocessing of images(augmenting them) happens on the GPU much faster rather than the CPU\n",
        "\n",
        "* Image augmentaion usually only hapens during training so we can still\n",
        "export our whole model and uses it elsewhere"
      ]
    },
    {
      "cell_type": "code",
      "metadata": {
        "id": "zixqQh3MQPZY"
      },
      "source": [
        "import tensorflow as tf\n",
        "from tensorflow import keras\n",
        "from tensorflow.keras import layers\n",
        "from tensorflow.keras.layers.experimental import preprocessing\n",
        "\n",
        "# Create a data augmentation stage with horizontal flipping, rotations, zooms\n",
        "data_augmentation = tf.keras.Sequential([\n",
        "    preprocessing.RandomFlip(\"horizontal\"),\n",
        "    preprocessing.RandomRotation(0.2),\n",
        "    preprocessing.RandomZoom(0.2),\n",
        "    preprocessing.RandomHeight(0.2),\n",
        "    preprocessing.RandomWidth(0.2),\n",
        "     # preprocessing.Rescaling(1./255) # keep for ResNet50V2, remove for EfficientNetB0\n",
        "\n",
        "],name = \"data_augmentation\")"
      ],
      "execution_count": null,
      "outputs": []
    },
    {
      "cell_type": "markdown",
      "metadata": {
        "id": "ycx1bG6-3JPh"
      },
      "source": [
        "# Viewing our augmented layer(and see what happens to our data)"
      ]
    },
    {
      "cell_type": "code",
      "metadata": {
        "colab": {
          "base_uri": "https://localhost:8080/"
        },
        "id": "39aR-lL011Or",
        "outputId": "d5d9b54b-da89-4d46-b072-cdae2d1c835e"
      },
      "source": [
        "# View a random image and compare it to it's augmented version\n",
        "import matplotlib.pyplot as plt\n",
        "import matplotlib.image as mpimg\n",
        "import os \n",
        "import random\n",
        "\n",
        "target_class = random.choice(train_data_1_percent.class_names)\n",
        "target_dir = \"10_food_classes_1_percent/train/\" + target_class\n",
        "random_image = random.choice(os.listdir(target_dir))\n",
        "random_image_path = target_dir + \"/\" + random_image \n",
        "img = mpimg.imread(random_image_path)\n",
        "plt.imshow(img)\n",
        "plt.title(f\"Orignal random image from class:{target_class}\")\n",
        "plt.axis(False)\n",
        "\n",
        "# Augment the image\n",
        "augmented_img = data_augmentation(tf.expand_dims(img,axis = 0))\n",
        "plt.figure()\n",
        "plt.imshow(tf.squeeze(augmented_img)/255.)\n",
        "plt.title(f\"Augmented random image from class :{target_class}\")\n",
        "plt.axis\n",
        "\n"
      ],
      "execution_count": null,
      "outputs": [
        {
          "output_type": "execute_result",
          "data": {
            "text/plain": [
              "<function matplotlib.pyplot.axis>"
            ]
          },
          "metadata": {
            "tags": []
          },
          "execution_count": 180
        },
        {
          "output_type": "display_data",
          "data": {
            "image/png": "[encoded data removed]",
            "text/plain": [
              "<Figure size 432x288 with 1 Axes>"
            ]
          },
          "metadata": {
            "tags": [],
            "needs_background": "light"
          }
        },
        {
          "output_type": "display_data",
          "data": {
            "image/png": "[encoded data removed]",
            "text/plain": [
              "<Figure size 432x288 with 1 Axes>"
            ]
          },
          "metadata": {
            "tags": [],
            "needs_background": "light"
          }
        }
      ]
    },
    {
      "cell_type": "markdown",
      "metadata": {
        "id": "PFmQF5Tx7eXQ"
      },
      "source": [
        "# Model 1: Feature extraction transfer learning on 1% of the data with data augmentation"
      ]
    },
    {
      "cell_type": "code",
      "metadata": {
        "colab": {
          "base_uri": "https://localhost:8080/"
        },
        "id": "SMlSU0fA5lJ6",
        "outputId": "89442a3f-db5e-4342-9599-1bcdab92e6df"
      },
      "source": [
        "# Setup the input shape and base model freezing the base model layer\n",
        "input_shape = (224,224,3)\n",
        "base_model = tf.keras.applications.EfficientNetB0(include_top=False)\n",
        "base_model.trainable = False\n",
        "\n",
        "# Create a input layer\n",
        "inputs = tf.keras.layers.Input(shape = input_shape,name = \"input_shape\")\n",
        "\n",
        "# Add the data augmentaion Sequential model as a layer\n",
        "x = data_augmentation(inputs)\n",
        "\n",
        "# Give the base model inputs (after augmentation) and don't train it\n",
        "x = base_model(x,training = False)\n",
        "\n",
        "# Pool output features of base model\n",
        "x = tf.keras.layers.GlobalAveragePooling2D(name = \"global_average_pooling\")(x)\n",
        "\n",
        "# Put a dense layer\n",
        "outputs = tf.keras.layers.Dense(10,activation = tf.keras.activations.softmax,name = \"output_layer\")(x)\n",
        "\n",
        "# Make a model with inputs and outputs\n",
        "model_1 = tf.keras.Model(inputs,outputs)\n",
        "\n",
        "# Compile the model\n",
        "model_1.compile(loss = tf.keras.losses.categorical_crossentropy,\n",
        "                optimizer = tf.keras.optimizers.Adam(),\n",
        "                metrics = [\"accuracy\"])\n",
        "history_1_percent = model_1.fit(train_data_1_percent,\n",
        "                                epochs = 5,\n",
        "                                steps_per_epoch = len(train_data_1_percent),\n",
        "                                validation_data=test_data,\n",
        "                                validation_steps = int(0.25*len(test_data)),\n",
        "                                callbacks = [create_tensorboard_callback(\"transfer_learning\",\"1_percent_data_aug\")])\n",
        "\n"
      ],
      "execution_count": null,
      "outputs": [
        {
          "output_type": "stream",
          "text": [
            "Saving TensorBoard log files to: transfer_learning/1_percent_data_aug/20210519-185501\n",
            "Epoch 1/5\n",
            "3/3 [==============================] - 14s 4s/step - loss: 2.4308 - accuracy: 0.0410 - val_loss: 2.2452 - val_accuracy: 0.1250\n",
            "Epoch 2/5\n",
            "3/3 [==============================] - 5s 2s/step - loss: 2.1253 - accuracy: 0.2549 - val_loss: 2.1365 - val_accuracy: 0.2023\n",
            "Epoch 3/5\n",
            "3/3 [==============================] - 5s 2s/step - loss: 1.9746 - accuracy: 0.3238 - val_loss: 2.0222 - val_accuracy: 0.3125\n",
            "Epoch 4/5\n",
            "3/3 [==============================] - 5s 2s/step - loss: 1.8371 - accuracy: 0.4857 - val_loss: 1.9282 - val_accuracy: 0.4013\n",
            "Epoch 5/5\n",
            "3/3 [==============================] - 6s 3s/step - loss: 1.6608 - accuracy: 0.6417 - val_loss: 1.8191 - val_accuracy: 0.4786\n"
          ],
          "name": "stdout"
        }
      ]
    },
    {
      "cell_type": "code",
      "metadata": {
        "colab": {
          "base_uri": "https://localhost:8080/"
        },
        "id": "VZxgCs4R6TO7",
        "outputId": "f8c7e711-cf1a-4458-a688-f487cbbfc853"
      },
      "source": [
        "model_1.summary()"
      ],
      "execution_count": null,
      "outputs": [
        {
          "output_type": "stream",
          "text": [
            "Model: \"model_7\"\n",
            "_________________________________________________________________\n",
            "Layer (type)                 Output Shape              Param #   \n",
            "=================================================================\n",
            "input_shape (InputLayer)     [(None, 224, 224, 3)]     0         \n",
            "_________________________________________________________________\n",
            "data_augmentation (Sequentia (None, None, None, 3)     0         \n",
            "_________________________________________________________________\n",
            "efficientnetb0 (Functional)  (None, None, None, 1280)  4049571   \n",
            "_________________________________________________________________\n",
            "global_average_pooling (Glob (None, 1280)              0         \n",
            "_________________________________________________________________\n",
            "output_layer (Dense)         (None, 10)                12810     \n",
            "=================================================================\n",
            "Total params: 4,062,381\n",
            "Trainable params: 12,810\n",
            "Non-trainable params: 4,049,571\n",
            "_________________________________________________________________\n"
          ],
          "name": "stdout"
        }
      ]
    },
    {
      "cell_type": "code",
      "metadata": {
        "colab": {
          "base_uri": "https://localhost:8080/"
        },
        "id": "kWdikpfY_QkG",
        "outputId": "7d79d181-e708-4c91-e8e2-b82eb61bd7f0"
      },
      "source": [
        "# Evaluate on the test data\n",
        "results_1_percent__data_aug = model_1.evaluate(test_data)\n",
        "results_1_percent__data_aug"
      ],
      "execution_count": null,
      "outputs": [
        {
          "output_type": "stream",
          "text": [
            "79/79 [==============================] - 15s 178ms/step - loss: 1.8399 - accuracy: 0.4532\n"
          ],
          "name": "stdout"
        },
        {
          "output_type": "execute_result",
          "data": {
            "text/plain": [
              "[1.8398832082748413, 0.45320001244544983]"
            ]
          },
          "metadata": {
            "tags": []
          },
          "execution_count": 183
        }
      ]
    },
    {
      "cell_type": "code",
      "metadata": {
        "colab": {
          "base_uri": "https://localhost:8080/"
        },
        "id": "iBFGcmpn_fos",
        "outputId": "167cd014-bf31-43b1-9d55-08570c31a764"
      },
      "source": [
        "plot_loss_curves(history_1_percent)"
      ],
      "execution_count": null,
      "outputs": [
        {
          "output_type": "display_data",
          "data": {
            "image/png": "[encoded data removed]",
            "text/plain": [
              "<Figure size 432x288 with 1 Axes>"
            ]
          },
          "metadata": {
            "tags": [],
            "needs_background": "light"
          }
        },
        {
          "output_type": "display_data",
          "data": {
            "image/png": "[encoded data removed]",
            "text/plain": [
              "<Figure size 432x288 with 1 Axes>"
            ]
          },
          "metadata": {
            "tags": [],
            "needs_background": "light"
          }
        }
      ]
    },
    {
      "cell_type": "markdown",
      "metadata": {
        "id": "SdqfOg6uAN9v"
      },
      "source": [
        "# Model 2: Feature extraction transfer learning with 10% of data and data augmentation"
      ]
    },
    {
      "cell_type": "code",
      "metadata": {
        "id": "7EpbWN-t_mnp"
      },
      "source": [
        "# Get 10% of the data of the 10 classes (uncomment if you haven't gotten \"10_food_classes_10_percent.zip\" already)\n",
        "# !wget https://storage.googleapis.com/ztm_tf_course/food_vision/10_food_classes_10_percent.zip\n",
        "# unzip_data(\"10_food_classes_10_percent.zip\")\n",
        "\n",
        "train_dir_10_percent = \"10_food_classes_10_percent/train\"\n",
        "test_dir =  \"10_food_classes_10_percent/test\""
      ],
      "execution_count": null,
      "outputs": []
    },
    {
      "cell_type": "code",
      "metadata": {
        "colab": {
          "base_uri": "https://localhost:8080/"
        },
        "id": "s004H3IMAzUP",
        "outputId": "b7389507-926d-4947-ce34-76ba549ce7ff"
      },
      "source": [
        "# Setup data inputs\n",
        "import tensorflow as tf\n",
        "IMG_SIZE = (224, 224)\n",
        "train_data_10_percent = tf.keras.preprocessing.image_dataset_from_directory(train_dir_10_percent,\n",
        "                                                                            label_mode=\"categorical\",\n",
        "                                                                            image_size=IMG_SIZE)\n",
        "\n",
        "test_data = tf.keras.preprocessing.image_dataset_from_directory(test_dir,\n",
        "                                                                label_mode=\"categorical\",\n",
        "                                                                image_size=IMG_SIZE)"
      ],
      "execution_count": null,
      "outputs": [
        {
          "output_type": "stream",
          "text": [
            "Found 750 files belonging to 10 classes.\n",
            "Found 2500 files belonging to 10 classes.\n"
          ],
          "name": "stdout"
        }
      ]
    },
    {
      "cell_type": "code",
      "metadata": {
        "id": "DhUJqwjIBhbE"
      },
      "source": [
        "# Create a functional model with data augmentation\n",
        "import tensorflow as tf\n",
        "from tensorflow.keras import layers\n",
        "from tensorflow.keras.layers.experimental import preprocessing\n",
        "from tensorflow.keras.models import Sequential \n",
        "\n",
        "# Build data augmentation layer\n",
        "data_augmentation = tf.keras.Sequential([\n",
        "        preprocessing.RandomFlip('horizontal'),\n",
        "        preprocessing.RandomHeight(0.2),\n",
        "        preprocessing.RandomWidth(0.2),\n",
        "        preprocessing.RandomZoom(0.2),\n",
        "        preprocessing.RandomRotation(0.2),\n",
        "        # preprocessing.Rescaling(1./255) # keep for ResNet50V2, remove for EfficientNet\n",
        "],name = \"data_augmentaion\")\n",
        "\n",
        "\n",
        "# Setup the input shape\n",
        "input_shape = (224,224,3)\n",
        "\n",
        "# Create a frozen base model\n",
        "base_model = tf.keras.applications.EfficientNetB0(include_top=False)\n",
        "base_model.trainable = False\n",
        "\n",
        "# Create input and output layers\n",
        "inputs = tf.keras.layers.Input(shape = input_shape,name = \"input_layer\")\n",
        "x = data_augmentation(inputs)\n",
        "x = base_model(x,training = False)\n",
        "x = tf.keras.layers.GlobalAveragePooling2D(name= \"global_average_pooling_layer\")(x)\n",
        "\n",
        "outputs = tf.keras.layers.Dense(10,activation = tf.keras.activations.softmax,name = \"output_layer\")(x)\n",
        "model_2 = tf.keras.Model(inputs,outputs)\n",
        "\n",
        "# Compile\n",
        "model_2.compile(loss = tf.keras.losses.categorical_crossentropy,\n",
        "                optimizer = tf.keras.optimizers.Adam(),\n",
        "                metrics = [\"accuracy\"])\n",
        "\n"
      ],
      "execution_count": null,
      "outputs": []
    },
    {
      "cell_type": "code",
      "metadata": {
        "colab": {
          "base_uri": "https://localhost:8080/"
        },
        "id": "YomasJ8REvnq",
        "outputId": "a8fd2616-b313-4729-cd7a-1e8afbd6b0dd"
      },
      "source": [
        "model_2.summary()"
      ],
      "execution_count": null,
      "outputs": [
        {
          "output_type": "stream",
          "text": [
            "Model: \"model_8\"\n",
            "_________________________________________________________________\n",
            "Layer (type)                 Output Shape              Param #   \n",
            "=================================================================\n",
            "input_layer (InputLayer)     [(None, 224, 224, 3)]     0         \n",
            "_________________________________________________________________\n",
            "data_augmentaion (Sequential (None, None, None, 3)     0         \n",
            "_________________________________________________________________\n",
            "efficientnetb0 (Functional)  (None, None, None, 1280)  4049571   \n",
            "_________________________________________________________________\n",
            "global_average_pooling_layer (None, 1280)              0         \n",
            "_________________________________________________________________\n",
            "output_layer (Dense)         (None, 10)                12810     \n",
            "=================================================================\n",
            "Total params: 4,062,381\n",
            "Trainable params: 12,810\n",
            "Non-trainable params: 4,049,571\n",
            "_________________________________________________________________\n"
          ],
          "name": "stdout"
        }
      ]
    },
    {
      "cell_type": "markdown",
      "metadata": {
        "id": "WCohOoizSjk8"
      },
      "source": [
        "# Creating a ModelCheckpoint callback\n",
        "\n",
        "The modelcheckpoint callback intermediately saves our model(the full model or just the weights) during training This is useful so we can come and start where we left off"
      ]
    },
    {
      "cell_type": "code",
      "metadata": {
        "id": "ooROXCb8RRd_"
      },
      "source": [
        "# Set the checkpoint path\n",
        "checkpoint_path = \"ten_percent_model_checkpoints_weights/checkpoint.ckpt\"\n",
        "\n",
        "# Create a ModelCheckpoint callback that saves the model's weights only\n",
        "checkpoint_callback = tf.keras.callbacks.ModelCheckpoint(filepath = checkpoint_path,\n",
        "                                                         save_weights_only = True,\n",
        "                                                         save_best_only = False,\n",
        "                                                         save_freq = \"epoch\",\n",
        "                                                         verbose  = 1)"
      ],
      "execution_count": null,
      "outputs": []
    },
    {
      "cell_type": "markdown",
      "metadata": {
        "id": "WUdP2HyZGbpc"
      },
      "source": [
        "# Fit the model 2 passing in the ModelCheckpoint Callback"
      ]
    },
    {
      "cell_type": "code",
      "metadata": {
        "id": "BOuOWPyTTqOS",
        "colab": {
          "base_uri": "https://localhost:8080/"
        },
        "outputId": "9b877667-1cbe-40df-8951-1af023f11b5d"
      },
      "source": [
        "# Fit the model saving checkpoints every epoch\n",
        "initial_epochs = 5\n",
        "history_10_percent_data_aug = model_2.fit(train_data_10_percent,\n",
        "                                          epochs = initial_epochs,\n",
        "                                          validation_data = test_data,\n",
        "                                          validation_steps = int(0.25*len(test_data)),\n",
        "                                          callbacks = [create_tensorboard_callback(\"transfer_learning\",\"10_percent_data_aug\"),\n",
        "                                                       checkpoint_callback])"
      ],
      "execution_count": null,
      "outputs": [
        {
          "output_type": "stream",
          "text": [
            "Saving TensorBoard log files to: transfer_learning/10_percent_data_aug/20210519-185554\n",
            "Epoch 1/5\n",
            "24/24 [==============================] - 20s 554ms/step - loss: 2.1641 - accuracy: 0.2081 - val_loss: 1.5086 - val_accuracy: 0.6398\n",
            "\n",
            "Epoch 00001: saving model to ten_percent_model_checkpoints_weights/checkpoint.ckpt\n",
            "Epoch 2/5\n",
            "24/24 [==============================] - 11s 437ms/step - loss: 1.4403 - accuracy: 0.6359 - val_loss: 1.0788 - val_accuracy: 0.7697\n",
            "\n",
            "Epoch 00002: saving model to ten_percent_model_checkpoints_weights/checkpoint.ckpt\n",
            "Epoch 3/5\n",
            "24/24 [==============================] - 11s 430ms/step - loss: 1.1043 - accuracy: 0.7190 - val_loss: 0.8516 - val_accuracy: 0.7878\n",
            "\n",
            "Epoch 00003: saving model to ten_percent_model_checkpoints_weights/checkpoint.ckpt\n",
            "Epoch 4/5\n",
            "24/24 [==============================] - 11s 448ms/step - loss: 0.9299 - accuracy: 0.7550 - val_loss: 0.7554 - val_accuracy: 0.8109\n",
            "\n",
            "Epoch 00004: saving model to ten_percent_model_checkpoints_weights/checkpoint.ckpt\n",
            "Epoch 5/5\n",
            "24/24 [==============================] - 10s 388ms/step - loss: 0.8220 - accuracy: 0.7781 - val_loss: 0.7110 - val_accuracy: 0.8174\n",
            "\n",
            "Epoch 00005: saving model to ten_percent_model_checkpoints_weights/checkpoint.ckpt\n"
          ],
          "name": "stdout"
        }
      ]
    },
    {
      "cell_type": "code",
      "metadata": {
        "colab": {
          "base_uri": "https://localhost:8080/"
        },
        "id": "Xo1wPXTMHazn",
        "outputId": "c0ff7ffe-c80c-4964-d87b-6015fae779db"
      },
      "source": [
        "model_0.evaluate(test_data)"
      ],
      "execution_count": null,
      "outputs": [
        {
          "output_type": "stream",
          "text": [
            "79/79 [==============================] - 15s 177ms/step - loss: 0.6059 - accuracy: 0.8428\n"
          ],
          "name": "stdout"
        },
        {
          "output_type": "execute_result",
          "data": {
            "text/plain": [
              "[0.6058778762817383, 0.8428000211715698]"
            ]
          },
          "metadata": {
            "tags": []
          },
          "execution_count": 191
        }
      ]
    },
    {
      "cell_type": "code",
      "metadata": {
        "colab": {
          "base_uri": "https://localhost:8080/"
        },
        "id": "Q9gt63REIGaj",
        "outputId": "b7043c63-7fb1-4512-fe06-d16358715eb4"
      },
      "source": [
        "results_10_percent_data_aug  = model_2.evaluate(test_data)\n",
        "results_10_percent_data_aug"
      ],
      "execution_count": null,
      "outputs": [
        {
          "output_type": "stream",
          "text": [
            "79/79 [==============================] - 14s 175ms/step - loss: 0.6867 - accuracy: 0.8172\n"
          ],
          "name": "stdout"
        },
        {
          "output_type": "execute_result",
          "data": {
            "text/plain": [
              "[0.6867193579673767, 0.8172000050544739]"
            ]
          },
          "metadata": {
            "tags": []
          },
          "execution_count": 192
        }
      ]
    },
    {
      "cell_type": "code",
      "metadata": {
        "colab": {
          "base_uri": "https://localhost:8080/",
          "height": 70
        },
        "id": "Cy42c2QFIJa_",
        "outputId": "fbf2c454-44f3-478c-af1f-3972fd2e31a4"
      },
      "source": [
        "plot_loss_curves(history_10_percent_data_aug)"
      ],
      "execution_count": null,
      "outputs": [
        {
          "output_type": "display_data",
          "data": {
            "image/png": "[encoded data removed]",
            "text/plain": [
              "<Figure size 432x288 with 1 Axes>"
            ]
          },
          "metadata": {
            "tags": [],
            "needs_background": "light"
          }
        },
        {
          "output_type": "display_data",
          "data": {
            "image/png": "[encoded data removed]",
            "text/plain": [
              "<Figure size 432x288 with 1 Axes>"
            ]
          },
          "metadata": {
            "tags": [],
            "needs_background": "light"
          }
        }
      ]
    },
    {
      "cell_type": "code",
      "metadata": {
        "colab": {
          "base_uri": "https://localhost:8080/"
        },
        "id": "XM6OM0qDIY5m",
        "outputId": "5ab12d65-cec4-42bf-cae3-f1cc5ef2498a"
      },
      "source": [
        "# Load in saved model weights and evaluate model\n",
        "model_2.load_weights(checkpoint_path)\n",
        "loaded_weights_model_results = model_2.evaluate(test_data)"
      ],
      "execution_count": null,
      "outputs": [
        {
          "output_type": "stream",
          "text": [
            "79/79 [==============================] - 15s 176ms/step - loss: 0.6867 - accuracy: 0.8172\n"
          ],
          "name": "stdout"
        }
      ]
    },
    {
      "cell_type": "code",
      "metadata": {
        "colab": {
          "base_uri": "https://localhost:8080/"
        },
        "id": "jfSfkB4jJm_m",
        "outputId": "dd92937c-f9d2-4bf5-ed7f-2a607a51b194"
      },
      "source": [
        "# If the results from our native model and the loaded weights are the same, this should output True\n",
        "results_10_percent_data_aug == loaded_weights_model_results"
      ],
      "execution_count": null,
      "outputs": [
        {
          "output_type": "execute_result",
          "data": {
            "text/plain": [
              "False"
            ]
          },
          "metadata": {
            "tags": []
          },
          "execution_count": 195
        }
      ]
    },
    {
      "cell_type": "code",
      "metadata": {
        "colab": {
          "base_uri": "https://localhost:8080/"
        },
        "id": "-zhABFGkKPKg",
        "outputId": "c87109dc-b65c-45b4-97e0-a79459d779bd"
      },
      "source": [
        "results_10_percent_data_aug"
      ],
      "execution_count": null,
      "outputs": [
        {
          "output_type": "execute_result",
          "data": {
            "text/plain": [
              "[0.6867193579673767, 0.8172000050544739]"
            ]
          },
          "metadata": {
            "tags": []
          },
          "execution_count": 196
        }
      ]
    },
    {
      "cell_type": "code",
      "metadata": {
        "colab": {
          "base_uri": "https://localhost:8080/"
        },
        "id": "D8Xm4tAnKWCQ",
        "outputId": "56b495f2-746f-4345-dc76-f06721292782"
      },
      "source": [
        "loaded_weights_model_results"
      ],
      "execution_count": null,
      "outputs": [
        {
          "output_type": "execute_result",
          "data": {
            "text/plain": [
              "[0.6867194175720215, 0.8172000050544739]"
            ]
          },
          "metadata": {
            "tags": []
          },
          "execution_count": 197
        }
      ]
    },
    {
      "cell_type": "code",
      "metadata": {
        "colab": {
          "base_uri": "https://localhost:8080/"
        },
        "id": "MO2m_dTyKXr4",
        "outputId": "7ae0f849-f3e5-4014-9b44-08b83458f459"
      },
      "source": [
        "# Check to see if loaded model results are very close to native model results (should output True)\n",
        "import numpy as np\n",
        "np.isclose(np.array(results_10_percent_data_aug),np.array(loaded_weights_model_results))"
      ],
      "execution_count": null,
      "outputs": [
        {
          "output_type": "execute_result",
          "data": {
            "text/plain": [
              "array([ True,  True])"
            ]
          },
          "metadata": {
            "tags": []
          },
          "execution_count": 198
        }
      ]
    },
    {
      "cell_type": "code",
      "metadata": {
        "colab": {
          "base_uri": "https://localhost:8080/"
        },
        "id": "o5nDIAGOKo-w",
        "outputId": "06e2481a-191a-421f-d7a4-3da412225f2f"
      },
      "source": [
        "# Check the difference between the two results\n",
        "print(np.array(results_10_percent_data_aug) - np.array(loaded_weights_model_results))"
      ],
      "execution_count": null,
      "outputs": [
        {
          "output_type": "stream",
          "text": [
            "[-5.96046448e-08  0.00000000e+00]\n"
          ],
          "name": "stdout"
        }
      ]
    },
    {
      "cell_type": "markdown",
      "metadata": {
        "id": "2gN5vBo9LcM0"
      },
      "source": [
        "# Model 3: Fine-tuning an existing model on 10% of the data\n",
        "\n",
        "🔑 **Note**: Fine-tuning usually works best after training a feature extraction model for a few epochs and with large amounts of data."
      ]
    },
    {
      "cell_type": "code",
      "metadata": {
        "colab": {
          "base_uri": "https://localhost:8080/"
        },
        "id": "AwAnjCWKK2xp",
        "outputId": "df3b08e8-a53d-41da-bfc0-228aca82c3ea"
      },
      "source": [
        "model_2.layers"
      ],
      "execution_count": null,
      "outputs": [
        {
          "output_type": "execute_result",
          "data": {
            "text/plain": [
              "[<tensorflow.python.keras.engine.input_layer.InputLayer at 0x7f68f519ff50>,\n",
              " <tensorflow.python.keras.engine.sequential.Sequential at 0x7f687b911ed0>,\n",
              " <tensorflow.python.keras.engine.functional.Functional at 0x7f68f519f590>,\n",
              " <tensorflow.python.keras.layers.pooling.GlobalAveragePooling2D at 0x7f6882e59610>,\n",
              " <tensorflow.python.keras.layers.core.Dense at 0x7f687f8a0810>]"
            ]
          },
          "metadata": {
            "tags": []
          },
          "execution_count": 200
        }
      ]
    },
    {
      "cell_type": "code",
      "metadata": {
        "colab": {
          "base_uri": "https://localhost:8080/"
        },
        "id": "m-uygMIZLnga",
        "outputId": "6bcb883c-3bb6-46c7-c709-a4370a82649d"
      },
      "source": [
        "for layer in model_2.layers:\n",
        "  print(layer,layer.trainable)"
      ],
      "execution_count": null,
      "outputs": [
        {
          "output_type": "stream",
          "text": [
            "<tensorflow.python.keras.engine.input_layer.InputLayer object at 0x7f68f519ff50> True\n",
            "<tensorflow.python.keras.engine.sequential.Sequential object at 0x7f687b911ed0> True\n",
            "<tensorflow.python.keras.engine.functional.Functional object at 0x7f68f519f590> False\n",
            "<tensorflow.python.keras.layers.pooling.GlobalAveragePooling2D object at 0x7f6882e59610> True\n",
            "<tensorflow.python.keras.layers.core.Dense object at 0x7f687f8a0810> True\n"
          ],
          "name": "stdout"
        }
      ]
    },
    {
      "cell_type": "code",
      "metadata": {
        "colab": {
          "base_uri": "https://localhost:8080/"
        },
        "id": "rtZolOBtLuVV",
        "outputId": "066b711f-499b-499a-be47-dcbf51d572f0"
      },
      "source": [
        "# Check which layers are tuneable (trainable)\n",
        "for layer_number,layer in enumerate(base_model.layers):\n",
        "  print(layer_number,layer.name,layer.trainable)"
      ],
      "execution_count": null,
      "outputs": [
        {
          "output_type": "stream",
          "text": [
            "0 input_9 False\n",
            "1 rescaling_8 False\n",
            "2 normalization_8 False\n",
            "3 stem_conv_pad False\n",
            "4 stem_conv False\n",
            "5 stem_bn False\n",
            "6 stem_activation False\n",
            "7 block1a_dwconv False\n",
            "8 block1a_bn False\n",
            "9 block1a_activation False\n",
            "10 block1a_se_squeeze False\n",
            "11 block1a_se_reshape False\n",
            "12 block1a_se_reduce False\n",
            "13 block1a_se_expand False\n",
            "14 block1a_se_excite False\n",
            "15 block1a_project_conv False\n",
            "16 block1a_project_bn False\n",
            "17 block2a_expand_conv False\n",
            "18 block2a_expand_bn False\n",
            "19 block2a_expand_activation False\n",
            "20 block2a_dwconv_pad False\n",
            "21 block2a_dwconv False\n",
            "22 block2a_bn False\n",
            "23 block2a_activation False\n",
            "24 block2a_se_squeeze False\n",
            "25 block2a_se_reshape False\n",
            "26 block2a_se_reduce False\n",
            "27 block2a_se_expand False\n",
            "28 block2a_se_excite False\n",
            "29 block2a_project_conv False\n",
            "30 block2a_project_bn False\n",
            "31 block2b_expand_conv False\n",
            "32 block2b_expand_bn False\n",
            "33 block2b_expand_activation False\n",
            "34 block2b_dwconv False\n",
            "35 block2b_bn False\n",
            "36 block2b_activation False\n",
            "37 block2b_se_squeeze False\n",
            "38 block2b_se_reshape False\n",
            "39 block2b_se_reduce False\n",
            "40 block2b_se_expand False\n",
            "41 block2b_se_excite False\n",
            "42 block2b_project_conv False\n",
            "43 block2b_project_bn False\n",
            "44 block2b_drop False\n",
            "45 block2b_add False\n",
            "46 block3a_expand_conv False\n",
            "47 block3a_expand_bn False\n",
            "48 block3a_expand_activation False\n",
            "49 block3a_dwconv_pad False\n",
            "50 block3a_dwconv False\n",
            "51 block3a_bn False\n",
            "52 block3a_activation False\n",
            "53 block3a_se_squeeze False\n",
            "54 block3a_se_reshape False\n",
            "55 block3a_se_reduce False\n",
            "56 block3a_se_expand False\n",
            "57 block3a_se_excite False\n",
            "58 block3a_project_conv False\n",
            "59 block3a_project_bn False\n",
            "60 block3b_expand_conv False\n",
            "61 block3b_expand_bn False\n",
            "62 block3b_expand_activation False\n",
            "63 block3b_dwconv False\n",
            "64 block3b_bn False\n",
            "65 block3b_activation False\n",
            "66 block3b_se_squeeze False\n",
            "67 block3b_se_reshape False\n",
            "68 block3b_se_reduce False\n",
            "69 block3b_se_expand False\n",
            "70 block3b_se_excite False\n",
            "71 block3b_project_conv False\n",
            "72 block3b_project_bn False\n",
            "73 block3b_drop False\n",
            "74 block3b_add False\n",
            "75 block4a_expand_conv False\n",
            "76 block4a_expand_bn False\n",
            "77 block4a_expand_activation False\n",
            "78 block4a_dwconv_pad False\n",
            "79 block4a_dwconv False\n",
            "80 block4a_bn False\n",
            "81 block4a_activation False\n",
            "82 block4a_se_squeeze False\n",
            "83 block4a_se_reshape False\n",
            "84 block4a_se_reduce False\n",
            "85 block4a_se_expand False\n",
            "86 block4a_se_excite False\n",
            "87 block4a_project_conv False\n",
            "88 block4a_project_bn False\n",
            "89 block4b_expand_conv False\n",
            "90 block4b_expand_bn False\n",
            "91 block4b_expand_activation False\n",
            "92 block4b_dwconv False\n",
            "93 block4b_bn False\n",
            "94 block4b_activation False\n",
            "95 block4b_se_squeeze False\n",
            "96 block4b_se_reshape False\n",
            "97 block4b_se_reduce False\n",
            "98 block4b_se_expand False\n",
            "99 block4b_se_excite False\n",
            "100 block4b_project_conv False\n",
            "101 block4b_project_bn False\n",
            "102 block4b_drop False\n",
            "103 block4b_add False\n",
            "104 block4c_expand_conv False\n",
            "105 block4c_expand_bn False\n",
            "106 block4c_expand_activation False\n",
            "107 block4c_dwconv False\n",
            "108 block4c_bn False\n",
            "109 block4c_activation False\n",
            "110 block4c_se_squeeze False\n",
            "111 block4c_se_reshape False\n",
            "112 block4c_se_reduce False\n",
            "113 block4c_se_expand False\n",
            "114 block4c_se_excite False\n",
            "115 block4c_project_conv False\n",
            "116 block4c_project_bn False\n",
            "117 block4c_drop False\n",
            "118 block4c_add False\n",
            "119 block5a_expand_conv False\n",
            "120 block5a_expand_bn False\n",
            "121 block5a_expand_activation False\n",
            "122 block5a_dwconv False\n",
            "123 block5a_bn False\n",
            "124 block5a_activation False\n",
            "125 block5a_se_squeeze False\n",
            "126 block5a_se_reshape False\n",
            "127 block5a_se_reduce False\n",
            "128 block5a_se_expand False\n",
            "129 block5a_se_excite False\n",
            "130 block5a_project_conv False\n",
            "131 block5a_project_bn False\n",
            "132 block5b_expand_conv False\n",
            "133 block5b_expand_bn False\n",
            "134 block5b_expand_activation False\n",
            "135 block5b_dwconv False\n",
            "136 block5b_bn False\n",
            "137 block5b_activation False\n",
            "138 block5b_se_squeeze False\n",
            "139 block5b_se_reshape False\n",
            "140 block5b_se_reduce False\n",
            "141 block5b_se_expand False\n",
            "142 block5b_se_excite False\n",
            "143 block5b_project_conv False\n",
            "144 block5b_project_bn False\n",
            "145 block5b_drop False\n",
            "146 block5b_add False\n",
            "147 block5c_expand_conv False\n",
            "148 block5c_expand_bn False\n",
            "149 block5c_expand_activation False\n",
            "150 block5c_dwconv False\n",
            "151 block5c_bn False\n",
            "152 block5c_activation False\n",
            "153 block5c_se_squeeze False\n",
            "154 block5c_se_reshape False\n",
            "155 block5c_se_reduce False\n",
            "156 block5c_se_expand False\n",
            "157 block5c_se_excite False\n",
            "158 block5c_project_conv False\n",
            "159 block5c_project_bn False\n",
            "160 block5c_drop False\n",
            "161 block5c_add False\n",
            "162 block6a_expand_conv False\n",
            "163 block6a_expand_bn False\n",
            "164 block6a_expand_activation False\n",
            "165 block6a_dwconv_pad False\n",
            "166 block6a_dwconv False\n",
            "167 block6a_bn False\n",
            "168 block6a_activation False\n",
            "169 block6a_se_squeeze False\n",
            "170 block6a_se_reshape False\n",
            "171 block6a_se_reduce False\n",
            "172 block6a_se_expand False\n",
            "173 block6a_se_excite False\n",
            "174 block6a_project_conv False\n",
            "175 block6a_project_bn False\n",
            "176 block6b_expand_conv False\n",
            "177 block6b_expand_bn False\n",
            "178 block6b_expand_activation False\n",
            "179 block6b_dwconv False\n",
            "180 block6b_bn False\n",
            "181 block6b_activation False\n",
            "182 block6b_se_squeeze False\n",
            "183 block6b_se_reshape False\n",
            "184 block6b_se_reduce False\n",
            "185 block6b_se_expand False\n",
            "186 block6b_se_excite False\n",
            "187 block6b_project_conv False\n",
            "188 block6b_project_bn False\n",
            "189 block6b_drop False\n",
            "190 block6b_add False\n",
            "191 block6c_expand_conv False\n",
            "192 block6c_expand_bn False\n",
            "193 block6c_expand_activation False\n",
            "194 block6c_dwconv False\n",
            "195 block6c_bn False\n",
            "196 block6c_activation False\n",
            "197 block6c_se_squeeze False\n",
            "198 block6c_se_reshape False\n",
            "199 block6c_se_reduce False\n",
            "200 block6c_se_expand False\n",
            "201 block6c_se_excite False\n",
            "202 block6c_project_conv False\n",
            "203 block6c_project_bn False\n",
            "204 block6c_drop False\n",
            "205 block6c_add False\n",
            "206 block6d_expand_conv False\n",
            "207 block6d_expand_bn False\n",
            "208 block6d_expand_activation False\n",
            "209 block6d_dwconv False\n",
            "210 block6d_bn False\n",
            "211 block6d_activation False\n",
            "212 block6d_se_squeeze False\n",
            "213 block6d_se_reshape False\n",
            "214 block6d_se_reduce False\n",
            "215 block6d_se_expand False\n",
            "216 block6d_se_excite False\n",
            "217 block6d_project_conv False\n",
            "218 block6d_project_bn False\n",
            "219 block6d_drop False\n",
            "220 block6d_add False\n",
            "221 block7a_expand_conv False\n",
            "222 block7a_expand_bn False\n",
            "223 block7a_expand_activation False\n",
            "224 block7a_dwconv False\n",
            "225 block7a_bn False\n",
            "226 block7a_activation False\n",
            "227 block7a_se_squeeze False\n",
            "228 block7a_se_reshape False\n",
            "229 block7a_se_reduce False\n",
            "230 block7a_se_expand False\n",
            "231 block7a_se_excite False\n",
            "232 block7a_project_conv False\n",
            "233 block7a_project_bn False\n",
            "234 top_conv False\n",
            "235 top_bn False\n",
            "236 top_activation False\n"
          ],
          "name": "stdout"
        }
      ]
    },
    {
      "cell_type": "code",
      "metadata": {
        "colab": {
          "base_uri": "https://localhost:8080/"
        },
        "id": "rnXPRiXPMqEn",
        "outputId": "a3c13217-822e-4c53-b14e-1b9d6212ee52"
      },
      "source": [
        "# How many layers are trainable in our base model?\n",
        "print(len(model_2.layers[2].trainable_variables)) "
      ],
      "execution_count": null,
      "outputs": [
        {
          "output_type": "stream",
          "text": [
            "0\n"
          ],
          "name": "stdout"
        }
      ]
    },
    {
      "cell_type": "code",
      "metadata": {
        "id": "KnHRFvAqM6s2"
      },
      "source": [
        "# To begin fine tuning let's start by setting last 10 layers of our base_model.trainable\n",
        "base_model.trainable = True\n",
        "\n",
        "# Freeze all layers except for the last 10\n",
        "for layers in base_model.layers[:-10]:\n",
        "  layers.trainable = False\n",
        "\n",
        "# Recompile the model (always recompile after any adjustments to a model)\n",
        "model_2.compile(loss = tf.keras.losses.categorical_crossentropy,\n",
        "                optimizer = tf.keras.optimizers.Adam(lr = 0.0001),# lr is 10x lower than before for fine-tuning\n",
        "                metrics = [\"accuracy\"])"
      ],
      "execution_count": null,
      "outputs": []
    },
    {
      "cell_type": "markdown",
      "metadata": {
        "id": "Do3EARfhOlkR"
      },
      "source": [
        "🔑 **Note**: There's no set standard for setting the learning rate during fine-tuning, though reductions of -10x seem to work well in practice."
      ]
    },
    {
      "cell_type": "code",
      "metadata": {
        "colab": {
          "base_uri": "https://localhost:8080/"
        },
        "id": "lsq4VT3aOHLE",
        "outputId": "13740714-c240-4871-c45f-bfc4cda018a3"
      },
      "source": [
        "print(len(model_2.trainable_variables))\n"
      ],
      "execution_count": null,
      "outputs": [
        {
          "output_type": "stream",
          "text": [
            "12\n"
          ],
          "name": "stdout"
        }
      ]
    },
    {
      "cell_type": "code",
      "metadata": {
        "id": "HFFgfTAvPAsr",
        "colab": {
          "base_uri": "https://localhost:8080/"
        },
        "outputId": "a3428b8d-6242-46e9-a1cd-ce1c9d957d06"
      },
      "source": [
        "# Fine tune for another 5 epochs\n",
        "fine_tune_epoch = initial_epochs + 5\n",
        "\n",
        "# Refit the model (same as model_2 except with more trainable layers)\n",
        "history_fine_10_percent_data_aug = model_2.fit(train_data_10_percent,\n",
        "                                               epochs = fine_tune_epoch,\n",
        "                                               validation_data = test_data,\n",
        "                                               initial_epoch = history_10_percent_data_aug.epoch[-1],\n",
        "                                               validation_steps = int(0.25*len(test_data)),\n",
        "                                              callbacks = [create_tensorboard_callback(dir_name = \"transfer_learning\",\n",
        "                                                                                       experiment_name = \"10_percent_fine_tune_last_10\")])"
      ],
      "execution_count": null,
      "outputs": [
        {
          "output_type": "stream",
          "text": [
            "Saving TensorBoard log files to: transfer_learning/10_percent_fine_tune_last_10/20210519-185744\n",
            "Epoch 5/10\n",
            "24/24 [==============================] - 21s 581ms/step - loss: 0.7138 - accuracy: 0.8105 - val_loss: 0.6047 - val_accuracy: 0.7928\n",
            "Epoch 6/10\n",
            "24/24 [==============================] - 10s 407ms/step - loss: 0.5732 - accuracy: 0.8392 - val_loss: 0.5193 - val_accuracy: 0.8257\n",
            "Epoch 7/10\n",
            "24/24 [==============================] - 11s 426ms/step - loss: 0.4871 - accuracy: 0.8675 - val_loss: 0.5081 - val_accuracy: 0.8322\n",
            "Epoch 8/10\n",
            "24/24 [==============================] - 11s 443ms/step - loss: 0.4486 - accuracy: 0.8597 - val_loss: 0.5357 - val_accuracy: 0.8076\n",
            "Epoch 9/10\n",
            "24/24 [==============================] - 11s 464ms/step - loss: 0.4378 - accuracy: 0.8684 - val_loss: 0.5087 - val_accuracy: 0.8174\n",
            "Epoch 10/10\n",
            "24/24 [==============================] - 11s 448ms/step - loss: 0.3379 - accuracy: 0.9083 - val_loss: 0.4997 - val_accuracy: 0.8207\n"
          ],
          "name": "stdout"
        }
      ]
    },
    {
      "cell_type": "code",
      "metadata": {
        "colab": {
          "base_uri": "https://localhost:8080/"
        },
        "id": "YtwfSbDQdITL",
        "outputId": "e7ad5e5d-11b9-48f0-c7bf-6dad6c44817b"
      },
      "source": [
        "# Evaluate the model on the test data\n",
        "result_fine_tune_10_percent = model_2.evaluate(test_data)"
      ],
      "execution_count": null,
      "outputs": [
        {
          "output_type": "stream",
          "text": [
            "79/79 [==============================] - 14s 175ms/step - loss: 0.4813 - accuracy: 0.8348\n"
          ],
          "name": "stdout"
        }
      ]
    },
    {
      "cell_type": "code",
      "metadata": {
        "colab": {
          "base_uri": "https://localhost:8080/"
        },
        "id": "VbPkFkRodS-7",
        "outputId": "1119e8ab-67fb-4deb-e27c-da496b169fe4"
      },
      "source": [
        "plot_loss_curves(history_fine_10_percent_data_aug)"
      ],
      "execution_count": null,
      "outputs": [
        {
          "output_type": "display_data",
          "data": {
            "image/png": "[encoded data removed]",
            "text/plain": [
              "<Figure size 432x288 with 1 Axes>"
            ]
          },
          "metadata": {
            "tags": [],
            "needs_background": "light"
          }
        },
        {
          "output_type": "display_data",
          "data": {
            "image/png": "[encoded data removed]",
            "text/plain": [
              "<Figure size 432x288 with 1 Axes>"
            ]
          },
          "metadata": {
            "tags": [],
            "needs_background": "light"
          }
        }
      ]
    },
    {
      "cell_type": "code",
      "metadata": {
        "id": "poO4jSxPgHlL"
      },
      "source": [
        "def compare_historys(orignal_history,new_history,initial_epochs = 5):\n",
        "    \"\"\"\n",
        "    Compares two model history objects.\n",
        "    \"\"\"\n",
        "    # Get original history measurements\n",
        "    acc = orignal_history.history[\"accuracy\"]\n",
        "    loss = orignal_history.history[\"loss\"]\n",
        "\n",
        "    val_acc = orignal_history.history[\"val_accuracy\"]\n",
        "    val_loss = orignal_history.history[\"val_loss\"]\n",
        "\n",
        "    # Combine original history with new history\n",
        "    total_acc = acc + new_history.history[\"accuracy\"]\n",
        "    total_loss = loss + new_history.history[\"loss\"]\n",
        "\n",
        "    total_val_acc = val_acc + new_history.history[\"val_accuracy\"]\n",
        "    total_val_loss = val_loss + new_history.history[\"val_loss\"]\n",
        "\n",
        "    # Make plots\n",
        "    plt.figure(figsize = (8,8))\n",
        "    plt.subplot(2,1,1)\n",
        "    plt.plot(total_acc,label = \"Training Accuracy\")\n",
        "    plt.plot(total_val_acc,label = \"Validation Accuracy\")\n",
        "    plt.plot([initial_epochs - 1,initial_epochs - 1],\n",
        "             plt.ylim(),label = \"Start Fine tuning\")\n",
        "    plt.legend(loc = 'lower right')\n",
        "    plt.title('Training and Validation Accuracy')\n",
        "\n",
        "\n",
        "\n",
        "    plt.subplot(2,1,2)\n",
        "    plt.plot(total_loss,label = \"Training Loss\")\n",
        "    plt.plot(total_val_loss,label = \"Validation Loss\")\n",
        "    plt.plot([initial_epochs - 1,initial_epochs - 1],\n",
        "             plt.ylim(),label = \"Start Fine tuning\")\n",
        "    plt.legend(loc = 'upper right')\n",
        "    plt.title('Training and Validation Accuracy')\n",
        "    plt.xlabel('epoch')\n",
        "    plt.show()\n"
      ],
      "execution_count": null,
      "outputs": []
    },
    {
      "cell_type": "code",
      "metadata": {
        "colab": {
          "base_uri": "https://localhost:8080/"
        },
        "id": "A3VdoKQqi1Rd",
        "outputId": "50465591-ec6a-42ce-ae90-b5ae2d4b444c"
      },
      "source": [
        "compare_historys(orignal_history=history_10_percent_data_aug, \n",
        "                 new_history=history_fine_10_percent_data_aug, \n",
        "                 initial_epochs=5)"
      ],
      "execution_count": null,
      "outputs": [
        {
          "output_type": "display_data",
          "data": {
            "image/png": "[encoded data removed]",
            "text/plain": [
              "<Figure size 576x576 with 2 Axes>"
            ]
          },
          "metadata": {
            "tags": [],
            "needs_background": "light"
          }
        }
      ]
    },
    {
      "cell_type": "markdown",
      "metadata": {
        "id": "eqNT1bxVkELZ"
      },
      "source": [
        "# Model 4: Fine-tuning an existing model all of the data"
      ]
    },
    {
      "cell_type": "code",
      "metadata": {
        "colab": {
          "base_uri": "https://localhost:8080/"
        },
        "id": "lG0SbLE_jTzr",
        "outputId": "ef45d385-531b-4846-8640-a6d6b0f81444"
      },
      "source": [
        "# Download and unzip 10 classes of data with all images\n",
        "!wget https://storage.googleapis.com/ztm_tf_course/food_vision/10_food_classes_all_data.zip \n",
        "unzip_data(\"10_food_classes_all_data.zip\")\n",
        "\n",
        "# Setup data directories\n",
        "train_dir = \"10_food_classes_all_data/train/\"\n",
        "test_dir = \"10_food_classes_all_data/test/\""
      ],
      "execution_count": null,
      "outputs": [
        {
          "output_type": "stream",
          "text": [
            "--2021-05-19 18:59:15--  https://storage.googleapis.com/ztm_tf_course/food_vision/10_food_classes_all_data.zip\n",
            "Resolving storage.googleapis.com (storage.googleapis.com)... 108.177.125.128, 142.250.157.128, 74.125.203.128, ...\n",
            "Connecting to storage.googleapis.com (storage.googleapis.com)|108.177.125.128|:443... connected.\n",
            "HTTP request sent, awaiting response... 200 OK\n",
            "Length: 519183241 (495M) [application/zip]\n",
            "Saving to: ‘10_food_classes_all_data.zip.1’\n",
            "\n",
            "10_food_classes_all 100%[===================>] 495.13M   126MB/s    in 4.1s    \n",
            "\n",
            "2021-05-19 18:59:20 (120 MB/s) - ‘10_food_classes_all_data.zip.1’ saved [519183241/519183241]\n",
            "\n"
          ],
          "name": "stdout"
        }
      ]
    },
    {
      "cell_type": "code",
      "metadata": {
        "colab": {
          "base_uri": "https://localhost:8080/"
        },
        "id": "crd2kYWolf-4",
        "outputId": "d5fec035-db3a-41a1-a21e-af575cc9102f"
      },
      "source": [
        "# How many images are we working with now?\n",
        "walk_through_dir(\"10_food_classes_all_data\")"
      ],
      "execution_count": null,
      "outputs": [
        {
          "output_type": "stream",
          "text": [
            "There are 2 directories and 0 images in '10_food_classes_all_data'.\n",
            "There are 10 directories and 0 images in '10_food_classes_all_data/test'.\n",
            "There are 0 directories and 250 images in '10_food_classes_all_data/test/grilled_salmon'.\n",
            "There are 0 directories and 250 images in '10_food_classes_all_data/test/fried_rice'.\n",
            "There are 0 directories and 250 images in '10_food_classes_all_data/test/chicken_wings'.\n",
            "There are 0 directories and 250 images in '10_food_classes_all_data/test/ramen'.\n",
            "There are 0 directories and 250 images in '10_food_classes_all_data/test/hamburger'.\n",
            "There are 0 directories and 250 images in '10_food_classes_all_data/test/pizza'.\n",
            "There are 0 directories and 250 images in '10_food_classes_all_data/test/ice_cream'.\n",
            "There are 0 directories and 250 images in '10_food_classes_all_data/test/steak'.\n",
            "There are 0 directories and 250 images in '10_food_classes_all_data/test/sushi'.\n",
            "There are 0 directories and 250 images in '10_food_classes_all_data/test/chicken_curry'.\n",
            "There are 10 directories and 0 images in '10_food_classes_all_data/train'.\n",
            "There are 0 directories and 750 images in '10_food_classes_all_data/train/grilled_salmon'.\n",
            "There are 0 directories and 750 images in '10_food_classes_all_data/train/fried_rice'.\n",
            "There are 0 directories and 750 images in '10_food_classes_all_data/train/chicken_wings'.\n",
            "There are 0 directories and 750 images in '10_food_classes_all_data/train/ramen'.\n",
            "There are 0 directories and 750 images in '10_food_classes_all_data/train/hamburger'.\n",
            "There are 0 directories and 750 images in '10_food_classes_all_data/train/pizza'.\n",
            "There are 0 directories and 750 images in '10_food_classes_all_data/train/ice_cream'.\n",
            "There are 0 directories and 750 images in '10_food_classes_all_data/train/steak'.\n",
            "There are 0 directories and 750 images in '10_food_classes_all_data/train/sushi'.\n",
            "There are 0 directories and 750 images in '10_food_classes_all_data/train/chicken_curry'.\n"
          ],
          "name": "stdout"
        }
      ]
    },
    {
      "cell_type": "code",
      "metadata": {
        "colab": {
          "base_uri": "https://localhost:8080/"
        },
        "id": "-NTLPvxYlmzc",
        "outputId": "0637b301-93dd-4d0e-f861-7aadf6807195"
      },
      "source": [
        "# Setup data inputs\n",
        "import tensorflow as tf\n",
        "IMG_SIZE = (224,224)\n",
        "\n",
        "train_data_10_classes_full = tf.keras.preprocessing.image_dataset_from_directory(train_dir,\n",
        "                                                                                 label_mode = \"categorical\",\n",
        "                                                                                 image_size = IMG_SIZE)\n",
        "\n",
        "test_data = tf.keras.preprocessing.image_dataset_from_directory(test_dir,\n",
        "                                                                label_mode = \"categorical\",\n",
        "                                                                image_size = IMG_SIZE)"
      ],
      "execution_count": null,
      "outputs": [
        {
          "output_type": "stream",
          "text": [
            "Found 7500 files belonging to 10 classes.\n",
            "Found 2500 files belonging to 10 classes.\n"
          ],
          "name": "stdout"
        }
      ]
    },
    {
      "cell_type": "markdown",
      "metadata": {
        "id": "MnFWUWtDm3tG"
      },
      "source": [
        "The testdata set we have loaded in is same as what we have been using for previous experiment (all experiment have used same test data set)\n",
        "\n",
        "Let's verify it"
      ]
    },
    {
      "cell_type": "code",
      "metadata": {
        "colab": {
          "base_uri": "https://localhost:8080/"
        },
        "id": "bl0TVrl9maLs",
        "outputId": "8bee3e2c-b182-4ab6-b6bb-f052a8106fbf"
      },
      "source": [
        "model_2.evaluate(test_data)"
      ],
      "execution_count": null,
      "outputs": [
        {
          "output_type": "stream",
          "text": [
            "79/79 [==============================] - 15s 177ms/step - loss: 0.4813 - accuracy: 0.8348\n"
          ],
          "name": "stdout"
        },
        {
          "output_type": "execute_result",
          "data": {
            "text/plain": [
              "[0.4813193380832672, 0.8348000049591064]"
            ]
          },
          "metadata": {
            "tags": []
          },
          "execution_count": 214
        }
      ]
    },
    {
      "cell_type": "code",
      "metadata": {
        "colab": {
          "base_uri": "https://localhost:8080/"
        },
        "id": "MKTV1fJanVYF",
        "outputId": "afbd7258-8e44-470f-db6e-37a260f53230"
      },
      "source": [
        "result_fine_tune_10_percent"
      ],
      "execution_count": null,
      "outputs": [
        {
          "output_type": "execute_result",
          "data": {
            "text/plain": [
              "[0.48131924867630005, 0.8348000049591064]"
            ]
          },
          "metadata": {
            "tags": []
          },
          "execution_count": 215
        }
      ]
    },
    {
      "cell_type": "code",
      "metadata": {
        "colab": {
          "base_uri": "https://localhost:8080/"
        },
        "id": "vUwOaIKvne46",
        "outputId": "fc14ceb8-b282-4e93-aee8-88565d631941"
      },
      "source": [
        "# After loading the weights, this should have gone down (no fine-tuning)\n",
        "model_2.evaluate(test_data)"
      ],
      "execution_count": null,
      "outputs": [
        {
          "output_type": "stream",
          "text": [
            "79/79 [==============================] - 15s 178ms/step - loss: 0.4813 - accuracy: 0.8348\n"
          ],
          "name": "stdout"
        },
        {
          "output_type": "execute_result",
          "data": {
            "text/plain": [
              "[0.48131924867630005, 0.8348000049591064]"
            ]
          },
          "metadata": {
            "tags": []
          },
          "execution_count": 216
        }
      ]
    },
    {
      "cell_type": "code",
      "metadata": {
        "colab": {
          "base_uri": "https://localhost:8080/"
        },
        "id": "tYeqGWqk0w8z",
        "outputId": "e47d732d-ebc3-4219-8d17-6ab04c63020e"
      },
      "source": [
        "result_fine_tune_10_percent"
      ],
      "execution_count": null,
      "outputs": [
        {
          "output_type": "execute_result",
          "data": {
            "text/plain": [
              "[0.48131924867630005, 0.8348000049591064]"
            ]
          },
          "metadata": {
            "tags": []
          },
          "execution_count": 217
        }
      ]
    },
    {
      "cell_type": "markdown",
      "metadata": {
        "id": "8B4BpC5Z1Bcj"
      },
      "source": [
        "To train a fine tune-model(model-4) we need to revert our model_2 back to it's feature extraction weights"
      ]
    },
    {
      "cell_type": "code",
      "metadata": {
        "colab": {
          "base_uri": "https://localhost:8080/"
        },
        "id": "sDt2gP4U01Y7",
        "outputId": "36edc754-c5bb-48fd-98a1-627cf3ab5367"
      },
      "source": [
        "# Load model from checkpoint, that way we can fine-tune from the same stage the 10 percent data model was fine-tuned from\n",
        "model_2.load_weights(checkpoint_path) # revert model back to saved weights"
      ],
      "execution_count": null,
      "outputs": [
        {
          "output_type": "execute_result",
          "data": {
            "text/plain": [
              "<tensorflow.python.training.tracking.util.CheckpointLoadStatus at 0x7f68841b85d0>"
            ]
          },
          "metadata": {
            "tags": []
          },
          "execution_count": 218
        }
      ]
    },
    {
      "cell_type": "code",
      "metadata": {
        "colab": {
          "base_uri": "https://localhost:8080/"
        },
        "id": "ZAR75NNc1VCe",
        "outputId": "cea67a8e-c444-4969-c185-2c931da55e70"
      },
      "source": [
        "# After loading the weights, this should have gone down (no fine-tuning)\n",
        "model_2.evaluate(test_data)"
      ],
      "execution_count": null,
      "outputs": [
        {
          "output_type": "stream",
          "text": [
            "79/79 [==============================] - 14s 176ms/step - loss: 0.6867 - accuracy: 0.8172\n"
          ],
          "name": "stdout"
        },
        {
          "output_type": "execute_result",
          "data": {
            "text/plain": [
              "[0.6867193579673767, 0.8172000050544739]"
            ]
          },
          "metadata": {
            "tags": []
          },
          "execution_count": 219
        }
      ]
    },
    {
      "cell_type": "markdown",
      "metadata": {
        "id": "1wl2KOrV1fiG"
      },
      "source": [
        "Alright, the previous steps might seem quite confusing but all we've done is:\n",
        "\n",
        "1. Trained a feature extraction transfer learning model for 5 epochs on 10% of the data (with all base model layers frozen) and saved the model's weights using ModelCheckpoint.\n",
        "2. Fine-tuned the same model on the same 10% of the data for a further 5 epochs with the top 10 layers of the base model unfrozen.\n",
        "3. Saved the results and training logs each time.\n",
        "4. Reloaded the model from 1 to do the same steps as 2 but with all of the data."
      ]
    },
    {
      "cell_type": "code",
      "metadata": {
        "colab": {
          "base_uri": "https://localhost:8080/"
        },
        "id": "ZVDEjgWd1Xph",
        "outputId": "16abbb1f-769e-4747-a972-4568a1a9fdf5"
      },
      "source": [
        "# Check which layers are tuneable in the whole model\n",
        "for layer_number, layer in enumerate(model_2.layers):\n",
        "  print(layer_number, layer.name, layer.trainable)"
      ],
      "execution_count": null,
      "outputs": [
        {
          "output_type": "stream",
          "text": [
            "0 input_layer True\n",
            "1 data_augmentaion True\n",
            "2 efficientnetb0 True\n",
            "3 global_average_pooling_layer True\n",
            "4 output_layer True\n"
          ],
          "name": "stdout"
        }
      ]
    },
    {
      "cell_type": "code",
      "metadata": {
        "colab": {
          "base_uri": "https://localhost:8080/"
        },
        "id": "vbHpQQ181rvC",
        "outputId": "6fd31fec-baef-4cde-b2b2-bc3864a43720"
      },
      "source": [
        "# Check which layers are tuneable in the base model\n",
        "for layer_number, layer in enumerate(base_model.layers):\n",
        "  print(layer_number, layer.name, layer.trainable)"
      ],
      "execution_count": null,
      "outputs": [
        {
          "output_type": "stream",
          "text": [
            "0 input_9 False\n",
            "1 rescaling_8 False\n",
            "2 normalization_8 False\n",
            "3 stem_conv_pad False\n",
            "4 stem_conv False\n",
            "5 stem_bn False\n",
            "6 stem_activation False\n",
            "7 block1a_dwconv False\n",
            "8 block1a_bn False\n",
            "9 block1a_activation False\n",
            "10 block1a_se_squeeze False\n",
            "11 block1a_se_reshape False\n",
            "12 block1a_se_reduce False\n",
            "13 block1a_se_expand False\n",
            "14 block1a_se_excite False\n",
            "15 block1a_project_conv False\n",
            "16 block1a_project_bn False\n",
            "17 block2a_expand_conv False\n",
            "18 block2a_expand_bn False\n",
            "19 block2a_expand_activation False\n",
            "20 block2a_dwconv_pad False\n",
            "21 block2a_dwconv False\n",
            "22 block2a_bn False\n",
            "23 block2a_activation False\n",
            "24 block2a_se_squeeze False\n",
            "25 block2a_se_reshape False\n",
            "26 block2a_se_reduce False\n",
            "27 block2a_se_expand False\n",
            "28 block2a_se_excite False\n",
            "29 block2a_project_conv False\n",
            "30 block2a_project_bn False\n",
            "31 block2b_expand_conv False\n",
            "32 block2b_expand_bn False\n",
            "33 block2b_expand_activation False\n",
            "34 block2b_dwconv False\n",
            "35 block2b_bn False\n",
            "36 block2b_activation False\n",
            "37 block2b_se_squeeze False\n",
            "38 block2b_se_reshape False\n",
            "39 block2b_se_reduce False\n",
            "40 block2b_se_expand False\n",
            "41 block2b_se_excite False\n",
            "42 block2b_project_conv False\n",
            "43 block2b_project_bn False\n",
            "44 block2b_drop False\n",
            "45 block2b_add False\n",
            "46 block3a_expand_conv False\n",
            "47 block3a_expand_bn False\n",
            "48 block3a_expand_activation False\n",
            "49 block3a_dwconv_pad False\n",
            "50 block3a_dwconv False\n",
            "51 block3a_bn False\n",
            "52 block3a_activation False\n",
            "53 block3a_se_squeeze False\n",
            "54 block3a_se_reshape False\n",
            "55 block3a_se_reduce False\n",
            "56 block3a_se_expand False\n",
            "57 block3a_se_excite False\n",
            "58 block3a_project_conv False\n",
            "59 block3a_project_bn False\n",
            "60 block3b_expand_conv False\n",
            "61 block3b_expand_bn False\n",
            "62 block3b_expand_activation False\n",
            "63 block3b_dwconv False\n",
            "64 block3b_bn False\n",
            "65 block3b_activation False\n",
            "66 block3b_se_squeeze False\n",
            "67 block3b_se_reshape False\n",
            "68 block3b_se_reduce False\n",
            "69 block3b_se_expand False\n",
            "70 block3b_se_excite False\n",
            "71 block3b_project_conv False\n",
            "72 block3b_project_bn False\n",
            "73 block3b_drop False\n",
            "74 block3b_add False\n",
            "75 block4a_expand_conv False\n",
            "76 block4a_expand_bn False\n",
            "77 block4a_expand_activation False\n",
            "78 block4a_dwconv_pad False\n",
            "79 block4a_dwconv False\n",
            "80 block4a_bn False\n",
            "81 block4a_activation False\n",
            "82 block4a_se_squeeze False\n",
            "83 block4a_se_reshape False\n",
            "84 block4a_se_reduce False\n",
            "85 block4a_se_expand False\n",
            "86 block4a_se_excite False\n",
            "87 block4a_project_conv False\n",
            "88 block4a_project_bn False\n",
            "89 block4b_expand_conv False\n",
            "90 block4b_expand_bn False\n",
            "91 block4b_expand_activation False\n",
            "92 block4b_dwconv False\n",
            "93 block4b_bn False\n",
            "94 block4b_activation False\n",
            "95 block4b_se_squeeze False\n",
            "96 block4b_se_reshape False\n",
            "97 block4b_se_reduce False\n",
            "98 block4b_se_expand False\n",
            "99 block4b_se_excite False\n",
            "100 block4b_project_conv False\n",
            "101 block4b_project_bn False\n",
            "102 block4b_drop False\n",
            "103 block4b_add False\n",
            "104 block4c_expand_conv False\n",
            "105 block4c_expand_bn False\n",
            "106 block4c_expand_activation False\n",
            "107 block4c_dwconv False\n",
            "108 block4c_bn False\n",
            "109 block4c_activation False\n",
            "110 block4c_se_squeeze False\n",
            "111 block4c_se_reshape False\n",
            "112 block4c_se_reduce False\n",
            "113 block4c_se_expand False\n",
            "114 block4c_se_excite False\n",
            "115 block4c_project_conv False\n",
            "116 block4c_project_bn False\n",
            "117 block4c_drop False\n",
            "118 block4c_add False\n",
            "119 block5a_expand_conv False\n",
            "120 block5a_expand_bn False\n",
            "121 block5a_expand_activation False\n",
            "122 block5a_dwconv False\n",
            "123 block5a_bn False\n",
            "124 block5a_activation False\n",
            "125 block5a_se_squeeze False\n",
            "126 block5a_se_reshape False\n",
            "127 block5a_se_reduce False\n",
            "128 block5a_se_expand False\n",
            "129 block5a_se_excite False\n",
            "130 block5a_project_conv False\n",
            "131 block5a_project_bn False\n",
            "132 block5b_expand_conv False\n",
            "133 block5b_expand_bn False\n",
            "134 block5b_expand_activation False\n",
            "135 block5b_dwconv False\n",
            "136 block5b_bn False\n",
            "137 block5b_activation False\n",
            "138 block5b_se_squeeze False\n",
            "139 block5b_se_reshape False\n",
            "140 block5b_se_reduce False\n",
            "141 block5b_se_expand False\n",
            "142 block5b_se_excite False\n",
            "143 block5b_project_conv False\n",
            "144 block5b_project_bn False\n",
            "145 block5b_drop False\n",
            "146 block5b_add False\n",
            "147 block5c_expand_conv False\n",
            "148 block5c_expand_bn False\n",
            "149 block5c_expand_activation False\n",
            "150 block5c_dwconv False\n",
            "151 block5c_bn False\n",
            "152 block5c_activation False\n",
            "153 block5c_se_squeeze False\n",
            "154 block5c_se_reshape False\n",
            "155 block5c_se_reduce False\n",
            "156 block5c_se_expand False\n",
            "157 block5c_se_excite False\n",
            "158 block5c_project_conv False\n",
            "159 block5c_project_bn False\n",
            "160 block5c_drop False\n",
            "161 block5c_add False\n",
            "162 block6a_expand_conv False\n",
            "163 block6a_expand_bn False\n",
            "164 block6a_expand_activation False\n",
            "165 block6a_dwconv_pad False\n",
            "166 block6a_dwconv False\n",
            "167 block6a_bn False\n",
            "168 block6a_activation False\n",
            "169 block6a_se_squeeze False\n",
            "170 block6a_se_reshape False\n",
            "171 block6a_se_reduce False\n",
            "172 block6a_se_expand False\n",
            "173 block6a_se_excite False\n",
            "174 block6a_project_conv False\n",
            "175 block6a_project_bn False\n",
            "176 block6b_expand_conv False\n",
            "177 block6b_expand_bn False\n",
            "178 block6b_expand_activation False\n",
            "179 block6b_dwconv False\n",
            "180 block6b_bn False\n",
            "181 block6b_activation False\n",
            "182 block6b_se_squeeze False\n",
            "183 block6b_se_reshape False\n",
            "184 block6b_se_reduce False\n",
            "185 block6b_se_expand False\n",
            "186 block6b_se_excite False\n",
            "187 block6b_project_conv False\n",
            "188 block6b_project_bn False\n",
            "189 block6b_drop False\n",
            "190 block6b_add False\n",
            "191 block6c_expand_conv False\n",
            "192 block6c_expand_bn False\n",
            "193 block6c_expand_activation False\n",
            "194 block6c_dwconv False\n",
            "195 block6c_bn False\n",
            "196 block6c_activation False\n",
            "197 block6c_se_squeeze False\n",
            "198 block6c_se_reshape False\n",
            "199 block6c_se_reduce False\n",
            "200 block6c_se_expand False\n",
            "201 block6c_se_excite False\n",
            "202 block6c_project_conv False\n",
            "203 block6c_project_bn False\n",
            "204 block6c_drop False\n",
            "205 block6c_add False\n",
            "206 block6d_expand_conv False\n",
            "207 block6d_expand_bn False\n",
            "208 block6d_expand_activation False\n",
            "209 block6d_dwconv False\n",
            "210 block6d_bn False\n",
            "211 block6d_activation False\n",
            "212 block6d_se_squeeze False\n",
            "213 block6d_se_reshape False\n",
            "214 block6d_se_reduce False\n",
            "215 block6d_se_expand False\n",
            "216 block6d_se_excite False\n",
            "217 block6d_project_conv False\n",
            "218 block6d_project_bn False\n",
            "219 block6d_drop False\n",
            "220 block6d_add False\n",
            "221 block7a_expand_conv False\n",
            "222 block7a_expand_bn False\n",
            "223 block7a_expand_activation False\n",
            "224 block7a_dwconv False\n",
            "225 block7a_bn False\n",
            "226 block7a_activation False\n",
            "227 block7a_se_squeeze True\n",
            "228 block7a_se_reshape True\n",
            "229 block7a_se_reduce True\n",
            "230 block7a_se_expand True\n",
            "231 block7a_se_excite True\n",
            "232 block7a_project_conv True\n",
            "233 block7a_project_bn True\n",
            "234 top_conv True\n",
            "235 top_bn True\n",
            "236 top_activation True\n"
          ],
          "name": "stdout"
        }
      ]
    },
    {
      "cell_type": "code",
      "metadata": {
        "id": "ak0WMTpZ1wF8"
      },
      "source": [
        "# Compile\n",
        "model_2.compile(loss = tf.keras.losses.categorical_crossentropy,\n",
        "                optimizer = tf.keras.optimizers.Adam(lr = 0.0001),\n",
        "                metrics = [\"accuracy\"])"
      ],
      "execution_count": null,
      "outputs": []
    },
    {
      "cell_type": "code",
      "metadata": {
        "colab": {
          "base_uri": "https://localhost:8080/"
        },
        "id": "fcWE-Qbx2ECW",
        "outputId": "6d562026-e8a5-437a-8b1d-be91e71c0a55"
      },
      "source": [
        "# Continue to train and fine-tune the model to our data\n",
        "fine_tune_epoch = initial_epochs + 5\n",
        "\n",
        "history_fine_10_classes_full = model_2.fit(train_data_10_classes_full,\n",
        "                                           epochs = fine_tune_epoch,\n",
        "                                           initial_epoch = history_10_percent_data_aug.epoch[-1],\n",
        "                                           validation_data = test_data,\n",
        "                                           validation_steps = int(0.25*len(test_data)),\n",
        "                                           callbacks=[create_tensorboard_callback(\"transfer_learning\", \"full_10_classes_fine_tune_last_10\")])"
      ],
      "execution_count": null,
      "outputs": [
        {
          "output_type": "stream",
          "text": [
            "Saving TensorBoard log files to: transfer_learning/full_10_classes_fine_tune_last_10/20210519-190016\n",
            "Epoch 5/10\n",
            "235/235 [==============================] - 67s 250ms/step - loss: 0.7778 - accuracy: 0.7554 - val_loss: 0.3491 - val_accuracy: 0.8931\n",
            "Epoch 6/10\n",
            "235/235 [==============================] - 65s 276ms/step - loss: 0.5979 - accuracy: 0.8077 - val_loss: 0.3113 - val_accuracy: 0.9095\n",
            "Epoch 7/10\n",
            "235/235 [==============================] - 64s 269ms/step - loss: 0.5265 - accuracy: 0.8324 - val_loss: 0.3491 - val_accuracy: 0.8849\n",
            "Epoch 8/10\n",
            "235/235 [==============================] - 63s 265ms/step - loss: 0.4965 - accuracy: 0.8383 - val_loss: 0.3148 - val_accuracy: 0.9062\n",
            "Epoch 9/10\n",
            "235/235 [==============================] - 62s 262ms/step - loss: 0.4422 - accuracy: 0.8646 - val_loss: 0.3202 - val_accuracy: 0.8964\n",
            "Epoch 10/10\n",
            "235/235 [==============================] - 63s 265ms/step - loss: 0.4051 - accuracy: 0.8726 - val_loss: 0.2736 - val_accuracy: 0.9227\n"
          ],
          "name": "stdout"
        }
      ]
    },
    {
      "cell_type": "code",
      "metadata": {
        "colab": {
          "base_uri": "https://localhost:8080/"
        },
        "id": "K7Sgyiia4IaH",
        "outputId": "5da7a26d-5178-46b1-d07c-7942c72520cd"
      },
      "source": [
        "results_fine_tune_full_data = model_2.evaluate(test_data)"
      ],
      "execution_count": null,
      "outputs": [
        {
          "output_type": "stream",
          "text": [
            "79/79 [==============================] - 14s 176ms/step - loss: 0.3154 - accuracy: 0.9008\n"
          ],
          "name": "stdout"
        }
      ]
    },
    {
      "cell_type": "code",
      "metadata": {
        "colab": {
          "base_uri": "https://localhost:8080/"
        },
        "id": "3Xn8JlKS4KeL",
        "outputId": "c53a7d1a-9f6b-411e-8ecc-ad5bd4390436"
      },
      "source": [
        "# How did fine-tuning go with more data?\n",
        "compare_historys(orignal_history=history_10_percent_data_aug,\n",
        "                 new_history=history_fine_10_classes_full,\n",
        "                 initial_epochs=5)"
      ],
      "execution_count": null,
      "outputs": [
        {
          "output_type": "display_data",
          "data": {
            "image/png": "[encoded data removed]",
            "text/plain": [
              "<Figure size 576x576 with 2 Axes>"
            ]
          },
          "metadata": {
            "tags": [],
            "needs_background": "light"
          }
        }
      ]
    },
    {
      "cell_type": "markdown",
      "metadata": {
        "id": "8I007ivV6buk"
      },
      "source": [
        "# Viewing our experiment data on TensorBoard"
      ]
    },
    {
      "cell_type": "markdown",
      "metadata": {
        "id": "_w-gZMRW8slI"
      },
      "source": [
        "🔑 **Note**: Remember, whatever you upload to TensorBoard.dev becomes public. If there are training logs you don't want to share, don't upload them."
      ]
    },
    {
      "cell_type": "code",
      "metadata": {
        "colab": {
          "base_uri": "https://localhost:8080/"
        },
        "id": "dk1KoUCf-A7W",
        "outputId": "1773839a-0b5e-4839-b6a7-f20af8549c81"
      },
      "source": [
        "# View tensorboard logs of transfer learning modelling experiments (should be 4 models)\n",
        "# Upload TensorBoard dev records\n",
        "!tensorboard dev upload --logdir ./transfer_learning \\\n",
        " --name \"Transfer learning experiment\"\\\n",
        " --description \"A series of different transfer learning experiments with varying amounts of data and fine-tuning\"\\\n",
        " --one_shot # exits the uploader when upload has finished"
      ],
      "execution_count": null,
      "outputs": [
        {
          "output_type": "stream",
          "text": [
            "2021-05-19 19:06:57.157268: I tensorflow/stream_executor/platform/default/dso_loader.cc:49] Successfully opened dynamic library libcudart.so.11.0\n",
            "/usr/local/lib/python3.7/dist-packages/tensorboard/uploader/server_info.py:129: RuntimeWarning: Unexpected end-group tag: Not all data was converted\n",
            "  return server_info_pb2.ServerInfoResponse.FromString(response.content)\n",
            "E0519 19:06:59.295284 140106080962432 uploader_subcommand.py:126] Server info response: \n",
            "Internal error: frontend did not specify an API server\n"
          ],
          "name": "stdout"
        }
      ]
    },
    {
      "cell_type": "code",
      "metadata": {
        "id": "d0kAgb_2-Zw7"
      },
      "source": [
        ""
      ],
      "execution_count": null,
      "outputs": []
    },
    {
      "cell_type": "code",
      "metadata": {
        "id": "Lxi0YJCY-Xbq"
      },
      "source": [
        ""
      ],
      "execution_count": null,
      "outputs": []
    }
  ]
}